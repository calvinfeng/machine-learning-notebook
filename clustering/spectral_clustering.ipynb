{
 "cells": [
  {
   "cell_type": "markdown",
   "metadata": {},
   "source": [
    "# Spectral Clustering\n",
    "Here I will derive the mathematical basics of why does spectral clustering work. I will break them into four parts. The first three parts will serve as a refresher on various mathematical topics. The final part will be putting everything together and show that spectral clustering works as intended.\n",
    "\n",
    "## Part 1 - Derivative of a Matrix\n",
    "Given matrices `A` and `x`, how to compute the following?\n",
    "\n",
    "$$\n",
    "\\frac{\\partial}{\\partial x} x^{T} A x\n",
    "$$\n",
    "\n",
    "For example:\n",
    "\n",
    "$$\n",
    "x = [x_{1}, x_{2}]\n",
    "$$"
   ]
  },
  {
   "cell_type": "code",
   "execution_count": null,
   "metadata": {
    "collapsed": true
   },
   "outputs": [],
   "source": []
  }
 ],
 "metadata": {
  "kernelspec": {
   "display_name": "Python 2",
   "language": "python",
   "name": "python2"
  },
  "language_info": {
   "codemirror_mode": {
    "name": "ipython",
    "version": 2
   },
   "file_extension": ".py",
   "mimetype": "text/x-python",
   "name": "python",
   "nbconvert_exporter": "python",
   "pygments_lexer": "ipython2",
   "version": "2.7.6"
  }
 },
 "nbformat": 4,
 "nbformat_minor": 0
}
