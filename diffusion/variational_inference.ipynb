{
 "cells": [
  {
   "cell_type": "markdown",
   "id": "a2fd776a",
   "metadata": {},
   "source": [
    "# Approximate Inference"
   ]
  },
  {
   "cell_type": "markdown",
   "id": "1cc5249b",
   "metadata": {},
   "source": [
    "> Many probablistic models are difficult to train because it is difficult to perform inference in them. In the context of deep learning, we usually have a set of visible variables $x$ and a set of latent variables $z$. The challenge of inference refers to the difficult problem of computing posterior $p(z \\mid x)$ or taking expectations with respect to it. Such operations are often necessary for tasks like maximum likelihood learning.\n",
    "\n",
    "In deep learning, the posterior in general means given a visible variable, e.g. an input, what's the probability distribution of the latent variables e.g. hidden layer activation. So we have posterior of the following form."
   ]
  },
  {
   "cell_type": "markdown",
   "id": "7c9822a2",
   "metadata": {},
   "source": [
    "$$\n",
    "p(z\\mid x) = \\frac{p(x \\mid z) p(z)}{p(x)} = \\frac{p_{joint}(z, x)}{p(x)}\n",
    "$$\n",
    "\n",
    "However, the problem is we can't compute the denominator a.k.a. the marginal probability `p(x)`.\n",
    "\n",
    "$$\n",
    "p(x) = \\int_{-\\infty}^{\\infty} p(z, x) dz\n",
    "$$\n",
    "\n",
    "This integral requires us to sum over all possible values of `z`. There is no closed form solution of this integral over a joint distribution. We have to iterate through all possible values of `z`. It becomes unfeasible if `z` is high dimensional vector. Thus, we need a way to approximate this posterior $p(z /mid x)$."
   ]
  },
  {
   "cell_type": "markdown",
   "id": "844ea0cd",
   "metadata": {
    "tags": []
   },
   "source": [
    "## Inference as Optimization"
   ]
  },
  {
   "cell_type": "markdown",
   "id": "1d1917ed",
   "metadata": {},
   "source": [
    "> Many approaches to confronting the problem of difficult inference make use of the observation that exact inference can be described as an optimization problem."
   ]
  },
  {
   "cell_type": "markdown",
   "id": "8329e74e",
   "metadata": {
    "tags": []
   },
   "source": [
    "### ELBO"
   ]
  },
  {
   "cell_type": "markdown",
   "id": "9b19ccf2",
   "metadata": {},
   "source": [
    "Resources\n",
    "- [Variational Inference, Part 1](https://www.youtube.com/watch?v=UTMpM4orS30)\n",
    "- [Variational Inference, Part 2](https://www.youtube.com/watch?v=VWb0ZywWpqc)\n",
    "- [Variational Inference, Part 3](https://www.youtube.com/watch?v=4LuA5m5Hsxc)\n",
    "- [Deep Learning Book](https://www.deeplearningbook.org/contents/inference.html)"
   ]
  },
  {
   "cell_type": "markdown",
   "id": "4cd35e37",
   "metadata": {},
   "source": [
    "Assume that we have a probabilistic model with parameters $\\theta$. It takes observed input $x$ and generates latent output $z$. We want to update $\\theta$ such that it maximizes the likelihood of our model producing the observed data distribution. We will never know the true distribution of our inputs because we are only given the snapshots. For example, if `x`s are pixels of images, it's impossible for us to know the true distribution of pixels across all images. At best, we can only come up with a modeled distribution that aims to maximizes the likelihood of observed data.\n",
    "\n",
    "$$\n",
    "\\text{argmax}_\\theta \\Sigma_{i=1}^{N} log\\;p_\\theta(x_i)\n",
    "$$\n",
    "\n",
    "It is too difficult to calculate the distribution of $x$ because we need to marginalize out $z$. We can get away by computing a lower bound on $log\\;p_\\theta(x)$. This bound is called the **evidence lower bound**(ELBO). \n",
    "\n",
    "$$\n",
    "\\mathbb{L}(x, \\theta, q) = log\\;p_\\theta(x) - D_{KL}\\left[\\; q(z \\mid x) \\;\\|\\; p_\\theta(z \\mid x) \\right] \\text{where q is an arbitrary probability distribution over z}\n",
    "$$\n",
    "\n",
    "\n",
    "The difference between the $log\\;p_\\theta(x)$ and $\\mathbb{L}$ is the KL divergence term. KL divergence is always non-negative. We can see that lower bound becomes the true distribution if we can minimize the KL divergence term to 0. It goes to zero when $q$ is the same distribution as $p(z \\mid x)$."
   ]
  },
  {
   "cell_type": "markdown",
   "id": "eb8c62df",
   "metadata": {},
   "source": [
    "We can re-arrange $\\mathbb{L}$ algebraically.\n",
    "\n",
    "$$\n",
    "\\begin{align}\n",
    "\\mathbb{L}(x, \\theta, q) \n",
    "&= log\\;p_\\theta(x) - D_{KL}\\left[\\; q(z \\mid x) \\;\\|\\; p_\\theta(z \\mid x) \\right] \\\\ \n",
    "&= log\\;p_\\theta(x) - \\mathbb{E}_{z\\sim q} log\\frac{q(z \\mid x)}{p(z \\mid x)} \\\\\n",
    "&= log\\;p_\\theta(x) - \\mathbb{E}_{z\\sim q} log\\left( q(z\\mid x) \\frac{p_\\theta(x)}{ p_\\theta(x, z)} \\right) \\\\\n",
    "&= log\\;p_\\theta(x) - \\mathbb{E}_{z\\sim q} \\left[ log\\;q(z \\mid x) - log\\;p_\\theta(x, z) + log\\;p_\\theta(x) \\right]\n",
    "\\end{align}\n",
    "$$\n",
    "\n",
    "Since we have expected value of $log\\;p_\\theta(x)$ with respect to $h$, we can say this is taking the expected value of a constant. This will cancel out the first term. Here we have the final form.\n",
    "\n",
    "$$\n",
    "\\mathbb{L}(x, \\theta, q) = - \\mathbb{E}_{z\\sim q} \\left[ log\\;q(z \\mid x) - log\\;p_\\theta(x, z)\\right]\n",
    "$$\n",
    "\n",
    "The inference can be thought of as the procedure for finding the $q$ that maximizes the lower bound $\\mathbb{L}$. Whether the lower bound is tight (close approximation to $p(x)$) or loose, it's dependent on the choice of $q$ we pick. $\\mathbb{L}$ is significantly easier to compute when we choose easy distribution $q$, e.g. a Gaussian distribution with mean and variance as the only parameters. "
   ]
  },
  {
   "cell_type": "markdown",
   "id": "41a4e2ba",
   "metadata": {},
   "source": [
    "## TensorFlow Example"
   ]
  },
  {
   "cell_type": "markdown",
   "id": "8703cd7e",
   "metadata": {},
   "source": [
    "This example is taken from [Convolutional Variational Autoencoder](https://www.tensorflow.org/tutorials/generative/cvae)."
   ]
  },
  {
   "cell_type": "markdown",
   "id": "14faa7b5",
   "metadata": {},
   "source": [
    "Given that we have the ELBO definition from section above. We can define a lower bound for our loss as \n",
    "\n",
    "$$\n",
    "\\begin{align}\n",
    "L\n",
    "&= log\\;p_\\theta(x) \\geq \\mathbb{E}_{z\\sim q}\\left[ log\\;p_\\theta(x, z) - log\\;q(z \\mid x) \\right] \\\\\n",
    "&\\geq \\mathbb{E}_{z\\sim q}\\left[ log\\;p_\\theta(x \\mid z) + log\\;p_\\theta(z) - log\\;q(z \\mid x) \\right]\n",
    "\\end{align}\n",
    "$$\n",
    "\n",
    "This is because joint distribution can be written as conditional probability.\n",
    "\n",
    "$$\n",
    "p_\\theta(x, z) = p_\\theta(x \\mid z) p_\\theta(z)\n",
    "$$\n",
    "\n",
    "In practice, we cannot compute the exact expected value of the expression. We will rely on a single sample per forward propagation to perform a Monte Carlo estimate.\n",
    "\n",
    "$$\n",
    "L = log\\;p(x \\mid z) + log\\;p(z) - log\\;q(z\\mid x)\n",
    "$$\n",
    "\n",
    "This is quite similar to the idea in cross entropy where we try to learn the distribution of labels by measuring the difference target and predicted distribution. We cannot know the exact expected value of target distribution so we approximate it using the same technique."
   ]
  },
  {
   "cell_type": "code",
   "execution_count": 7,
   "id": "94b766a4",
   "metadata": {},
   "outputs": [],
   "source": [
    "import tensorflow as tf\n",
    "import numpy as np\n",
    "\n",
    "from tensorflow.keras import layers, Sequential\n",
    "\n",
    "\n",
    "class CVAE(tf.keras.Model):\n",
    "    \"\"\"Convolutional Variational Autoencoder.\"\"\"\n",
    "    def __init__(self, latent_dim):\n",
    "        super(CVAE, self).__init__()\n",
    "        self.latent_dim = latent_dim\n",
    "        self.encoder = Sequential([\n",
    "            layers.InputLayer(input_shape=(28, 28, 1)),\n",
    "            layers.Conv2D(filters=32, kernel_size=3, strides=(2, 2), activation='relu'),\n",
    "            layers.Conv2D(filters=64, kernel_size=3, strides=(2, 2), activation='relu'),\n",
    "            layers.Flatten(),\n",
    "            # No activation\n",
    "            layers.Dense(latent_dim + latent_dim),\n",
    "        ])\n",
    "\n",
    "        self.decoder = tf.keras.Sequential([\n",
    "            layers.InputLayer(input_shape=(latent_dim,)),\n",
    "            layers.Dense(units=7*7*32, activation=tf.nn.relu),\n",
    "            layers.Reshape(target_shape=(7, 7, 32)),\n",
    "            layers.Conv2DTranspose(filters=64, kernel_size=3, strides=2, padding='same', activation='relu'),\n",
    "            layers.Conv2DTranspose(filters=32, kernel_size=3, strides=2, padding='same', activation='relu'),\n",
    "            # No activation\n",
    "            layers.Conv2DTranspose(filters=1, kernel_size=3, strides=1, padding='same'),\n",
    "        ])\n",
    "\n",
    "    @tf.function\n",
    "    def sample(self, z=None):\n",
    "        if z is None:\n",
    "            z = tf.random.normal(shape=(100, self.latent_dim))\n",
    "        return self.decode(z, apply_sigmoid=True)\n",
    "\n",
    "    def encode(self, x):\n",
    "        mean, logvar = tf.split(self.encoder(x), num_or_size_splits=2, axis=1)\n",
    "        return mean, logvar\n",
    "\n",
    "    def reparameterize(self, mean, logvar):\n",
    "        eps = tf.random.normal(shape=mean.shape)\n",
    "        return eps * tf.exp(logvar * .5) + mean\n",
    "\n",
    "    def decode(self, z, apply_sigmoid=False):\n",
    "        logits = self.decoder(z)\n",
    "        if apply_sigmoid:\n",
    "            probs = tf.sigmoid(logits)\n",
    "            return probs\n",
    "        return logits"
   ]
  },
  {
   "cell_type": "markdown",
   "id": "d2251018",
   "metadata": {},
   "source": [
    "The VAE has encoder and decoder. The encoder consumes an observable variable `x` vector and produces a latent variable `z` via reparametrization. We choose Gaussian distribution to be our $q(z \\mid x)$ distribution."
   ]
  },
  {
   "cell_type": "markdown",
   "id": "d8fbb265",
   "metadata": {},
   "source": [
    "**Why Reparametrization?**\n",
    "\n",
    "`z` is supposed to be sampled from a Gaussian distribution but gradient cannot flow through a `tf.random.normal` function. We need to reparametrize `z` such that the gradient is not dependent on `tf.random.normal`.\n",
    "\n",
    "We can generate a unit Gaussian from `tf.random.normal` and redefine `z` as follows.\n",
    "\n",
    "$$\n",
    "z = \\mu + \\sigma \\cdot \\epsilon\n",
    "$$\n",
    "\n",
    "where $\\epsilon$ is sampled from a unit Gaussian distribution."
   ]
  },
  {
   "cell_type": "code",
   "execution_count": 32,
   "id": "9d9d759f",
   "metadata": {},
   "outputs": [],
   "source": [
    "def log_normal_pdf(sample, mean, logvar, raxis=1):\n",
    "    log_2pi = tf.math.log(2. * np.pi)\n",
    "    return tf.reduce_sum(-.5 * ((sample - mean) ** 2. * tf.exp(-logvar) + logvar + log_2pi), axis=raxis)\n",
    "\n",
    "\n",
    "def compute_loss(model, x):\n",
    "    mean, logvar = model.encode(x)\n",
    "    z = model.reparameterize(mean, logvar)\n",
    "    x_logit = model.decode(z)\n",
    "    cross_ent = tf.nn.sigmoid_cross_entropy_with_logits(logits=x_logit, labels=x)\n",
    "    log_p_x_z = -tf.reduce_sum(cross_ent, axis=[1, 2, 3])\n",
    "    log_p_z = log_normal_pdf(z, 0., 0.)\n",
    "    log_q_z_x = log_normal_pdf(z, mean, logvar)\n",
    "    return -tf.reduce_mean(log_p_x_z + log_p_z - log_q_z_x)"
   ]
  },
  {
   "cell_type": "markdown",
   "id": "fbf2b454",
   "metadata": {},
   "source": [
    "This example uses `logvar` for numerical stability. We can get rid of the `log` from `tf.exp(logvar / 2)` because \n",
    "\n",
    "$$\n",
    "log(\\text{variance}) = log(\\sigma^2) = 2\\;log(\\sigma)\n",
    "$$\n",
    "\n",
    "$$\n",
    "\\sigma = e^{(log(\\text{variance}) / 2)}\n",
    "$$"
   ]
  },
  {
   "cell_type": "code",
   "execution_count": 33,
   "id": "421f03ba",
   "metadata": {},
   "outputs": [
    {
     "name": "stdout",
     "output_type": "stream",
     "text": [
      "Shape of input x (1, 28, 28, 1)\n",
      "Shape of latent vector z (1, 10)\n",
      "Shape of output y (1, 28, 28, 1)\n",
      "tf.Tensor(-0.26499367, shape=(), dtype=float32)\n"
     ]
    },
    {
     "data": {
      "text/plain": [
       "<tf.Tensor: shape=(1,), dtype=float32, numpy=array([2.3094783e-06], dtype=float32)>"
      ]
     },
     "execution_count": 33,
     "metadata": {},
     "output_type": "execute_result"
    }
   ],
   "source": [
    "latent_dim = 10\n",
    "model = CVAE(latent_dim)\n",
    "x = np.random.randn(1, 28, 28, 1)\n",
    "print('Shape of input x', x.shape)\n",
    "mean, logvar = model.encode(x)\n",
    "z = model.reparameterize(mean, logvar)\n",
    "print('Shape of latent vector z', z.shape)\n",
    "y = model.decode(z)\n",
    "print('Shape of output y', y.shape)\n",
    "\n",
    "print(tf.reduce_sum(z))\n",
    "tf.exp(log_normal_pdf(z, 0., 0.))"
   ]
  },
  {
   "cell_type": "markdown",
   "id": "9c80d329",
   "metadata": {},
   "source": [
    "## Loss Explained"
   ]
  },
  {
   "cell_type": "markdown",
   "id": "ce54919a",
   "metadata": {},
   "source": [
    "Let $x$ be our input and $\\hat{x}$ be our output. Our objective is to set $x \\approx \\hat{x}$"
   ]
  },
  {
   "cell_type": "markdown",
   "id": "0edd6cc7",
   "metadata": {},
   "source": [
    "```py\n",
    "logp_x_z = -tf.reduce_sum(cross_ent, axis=[1, 2, 3])\n",
    "```\n",
    "\n",
    "$log\\;p(x\\mid z)$ is equivalent to asking how far apart is the distribution of output $\\hat{x}$ given that we have `z` (which comes from input $x$) away from the distribution of $x$. This is known as the **reconstruction loss**."
   ]
  },
  {
   "cell_type": "markdown",
   "id": "3b716aa7",
   "metadata": {},
   "source": [
    "```py\n",
    "log_p_z = log_normal_pdf(z, 0., 0.)\n",
    "log_q_z_x = log_normal_pdf(z, mean, logvar)\n",
    "```\n",
    "\n",
    "These two terms reprsent the **KL divergence**. It asks how far apart is model's encoder output `z` distribution away from the expected Gaussian distribution of `z`. This divergence is expressed in terms of log density ratio which derivation can be found on [Density Ratio Estimation for KL Divergence Minimzation Between Implicit Distributions](https://tiao.io/post/density-ratio-estimation-for-kl-divergence-minimization-between-implicit-distributions/). \n",
    "\n",
    "When we set `mean=0` and `logvar=0` for $p(z) = $ `log_normal_pdf(z, 0, 0)`. We will obtain `mean=0` and `var=1` which is saying that `z` is sampled from a standard Gaussian probability density function.\n",
    "\n",
    "If the loss is minimized, model $p(z)$ will match the enforced Gaussian distribution $q(z \\mid x)$. We selectively chose a distribution for $q$. This loss minimization is encouraging the model to learn the selected distribution $q$.\n"
   ]
  },
  {
   "cell_type": "markdown",
   "id": "cf652585",
   "metadata": {},
   "source": [
    "Another way to write the KL divergence loss without the log normal probability density function is\n",
    "\n",
    "```py\n",
    "kl_loss = -0.5 * (1 + logvar - mean**2 - tf.exp(logvar)\n",
    "```"
   ]
  }
 ],
 "metadata": {
  "kernelspec": {
   "display_name": "Python 3",
   "language": "python",
   "name": "python3"
  },
  "language_info": {
   "codemirror_mode": {
    "name": "ipython",
    "version": 3
   },
   "file_extension": ".py",
   "mimetype": "text/x-python",
   "name": "python",
   "nbconvert_exporter": "python",
   "pygments_lexer": "ipython3",
   "version": "3.8.10"
  }
 },
 "nbformat": 4,
 "nbformat_minor": 5
}
