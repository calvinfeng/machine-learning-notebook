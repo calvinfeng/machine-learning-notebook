{
 "cells": [
  {
   "cell_type": "markdown",
   "metadata": {
    "deletable": true,
    "editable": true
   },
   "source": [
    "# Policy Gradients\n",
    "The problem with Q-learning is that Q-function can be very complicated. For a problem with high-dimensional state, it is hard to learn exact or accurate Q-value for every pair of state-action. However, policy can be much simpler. The question is can we learn a policy directly?\n",
    "\n",
    "\n",
    "We will define a class of parametrized policies\n",
    "\n",
    "$$\n",
    "\\prod = \\left\\{ \\pi^{\\theta}, \\theta \\in \\mathbb{R}^{m} \\right\\}\n",
    "$$\n",
    "\n",
    "For each policy, we will define its value as\n",
    "\n",
    "$$\n",
    "J(\\theta) = \\mathbb{E} \\left[ \\Sigma \\; \\gamma^{t} r_{t} \\mid \\pi^{\\theta} \\right]\n",
    "$$\n",
    "\n",
    "We want to find the optimal policy that will give us the best expected reward.\n",
    "\n",
    "$$\n",
    "\\theta^{*} = argmax_{\\theta} \\; J(\\theta)\n",
    "$$\n",
    "\n"
   ]
  },
  {
   "cell_type": "markdown",
   "metadata": {
    "deletable": true,
    "editable": true
   },
   "source": [
    "## Reinforce Algorithm\n",
    "### Formulation\n",
    "Mathematically we can write\n",
    "\n",
    "$$\n",
    "J(\\theta) = \\int r(\\tau)p(\\tau;\\theta)\\; d\\tau\n",
    "$$ \n",
    "\n",
    "And $r(\\tau)$ is the reward of a state transition trajectory\n",
    "\n",
    "$$\n",
    "\\tau = (s_{0}, a_{0}, r_{0}, s_{1}, ...)\n",
    "$$\n",
    "\n",
    "We want to do gradient ascent to **maximize** the expected reward from the policy. So we need to differentiate the integral!\n",
    "\n",
    "$$\n",
    "\\nabla_{\\theta} J(\\theta) = \\int r(\\tau) \\nabla_{\\theta}\\; p(\\tau;\\theta)\\; d\\tau\n",
    "$$\n",
    "\n",
    "However, this is intractable. Gradient of an expectation value is problematic because probability depends on $\\theta$. But, personally I don't see why this is the case. **NOTE**: Figure this shit out.\n",
    "\n",
    "Here's a trick to do\n",
    "$$\n",
    "\\nabla_{\\theta} p(\\tau;\\theta) = p(\\tau;\\theta) \\frac{\\nabla_{\\theta}p(\\tau;\\theta)}{p(\\tau;\\theta)} =\n",
    "p(\\tau;\\theta)\\nabla_{\\theta}log\\;p(\\tau;\\theta)\n",
    "$$\n",
    "\n",
    "Then we inject it back into the original integral\n",
    "$$\n",
    "\\nabla_{\\theta} J(\\theta) = \\int \\left(r(\\tau) \\nabla_{\\theta}\\; log\\; p(\\tau;\\theta)\\right)p(\\tau;\\theta)\\;d\\tau\n",
    "= \\mathbb{E}\\left[ r(\\tau) \\nabla_{\\theta} log \\; p (\\tau;\\theta) \\right]\n",
    "$$\n",
    "\n",
    "We can estimate with Monte Carlo sampling."
   ]
  },
  {
   "cell_type": "markdown",
   "metadata": {},
   "source": [
    "### Gradient Estimation\n",
    "How can we compute the integral without knowing the transition probabilities? We know that probability of a state transition trajectory is the following.\n",
    "\n",
    "$$\n",
    "p(\\tau\\;;\\theta) = \\prod p(s_{t + 1} \\mid s_{t}, a_{t}) \\pi_{\\theta}(a_{t} \\mid s_{t})\n",
    "$$\n",
    "\n",
    "Now if we take the log of the above expression, we get the following.\n",
    "\n",
    "$$\n",
    "log\\; p(\\tau\\;;\\theta) = \\Sigma\\; log\\; p(s_{t + 1} \\mid s_{t}, a_{t}) + log\\; \\pi_{\\theta}(a_{t} \\mid s_{t})\n",
    "$$\n",
    "\n",
    "Once we differentiate this expression with respect to $\\theta$ then we can see that it does not depend on transition probabilities!!!\n",
    "\n",
    "$$\n",
    "\\nabla_{\\theta}\\; log\\; p(\\tau;\\theta) = \\Sigma\\;\\nabla_{\\theta} log \\pi_{\\theta}(a_{t} \\mid s_{t})\n",
    "$$\n",
    "\n",
    "Therefore, when we sample a trajectory $\\tau$, we can estimate $J(\\theta)$ with the following.\n",
    "\n",
    "$$\n",
    "\\nabla_{\\theta} J(\\theta) = \\Sigma_{t \\geq 0} \\; r(\\tau) \\nabla_{\\theta} log\\; \\pi_{\\theta}(a_{t} \\mid s_{t})\n",
    "$$"
   ]
  },
  {
   "cell_type": "markdown",
   "metadata": {},
   "source": [
    "### Intuition\n",
    "Now we have defined out gradient estimator.\n",
    "\n",
    "$$\n",
    "\\nabla_{\\theta} J(\\theta) \\approx \\Sigma_{t \\geq 0} \\; r(\\tau) \\nabla_{\\theta} log\\; \\pi_{\\theta}(a_{t} \\mid s_{t})\n",
    "$$\n",
    "\n",
    "Here is the interpretation:\n",
    "* If reward from the trajectory $\\tau$ is high, i.e. $r(\\tau)$ is high, then gradient ascent will increase the probabilities of the actions seen.\n",
    "* If reward from the  trajectory $\\tau$ is low, i.e. $r(\\tau)$ is low, then gradient ascent will decrease the probabilities of the actions seen.\n",
    "\n",
    "It may seem simplistic to say that if a trajectory is good, then all its actions are good. Howevr, it averages out in expectation."
   ]
  },
  {
   "cell_type": "markdown",
   "metadata": {},
   "source": [
    "### Variance Reduction\n",
    "Suppose you want to train the agent such that it always takes the best action in every time step for a given state. The estimator does not specifically do that for you. It only looks at a whole trajectory and makes some estimation about what is good and what is bad. It does not train itself to make the best decision at every time step. Thus, although we may have a good reward trajectory, individual actions within this trajectory are not guaranteed to be the best choice. However, it works out if we have enough samples. The estimator requires a lot of samples to become unbiased in its gradient estimation. The challenge is, how can we reduce variance when samples are small.\n",
    "\n",
    "#### Approach #1\n",
    "Push up probabilities of an action seen, only by the cumulative future reward from that state.\n",
    "\n",
    "$$\n",
    "\\nabla_{\\theta}J(\\theta) \\approx \\Sigma_{t \\geq 0} \\; \\left( \\Sigma_{t^{\\prime} \\geq t} r_{t^{\\prime}} \\right) \\nabla_{\\theta} log\\; \\pi_{\\theta} (a_{t} \\mid s_{t})\n",
    "$$\n",
    "\n",
    "#### Approach #2\n",
    "Use discount factor gamma to ignore delayed effects\n",
    "\n",
    "$$\n",
    "\\nabla_{\\theta}J(\\theta) \\approx \\Sigma_{t \\geq 0} \\; \\left( \\Sigma_{t^{\\prime} \\geq t} \\gamma^{t^{\\prime} - t} r_{t^{\\prime}} \\right) \\nabla_{\\theta} log\\; \\pi_{\\theta} (a_{t} \\mid s_{t})$$"
   ]
  },
  {
   "cell_type": "markdown",
   "metadata": {},
   "source": [
    "## AlphaGo Example\n",
    "AlphaGo employs a mix of supervised learning and reinforcement learning to beat world champions in Go. Here is the high level overview of how AlphaGo was trained and implemented.\n",
    "\n",
    "* Featurize the board by stone color and positions, move legality, bias and etc...\n",
    "* Initialize a policy network with supervised learning from professional Go games, i.e. using a deep neural network to map states to actions. \n",
    "* Continue the training using policy gradient by playing against itself from random previous iterations, +1 or -1 reward for winning or losing.\n",
    "* Learn value network for critic\n",
    "* Finally, combine policy and value networks in a Monte Carlo Tree Search algorithm to select actions by look ahead search."
   ]
  },
  {
   "cell_type": "code",
   "execution_count": null,
   "metadata": {
    "collapsed": true
   },
   "outputs": [],
   "source": []
  }
 ],
 "metadata": {
  "kernelspec": {
   "display_name": "Python 2",
   "language": "python",
   "name": "python2"
  },
  "language_info": {
   "codemirror_mode": {
    "name": "ipython",
    "version": 2
   },
   "file_extension": ".py",
   "mimetype": "text/x-python",
   "name": "python",
   "nbconvert_exporter": "python",
   "pygments_lexer": "ipython2",
   "version": "2.7.6"
  }
 },
 "nbformat": 4,
 "nbformat_minor": 0
}
