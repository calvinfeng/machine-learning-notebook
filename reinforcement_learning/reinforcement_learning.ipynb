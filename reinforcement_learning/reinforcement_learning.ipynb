{
 "cells": [
  {
   "cell_type": "markdown",
   "metadata": {},
   "source": [
    "# Deep Reinforcement Learning\n",
    "\n",
    "In a reinforcement learning setup, we have an agent and an environment. The environment gives the agent a state `s[t]` which is a function of time step. The agent will perform an action based on the given state. The environment will then give back either a reward or a punishment for the action performed. The process goes on and on until the environment gives the agent a terminal state.\n",
    "\n",
    "<img src=\"assets/reinforcement_learning.png\" width=500/>"
   ]
  },
  {
   "cell_type": "markdown",
   "metadata": {},
   "source": [
    "## Markov Decision Process\n",
    "We can mathematically formualize a reinforcement learning problem as a Markov decision process, such that current state of the agent completely characterizes the state of the *world*. \n",
    "\n",
    "The process is defined by a tuple of objects:\n",
    "$$\n",
    "\\left( S, A, R, P, \\gamma \\right)\n",
    "$$\n",
    "\n",
    "* $S$ is a set of possible states.\n",
    "* $A$ is a set of possible actions.\n",
    "* $R$ is a distribution of reward, given the state-action pair.\n",
    "* $P$ is a transition probability, i.e. distribution over the next state given state-action pair.\n",
    "* $\\gamma$ is a discount factor.\n",
    "\n",
    "### Procedure\n",
    "1. At time step `t=0`, environment samples an initial state $s_{0}$ using the initial state probability distributions.\n",
    "2. For `t=0` until `t=final`:\n",
    "    * Agent selects an action $a_{t}$.\n",
    "    * Environment samples reward $r_{t}$ using the distribution set $R$.\n",
    "    * Environment samples next state $s_{t+1}$ using probaility transition $P$.\n",
    "    * Agent receives reward $r_{t}$ and next state $s_{t+1}$.\n",
    "3. A policy $\\pi$ is a function that maps from $S$ to $A$ that specifies what action to take in each state.\n",
    "\n",
    "**Objective** is to find policy $\\pi$ that maximizes cumulative discounted reward:\n",
    "\n",
    "$$\n",
    "\\Sigma_{t > 0} \\gamma^{t}r_{t}\n",
    "$$\n",
    "    "
   ]
  },
  {
   "cell_type": "markdown",
   "metadata": {},
   "source": [
    "### Example: Grid World\n",
    "We are given a grid, and the coordinates of the grid represent the states for our agent. The objective is to get the terminal states (starred states) with the least number of step, starting from an initial state. \n",
    "\n",
    "<img src=\"assets/grid_world.png\" width=600 />\n",
    "\n",
    "A random policy is to sample random actions at any given state while an optimal policy will limit sampling options depending on state.\n",
    "\n",
    "<img src=\"assets/optimal_policy.png\" width=500 />"
   ]
  },
  {
   "cell_type": "markdown",
   "metadata": {},
   "source": [
    "### Optimal Policy\n",
    "The optimal policy maximizes the sum of rewards but there are quite a few randomness involved in the decision process. Thus, we actually need to maximize the **expected** sum of rewards. Formally speaking:\n",
    "\n",
    "$$\n",
    "\\pi = argmax \\;\\mathbf{E}\\left(\\Sigma \\gamma^{t}r_{t} \\;\\mid\\; \\pi \\right)\n",
    "$$"
   ]
  },
  {
   "cell_type": "markdown",
   "metadata": {},
   "source": [
    "## Q-Learning\n",
    "We know vaguely what an optimal policy is, but we don't know how to find it and how to define it formally. Before we learn how to find it, we must first define couple terms. When our agent follows a policy, it produces a sample trajectory that is composed of states, actions, and rewards:\n",
    "\n",
    "$$\n",
    "\\{s_{0}, \\; a_{0}, \\; r_{0}\\}, \\; \\{s_{1}, \\; a_{1}, \\; r_{1}\\}, \\; ...\n",
    "$$\n",
    "\n",
    "### Value Function\n",
    "The **value function** at state `s`, is the expected cumulative reward from following the policy from state `s`. This gives us an idea of how *good* is a state. \n",
    "\n",
    "$$\n",
    "V(s) = \\mathbf{E} \\left( \\Sigma \\gamma^{t}r_{t} \\; \\mid \\; s_{0} = s, \\pi \\right)\n",
    "$$\n",
    "\n",
    "### Q Function\n",
    "The **Q-value function** at state `s` and action `a`, is the expected cumulative reward from taking action `a` in state `s` and then following the policy from state `s` and action `a`. This gives us an idea of how *good* is a state-action pair.\n",
    "\n",
    "$$\n",
    "Q(s, a) = \\mathbf{E} \\left( \\Sigma \\gamma^{t}r_{t} \\; \\mid \\; s_{0} = s, a_{0} = a, \\pi \\right)\n",
    "$$\n",
    "\n",
    "### Bellman Equation\n",
    "The optimal Q-value function `Q*` is the maximum expected cumulative reward achievable from a given state-action pair.\n",
    "\n",
    "$$\n",
    "Q^{*}(s, a)  = max \\; \\mathbf{E} \\left( \\Sigma \\gamma^{t}r_{t} \\; \\mid \\; s_{0} = s, a_{0} = a, \\pi \\right)\n",
    "$$\n",
    "\n",
    "`Q*` will satisfy the following **Bellman Equation**:\n",
    "\n",
    "$$\n",
    "Q^{*}(s, a) = \\mathbf{E} \\left(r + \\gamma \\; max \\; Q^{*}(s^{\\prime}, a^{\\prime}) \\mid s, a\\right)\n",
    "$$\n",
    "\n",
    "If the optimal state-action values for the next time-step $Q^{*}(s^{\\prime}, a^{\\prime})$ are known, then the optimal strategy is to take the action that maximizes the expected value of $r + \\gamma Q^{*}(s^{\\prime}, a^{\\prime})$. The optimal policy $\\pi^{*}$ corresponds to taking the best action in any state as specified by $Q^{*}$."
   ]
  }
 ],
 "metadata": {
  "kernelspec": {
   "display_name": "Python 2",
   "language": "python",
   "name": "python2"
  },
  "language_info": {
   "codemirror_mode": {
    "name": "ipython",
    "version": 2
   },
   "file_extension": ".py",
   "mimetype": "text/x-python",
   "name": "python",
   "nbconvert_exporter": "python",
   "pygments_lexer": "ipython2",
   "version": "2.7.12"
  }
 },
 "nbformat": 4,
 "nbformat_minor": 0
}
