{
 "cells": [
  {
   "cell_type": "markdown",
   "metadata": {
    "deletable": true,
    "editable": true
   },
   "source": [
    "# LSTM (Long Short-term Memory)\n",
    "## Exploding Gradient in Vanilla RNN\n",
    "Recall that our RNN model:\n",
    "\n",
    "$$\n",
    "h_{t} = tanh(W_{hh} h_{t-1} + W_{xh}x_{t})\n",
    "$$\n",
    "\n",
    "$$\n",
    "h_{t} = tanh \\begin{pmatrix} (W_{hh} W_{xh}) \\begin{pmatrix} h_{t-1} \\\\ x_{t} \\end{pmatrix} \\end{pmatrix}\n",
    "$$\n",
    "\n",
    "$$\n",
    "h_{t} = tanh \\begin{pmatrix} W \\begin{pmatrix} h_{t-1} \\\\ x_{t} \\end{pmatrix} \\end{pmatrix}\n",
    "$$\n",
    "\n",
    "For every time step of a sequence, we backprogate from `h[t]` to `h[t-1]`. First the gradient will flow through the `tanh` gate and then to matrix multiplication gate. As we know, whenever we backprop into matrix multiplication gate, the upstream gradient is multiplied by the tranpose of the `W` matrix. This happens at every time step throughout the sequence. What if the sequence is very long?\n",
    "\n",
    "![rnn-gradient-flow](assets/rnn-gradient-flow.png)\n",
    "\n",
    "The final expression for gradient on `h[0]` will involve many factors of this weight matrix. This will either lead to an exploding gradient problem or vanishing gradient problem. There' a simple hack to address this problme, which is using `numpy.clip`. However, if the problem is vanishing gradient, clipping isn't going to help."
   ]
  },
  {
   "cell_type": "markdown",
   "metadata": {
    "deletable": true,
    "editable": true
   },
   "source": [
    "## Introducing LSTM\n",
    "\n",
    "LSTM has a fancier recurrence relation than the vanilla RNN. LSTM has two states, one is being the usual hidden state `h[t]` we see in vanilla RNN and another one is called the cell state `c[t]`. Cell state is an internal vector that is not exposed to the outside world. \n",
    "\n",
    "Let's define some terminologies here: \n",
    "\n",
    "* `f` **forget gate**: whether to erase cell\n",
    "* `i` **input gate**: whether to write to cell\n",
    "* `g` **gate gate**: how much to write to cell\n",
    "* `o` **output gate**: how much to reveal cell\n",
    "\n",
    "$$\n",
    "\\begin{pmatrix} i \\\\ f \\\\ o \\\\ g \\end{pmatrix} = \\begin{pmatrix} \\sigma \\\\ \\sigma \\\\ \\sigma \\\\ tanh \\end{pmatrix}\n",
    "W \\begin{pmatrix} h_{t - 1} \\\\ x_{t} \\end{pmatrix}\n",
    "$$\n",
    "\n",
    "**Note** that the sigma symbol represents sigmoid activation function.\n",
    "\n",
    "$$\n",
    "c_{t} = f \\odot c_{t - 1} + i \\odot g\n",
    "$$\n",
    "\n",
    "which is equivalent to \n",
    "\n",
    "$$\n",
    "c_{t} = \\sigma(W_{hhf} h_{t-1} + W_{xhf} x_{t}) \\odot c_{t-1} + \\sigma(W_{hhi} h_{t-1} + W_{xhi} x_{t}) \\odot tanh(W_{hhg} h_{t-1} + W_{xhg} x_{t})\n",
    "$$\n",
    "\n",
    "And\n",
    "\n",
    "$$\n",
    "h_{t} = o \\odot tanh(c_{t})\n",
    "$$\n",
    "\n",
    "which is equivalent to\n",
    "\n",
    "$$\n",
    "h_{t} = \\sigma \\begin{pmatrix} W_{hho} h_{t-1} + W_{xho} x_{t} \\end{pmatrix} \\odot tanh(c_{t})\n",
    "$$\n",
    "\n",
    "We take the previous cell state and hidden state as the inputs to our LSTM cell. The previous hidden state is combined with the input vector and multiply with the weight matrix to produce `ifog`. The forget gate multiplies element-wise with the previous cell state. The input and gate gate also multiply element wise. The two results are combined through sum elemenwise to produce a new cell state. The cell state is then squashed by a `tanh` and multiplied element-wise by the output gate to produce our next hidden state.\n",
    "![lstm](assets/lstm.png)"
   ]
  },
  {
   "cell_type": "markdown",
   "metadata": {
    "deletable": true,
    "editable": true
   },
   "source": [
    "### LSTM Gradient Flow\n",
    "Backpropagating from `c[t]` to `c[t-1]` is only element-wise multiplication by the `f` gate, and there is no matrix multiplication by W. The `f` gate is different at every time step, ranged between 0 and 1 due to sigmoid property, thus we have avoided of the problem of multiplying the same thing over and over again. \n",
    "\n",
    "Backpropagating from `h[t]` to `h[t-1]` is going through only one single `tanh` nonlinearity rather than `tanh` for every single step.\n",
    "\n",
    "![cell-state-gradient-flow](assets/cell-state-gradient-flow.png)\n",
    "\n",
    "### LSTM Forward Propagation\n",
    "The forward propagation isn't all that different from the vanilla recurrent neural network, we just now have more variables. Suppose we take a mini-batch of data, of shape `(N, T, D)`. `N` is our batch size, `T` is the size of the sequence, and `D` is the dimension of our input. \n",
    "\n",
    "For example, I have a sentence, `\"hello world I am Calvin\"`. We can treat this sentence as one input sequence with size `T=5` because it has five words. The dimension of the input depends on how we represent each word. Before we feed the sentence into a RNN, each word of the sentence has to be converted to a word vector which has dimension of `D`. "
   ]
  },
  {
   "cell_type": "code",
   "execution_count": 1,
   "metadata": {
    "collapsed": false
   },
   "outputs": [
    {
     "name": "stdout",
     "output_type": "stream",
     "text": [
      "[[[ 0.92316896  0.42683601  0.09736801  0.42345096  0.16077895]\n",
      "  [ 0.76913305  0.19142192  0.17194874  0.64221621  0.38024893]\n",
      "  [ 0.34509468  0.05679093  0.17179702  0.09890025  0.38915591]\n",
      "  [ 0.59768999  0.51223228  0.53420898  0.48474058  0.02789487]\n",
      "  [ 0.93754868  0.97818453  0.03263516  0.39473973  0.41731715]]\n",
      "\n",
      " [[ 0.93754868  0.97818453  0.03263516  0.39473973  0.41731715]\n",
      "  [ 0.06547563  0.62950683  0.88021683  0.52397818  0.48162677]\n",
      "  [ 0.92316896  0.42683601  0.09736801  0.42345096  0.16077895]\n",
      "  [ 0.76913305  0.19142192  0.17194874  0.64221621  0.38024893]\n",
      "  [ 0.91825584  0.85292219  0.11624048  0.21388636  0.39841289]]]\n",
      "\n",
      "Input sequence has shape (2, 5, 5)\n"
     ]
    }
   ],
   "source": [
    "import numpy as np\n",
    "\n",
    "# Use null token to ensure each input sentence has the same length\n",
    "raw_txt_inputs = ['hello world i am calvin', 'calvin says hello world <null>']\n",
    "word_to_idx = dict()\n",
    "\n",
    "idx = 0\n",
    "for sentence in raw_txt_inputs:\n",
    "    for word in sentence.split():\n",
    "        if word_to_idx.get(word) is None:\n",
    "            word_to_idx[word] = idx\n",
    "            idx += 1\n",
    "\n",
    "# Create a weight matrix for mapping word to its word vector representation\n",
    "vocab_size = len(word_to_idx)\n",
    "word_vec_dim = 5\n",
    "word_embedding_weight = np.random.rand(vocab_size, word_vec_dim)\n",
    "\n",
    "# Convert raw_txt_input to tensor representation\n",
    "index_sequences = []\n",
    "for sentence in raw_txt_inputs:\n",
    "    seq = []\n",
    "    for word in sentence.split():\n",
    "        seq.append(word_to_idx[word])\n",
    "    index_sequences.append(seq)\n",
    "\n",
    "input_sequences = word_embedding_weight[np.array(index_sequences)]\n",
    "\n",
    "print input_sequences\n",
    "print '\\nInput sequence has shape', input_sequences.shape"
   ]
  }
 ],
 "metadata": {
  "kernelspec": {
   "display_name": "Python 2",
   "language": "python",
   "name": "python2"
  },
  "language_info": {
   "codemirror_mode": {
    "name": "ipython",
    "version": 2
   },
   "file_extension": ".py",
   "mimetype": "text/x-python",
   "name": "python",
   "nbconvert_exporter": "python",
   "pygments_lexer": "ipython2",
   "version": "2.7.12"
  }
 },
 "nbformat": 4,
 "nbformat_minor": 0
}
