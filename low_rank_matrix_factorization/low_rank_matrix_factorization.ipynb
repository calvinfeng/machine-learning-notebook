{
 "cells": [
  {
   "cell_type": "markdown",
   "metadata": {},
   "source": [
    "# Low Rank Matrix Factorization\n",
    "\n",
    "## Formulation\n",
    "Let's assume that our system has $I_{user}$ users and $J_{movie}$ movies. We assign $K_{latent}$ features to each user and movie in the system. We can construct a matrix factorization as follows:\n",
    "\n",
    "$$\n",
    "\\begin{vmatrix}\n",
    "x_{0,0} & x_{0,1} & x_{0, 2} & ... & x_{0, K} \\\\\n",
    "x_{1,0} & ...     & ...      & ... & ...      \\\\\n",
    "x_{2,0} & ...     & ...      & ... & ...      \\\\\n",
    "...     & ...     & ...      & ... & ...      \\\\\n",
    "x_{I,0} & ...     & ...      & ... & x_{I, K}\n",
    "\\end{vmatrix}\n",
    "\\begin{vmatrix}\n",
    "\\theta_{0,0} & \\theta_{0,1} & \\theta_{0, 2} & ... & \\theta_{0, K} \\\\\n",
    "\\theta_{1,0} & ...     & ...      & ... & ...      \\\\\n",
    "\\theta_{2,0} & ...     & ...      & ... & ...      \\\\\n",
    "...     & ...     & ...      & ... & ...      \\\\\n",
    "\\theta_{J,0} & ...     & ...      & ... & \\theta_{J, K}\n",
    "\\end{vmatrix}^{T}\n",
    "=\n",
    "\\begin{vmatrix}\n",
    "r_{0,0} & r_{0,1} & r_{0, 2} & ... & r_{0, J} \\\\\n",
    "r_{1,0} & ...     & ...      & ... & ...      \\\\\n",
    "r_{2,0} & ...     & ...      & ... & ...      \\\\\n",
    "...     & ...     & ...      & ... & ...      \\\\\n",
    "r_{I,0} & ...     & ...      & ... & r_{I, J}\n",
    "\\end{vmatrix}\n",
    "$$\n",
    "\n",
    "$X$ represents the latent feature matrix for all users in our system. $\\Theta$ represents the latent feature matrix for all movies in our system. The matrix product of $X$ and $\\Theta^{T}$ is the model predicated rating. \n",
    "\n",
    "$$\n",
    "X\\Theta^{T} = \\hat{R}\n",
    "$$\n",
    "\n",
    "Let $R$ represents the actual rating we received from the MovieLens dataset. For every missing value in $R$, we will ignore their contribution to the loss function. Then for every `R[i][j] != nil`, we define the loss function as follows:\n",
    "\n",
    "$$\n",
    "L_{X, \\Theta} = \\frac{1}{2}\\Sigma_{i,j} (X\\Theta^{T} - R)^{2} + \\frac{\\lambda}{2}\\Sigma_{i, k}X^{2} + \\frac{\\lambda}{2}\\Sigma_{j, k}\\Theta^{2}\n",
    "$$\n",
    "\n",
    "The optimization objective here is to minimize the loss function above. Notice that I have omitted bias terms in here. I've noticed that biases are in general not necessary for matrix factorization. The simultaneous update of user and movie latent vectors will compensate and account for the needed bias. I may be wrong, since I haven't actually written down the math to prove that is the case."
   ]
  },
  {
   "cell_type": "markdown",
   "metadata": {},
   "source": [
    "## Partial Derivatives & Gradients\n",
    "\n",
    "### Iterative Approach\n",
    "For a given user `i`, and he/she has a preference vector of size `K`, iterate from `k=0` to `k=K` and update each element of his preference vector using the following gradient calculation:\n",
    "$$\n",
    "\\frac{\\partial L}{\\partial x_{i, k}} = \\sum_{j}^{J} (R_{i, j} - \\hat{R}_{i, j})\\cdot \\theta_{j, k} + \\lambda x_{i, k}\n",
    "$$\n",
    "\n",
    "For a given movie `j`, and it has a feature vector of size `K`, iterate from `k=0` to `k=K` and update each element of its feature vector using the following gradient calculation:\n",
    "$$\n",
    "\\frac{\\partial L}{\\partial \\theta_{j, k}} = \\sum_{i}^{I} (R_{i, j} - \\hat{R}_{i, j})\\cdot x_{i, k} + \\lambda \\theta_{j, k}\n",
    "$$\n",
    "\n",
    "Remember that \n",
    "$$\n",
    "\\hat{R}_{i, j} = \\vec{x_{i}} \\cdot \\vec{\\theta_{j}}\n",
    "$$\n",
    " \n",
    "### Vectorized Approach\n",
    "\n",
    "Recall that the output of our low-rank matrices model is $\\hat{R}$ and let's find the gradient of $L$ with respect to $\\hat{R}$ first. The $\\frac{1}{2}$ term will get canceled out by the square term.\n",
    "\n",
    "$$\n",
    "\\frac{\\partial L}{\\partial \\hat{R}} = \\hat{R} - R\n",
    "$$\n",
    "\n",
    "$$\n",
    "\\hat{R} = X\\Theta^{T}\n",
    "$$\n",
    "\n",
    "Now let's figure out the gradient of $\\hat{R}$ with respect to $X$ and $\\Theta$:\n",
    "\n",
    "$$\n",
    "\\frac{\\partial \\hat{R}}{\\partial X} = \\Theta^{T}\n",
    "$$\n",
    "\n",
    "$$\n",
    "\\frac{\\partial \\hat{R}}{\\partial \\Theta} = X\n",
    "$$\n",
    "\n",
    "Using chain rule, we can then derive the following results:\n",
    "\n",
    "$$\n",
    "\\frac{\\partial L}{\\partial X} = \\frac{\\partial L}{\\partial \\hat{R}}\\frac{\\partial \\hat{R}}{\\partial X}\n",
    "$$\n",
    "\n",
    "$$\n",
    "\\frac{\\partial L}{\\partial \\Theta} = \\frac{\\partial L}{\\partial \\hat{R}}\\frac{\\partial \\hat{R}}{\\partial \\Theta}\n",
    "$$\n",
    "\n",
    "An example implemented using `numpy`. We set gradient of model prediction output to zero if that particular entry is missing in the training rating matrix. It is simply saying we are ignoring nil entries' contribution to the loss function. We use zero to represent nil entries in the training `R` matrix.\n",
    "```python\n",
    "grad_pred = np.dot(self.U, self.M.T) - self.R\n",
    "grad_pred[self.R == 0] = 0\n",
    "grad_u = np.dot(grad_pred, self.M) + (self.reg * self.U)\n",
    "grad_m = np.dot(grad_pred.T, self.U) + (self.reg * self.M)\n",
    "```\n",
    "\n",
    "### Caution\n",
    "In general vectorized approach is much faster than iterative approach but there is a huge memory constraint. When you run 260,000 users on 45,000 movies, the matrix size is 11,700,000,000 and assuming each matrix entry is a float64. That means it's taking up 93,600,000,000 bytes in memory for just one single matrix. I am pretty sure you don't have a machine that has 100+ GB in RAM. Thus, depending on dataset size, it is sometimes better to write an iterative approach using a static typed performant language (C, C++, Go, or Java/Scala.) \n",
    "\n",
    "### Implementation Details\n",
    "Please look at the `lowrank` module inside this folder to find out more about the implementation details."
   ]
  },
  {
   "cell_type": "markdown",
   "metadata": {},
   "source": [
    "## Gradient Check\n",
    "Let's confirm that gradients are computed correctly first."
   ]
  },
  {
   "cell_type": "code",
   "execution_count": 1,
   "metadata": {},
   "outputs": [
    {
     "name": "stdout",
     "output_type": "stream",
     "text": [
      "Randomly initialized training sparse matrix\n",
      "[[0.5488135  0.71518937 0.60276338 0.54488318 0.        ]\n",
      " [0.64589411 0.         0.891773   0.         0.        ]\n",
      " [0.79172504 0.52889492 0.56804456 0.         0.        ]\n",
      " [0.         0.         0.83261985 0.77815675 0.87001215]\n",
      " [0.         0.79915856 0.         0.78052918 0.        ]]\n",
      "Randomly initialized test sparse matrix\n",
      "[[0.         0.         0.         0.         0.        ]\n",
      " [0.         0.         0.         0.96366276 0.        ]\n",
      " [0.         0.         0.         0.92559664 0.        ]\n",
      " [0.         0.         0.         0.         0.        ]\n",
      " [0.97861834 0.         0.         0.         0.        ]]\n",
      "Factorizer is instantiated with U: (5, 3) and M: (5, 3)\n"
     ]
    }
   ],
   "source": [
    "import lowrank\n",
    "import numpy as np\n",
    "\n",
    "np.random.seed(0)\n",
    "rand_training_mat = np.random.rand(5, 5)\n",
    "\n",
    "# Randomly remove certain values to make the matrix sparse\n",
    "rand_training_mat[rand_training_mat < 0.50] = 0 \n",
    "\n",
    "# Pick out some set of values from the training set to be test set and then remove those values from training set\n",
    "rand_test_mat = np.copy(rand_training_mat)\n",
    "rand_test_mat[rand_training_mat < 0.90] = 0 \n",
    "rand_training_mat[rand_test_mat != 0] = 0\n",
    "\n",
    "print 'Randomly initialized training sparse matrix'\n",
    "print rand_training_mat\n",
    "\n",
    "print 'Randomly initialized test sparse matrix'\n",
    "print rand_test_mat\n",
    "\n",
    "factorizer = lowrank.Factorizer(rand_training_mat, rand_test_mat, feature_dim=3)"
   ]
  },
  {
   "cell_type": "code",
   "execution_count": 2,
   "metadata": {},
   "outputs": [
    {
     "name": "stdout",
     "output_type": "stream",
     "text": [
      "Matrix discrepancy between analytical gradients and numerical gradients\n",
      "[[ 0. -0.  0.]\n",
      " [ 0. -0.  0.]\n",
      " [-0. -0. -0.]\n",
      " [-0. -0.  0.]\n",
      " [ 0.  0.  0.]]\n",
      "[[-0.  0. -0.]\n",
      " [ 0. -0.  0.]\n",
      " [ 0. -0. -0.]\n",
      " [-0. -0. -0.]\n",
      " [-0. -0.  0.]]\n"
     ]
    }
   ],
   "source": [
    "grad_u, grad_m = factorizer.gradients()\n",
    "num_grad_u, num_grad_m = factorizer.num_gradients()\n",
    "\n",
    "print 'Matrix discrepancy between analytical gradients and numerical gradients'\n",
    "print np.matrix.round(grad_u - num_grad_u, decimals=10)\n",
    "print np.matrix.round(grad_m - num_grad_m, decimals=10)"
   ]
  },
  {
   "cell_type": "markdown",
   "metadata": {},
   "source": [
    "## Real Data"
   ]
  },
  {
   "cell_type": "code",
   "execution_count": 3,
   "metadata": {},
   "outputs": [
    {
     "name": "stdout",
     "output_type": "stream",
     "text": [
      "CSV data are loaded with 44229 training samples and 5065 test samples from 79 users on 9125 movies\n",
      "Factorizer is instantiated with U: (79, 10) and M: (9125, 10)\n"
     ]
    }
   ],
   "source": [
    "%matplotlib inline\n",
    "import matplotlib.pyplot as plt\n",
    "\n",
    "\n",
    "DATA_DIR = 'datasets/100k/'\n",
    "converter = lowrank.MatrixConverter(movies_filepath=DATA_DIR + 'movies.csv',\n",
    "                                    ratings_filepath=DATA_DIR + 'ratings.csv')\n",
    "training_rating_mat, test_rating_mat = converter.get_rating_matrices()\n",
    "factorizer = lowrank.Factorizer(training_rating_mat, test_rating_mat, feature_dim=10, reg=0.05)"
   ]
  },
  {
   "cell_type": "code",
   "execution_count": 4,
   "metadata": {},
   "outputs": [
    {
     "name": "stdout",
     "output_type": "stream",
     "text": [
      "☑ training: |████████████████████| 100%- current cost: 16262.495841419233\n",
      "\n"
     ]
    },
    {
     "data": {
      "image/png": "[encoded data removed]",
      "text/plain": [
       "<matplotlib.figure.Figure at 0x7ff34069e2d0>"
      ]
     },
     "metadata": {},
     "output_type": "display_data"
    }
   ],
   "source": [
    "benchmarks = factorizer.train(steps=400, learning_rate=1e-4)\n",
    "steps = [bm[0] for bm in benchmarks]\n",
    "losses = [bm[1] for bm in benchmarks]\n",
    "rmses = [bm[2] for bm in benchmarks]\n",
    "\n",
    "plt.plot(steps, losses, 'o-')\n",
    "plt.show()"
   ]
  },
  {
   "cell_type": "markdown",
   "metadata": {},
   "source": [
    "## Root Mean Squared Error\n",
    "The 100,000 ratings dataset we use is for debugging purpose. The number of ratings we have in this dataset is far too small, the RMSE error is relatively high."
   ]
  },
  {
   "cell_type": "code",
   "execution_count": 5,
   "metadata": {},
   "outputs": [
    {
     "data": {
      "text/plain": [
       "[<matplotlib.lines.Line2D at 0x7ff30c994a90>]"
      ]
     },
     "execution_count": 5,
     "metadata": {},
     "output_type": "execute_result"
    },
    {
     "data": {
      "image/png": "[encoded data removed]",
      "text/plain": [
       "<matplotlib.figure.Figure at 0x7ff30c9b4f10>"
      ]
     },
     "metadata": {},
     "output_type": "display_data"
    }
   ],
   "source": [
    "plt.plot(steps, rmses, 'o-')"
   ]
  }
 ],
 "metadata": {
  "kernelspec": {
   "display_name": "Python 2",
   "language": "python",
   "name": "python2"
  },
  "language_info": {
   "codemirror_mode": {
    "name": "ipython",
    "version": 2
   },
   "file_extension": ".py",
   "mimetype": "text/x-python",
   "name": "python",
   "nbconvert_exporter": "python",
   "pygments_lexer": "ipython2",
   "version": "2.7.6"
  }
 },
 "nbformat": 4,
 "nbformat_minor": 2
}
