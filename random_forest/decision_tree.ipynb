{
 "cells": [
  {
   "cell_type": "markdown",
   "metadata": {},
   "source": [
    "# Decision Tree\n",
    "\n",
    "## Where To Split?\n",
    "The essence of splitting is to reduce impurity. We will continue the split until the impurity is zero, i.e. all data are homogeneous."
   ]
  },
  {
   "cell_type": "code",
   "execution_count": 93,
   "metadata": {},
   "outputs": [],
   "source": [
    "import numpy as np\n",
    "\n",
    "\n",
    "class Student(object):\n",
    "    def __init__(self):\n",
    "        self.is_cricket_player = False\n",
    "        self.gender = 'female'\n",
    "        self.height = 5.4\n",
    "        self.grade = 'A'\n",
    "\n",
    "\n",
    "np.random.seed(314)\n",
    "\n",
    "students = []\n",
    "for i in range(30):\n",
    "    students.append(Student())\n",
    "\n",
    "# Randomly select 15 students to play cricket\n",
    "for i in np.random.choice(len(students), size=15):\n",
    "    students[i].is_cricket_player = True\n",
    "    students[i].gender = 'male'\n",
    "    \n",
    "for i in np.random.choice(len(students), size=15):\n",
    "    students[i].gender = 'male'\n",
    "\n",
    "for i in np.random.choice(len(students), size=15):\n",
    "    students[i].height = 5.8\n",
    "    \n",
    "for i in np.random.choice(len(students), size=15):\n",
    "    students[i].grade = 'B'"
   ]
  },
  {
   "cell_type": "markdown",
   "metadata": {},
   "source": [
    "### Gini Index\n",
    "If we select two items from a population, given that it is pure, then the probaility of them being of same class is 1. Higher the value of Gini index, higher the homogeneity. We can only perform 2 split using Gini index.\n",
    "\n",
    "1. Calculate Gini index for sub-nodes, using formula $P(S)^{2} + P(F)^{2}$.\n",
    "2. Calculate Gini for split using weighted Gini score on each sub-node."
   ]
  },
  {
   "cell_type": "code",
   "execution_count": 80,
   "metadata": {},
   "outputs": [],
   "source": [
    "def gini_index(students, splitter):\n",
    "    # c1 and c2 stand for class 1 and class 2 respectively, e.g. male or female\n",
    "    c1_pos_num, c1_neg_num = 0, 0\n",
    "    c2_pos_num, c2_neg_num = 0, 0\n",
    "    \n",
    "    for student in students:\n",
    "        if splitter(student):\n",
    "            if student.is_cricket_player:\n",
    "                c1_pos_num += 1\n",
    "            else:\n",
    "                c1_neg_num += 1\n",
    "        else:\n",
    "            if student.is_cricket_player:\n",
    "                c2_pos_num += 1\n",
    "            else:\n",
    "                c2_neg_num += 1\n",
    "    \n",
    "    # Calculating Gini for sub-node c1\n",
    "    c1_total = (c1_pos_num + c1_neg_num)\n",
    "    c1_gini = (float(c1_pos_num) / c1_total)**2 + (float(c1_neg_num) / c1_total)**2\n",
    "    \n",
    "    # Calculating Gini for sub-node c2\n",
    "    c2_total = (c2_pos_num + c2_neg_num)\n",
    "    c2_gini = (float(c2_pos_num) / c2_total)**2 + (float(c2_neg_num) / c2_total)**2\n",
    "    \n",
    "    # Return weighted score\n",
    "    return c1_gini*c1_total/len(students) + c2_gini*c2_total/len(students)"
   ]
  },
  {
   "cell_type": "code",
   "execution_count": 51,
   "metadata": {},
   "outputs": [
    {
     "name": "stdout",
     "output_type": "stream",
     "text": [
      "Split on gender 0.733333\n",
      "Split on grade 0.520362\n",
      "Split on height 0.523445\n"
     ]
    }
   ],
   "source": [
    "print 'Split on gender %f' % gini_index(students, lambda student: student.gender == 'male')\n",
    "print 'Split on grade %f' % gini_index(students, lambda student: student.grade == 'A')\n",
    "print 'Split on height %f' % gini_index(students, lambda student: student.height > 5.5)"
   ]
  },
  {
   "cell_type": "markdown",
   "metadata": {},
   "source": [
    "This is telling us that being male is strongly correlated with playing cricket."
   ]
  },
  {
   "cell_type": "markdown",
   "metadata": {},
   "source": [
    "### Chi-Square\n",
    "It is an algorithm to find out the statistical significance between the differences between sub-nodes and parent-node.\n",
    "\n",
    "1. Calculate $\\chi^{2}$ for sub-node by calculating the deviation for success and failure.\n",
    "2. Cauclate $\\chi^{2}$ for split using the sum of all sub-node $\\chi^{2}$."
   ]
  },
  {
   "cell_type": "code",
   "execution_count": 81,
   "metadata": {},
   "outputs": [],
   "source": [
    "def chi_square(students, splitter):\n",
    "    # c1 and c2 stand for class 1 and class 2 respectively, e.g. male or female\n",
    "    c1_pos_num, c1_neg_num = float(0), float(0)\n",
    "    c2_pos_num, c2_neg_num = float(0), float(0)\n",
    "    \n",
    "    for student in students:\n",
    "        if splitter(student):\n",
    "            if student.is_cricket_player:\n",
    "                c1_pos_num += 1\n",
    "            else:\n",
    "                c1_neg_num += 1\n",
    "        else:\n",
    "            if student.is_cricket_player:\n",
    "                c2_pos_num += 1\n",
    "            else:\n",
    "                c2_neg_num += 1\n",
    "    \n",
    "    # Assuming 50/50 probability for positive and negative because we know that 15 out of 30\n",
    "    # students are cricket players. We expect the child node to inherit the same distribution.\n",
    "    expected_c1_pos_num = 0.50 * (c1_pos_num + c1_neg_num)\n",
    "    expected_c1_neg_num = 0.50 * (c1_pos_num + c1_neg_num)\n",
    "\n",
    "    expected_c2_pos_num = 0.50 * (c2_pos_num + c2_neg_num)\n",
    "    expected_c2_neg_num = 0.50 * (c2_pos_num + c2_neg_num)\n",
    "    \n",
    "    return (c1_pos_num - expected_c1_pos_num)**2 / expected_c1_pos_num \\\n",
    "        + (c1_neg_num - expected_c1_neg_num)**2 / expected_c1_neg_num \\\n",
    "        + (c2_pos_num - expected_c2_pos_num)**2 / expected_c2_pos_num \\\n",
    "        + (c2_neg_num - expected_c2_neg_num)**2 / expected_c2_neg_num"
   ]
  },
  {
   "cell_type": "code",
   "execution_count": 46,
   "metadata": {},
   "outputs": [
    {
     "name": "stdout",
     "output_type": "stream",
     "text": [
      "Split on gender 14.000000\n",
      "Split on grade 1.221719\n",
      "Split on height 1.406699\n"
     ]
    }
   ],
   "source": [
    "print 'Split on gender %f' % chi_square(students, lambda student: student.gender == 'male')\n",
    "print 'Split on grade %f' % chi_square(students, lambda student: student.grade == 'A')\n",
    "print 'Split on height %f' % chi_square(students, lambda student: student.height > 5.5)"
   ]
  },
  {
   "cell_type": "markdown",
   "metadata": {},
   "source": [
    "Once again, the `chi_square` method is predicting the same thing as `gini_index`, that gender is the biggest predicator for whether the student is a cricket player."
   ]
  },
  {
   "cell_type": "markdown",
   "metadata": {},
   "source": [
    "### Information Gain\n",
    "The more pure a node is, the less information we need to describe it. On the other hand, impure node requires more information to describe. Thus, we can use entropy as a metric to decide whether a sample is homogenous. If the entropy is zero, it means sample is completely pure and homogeneous. If entropy is one, it means sample is equally divided into two classes.\n",
    "\n",
    "$$\n",
    "E = -P(S)\\;log_{2}P(S) - P(F)\\;log_{2}P(F)\n",
    "$$\n",
    "\n",
    "$S$ stands for success and $F$ stands for failure."
   ]
  },
  {
   "cell_type": "code",
   "execution_count": 96,
   "metadata": {},
   "outputs": [],
   "source": [
    "def entropy(pos_count, neg_count):\n",
    "    total = pos_count + neg_count\n",
    "    \n",
    "    if pos_count > 0 and neg_count > 0:\n",
    "        return -1*(pos_count/total)*np.log(pos_count/total) \\\n",
    "            - (neg_count/total)*np.log(neg_count/total)\n",
    "    elif pos_count > 0 and neg_count == 0:\n",
    "        return -1*(pos_count/total)*np.log(pos_count/total)\n",
    "    elif pos_count == 0 and neg_count > 0:\n",
    "        return -1*(neg_count/total)*np.log(neg_count/total)\n",
    "    \n",
    "    return None\n",
    "\n",
    "\n",
    "def information_gain(students, splitter):\n",
    "    # c1 and c2 stand for class 1 andfemale class 2 respectively, e.g. male or female\n",
    "    c1_pos_num, c1_neg_num = float(0), float(0)\n",
    "    c2_pos_num, c2_neg_num = float(0), float(0)\n",
    "    \n",
    "    for student in students:\n",
    "        if splitter(student):\n",
    "            if student.is_cricket_player:\n",
    "                c1_pos_num += 1\n",
    "            else:\n",
    "                c1_neg_num += 1\n",
    "        else:\n",
    "            if student.is_cricket_player:\n",
    "                c2_pos_num += 1\n",
    "            else:\n",
    "                c2_neg_num += 1\n",
    "    \n",
    "    c1_total = c1_pos_num + c1_neg_num\n",
    "    c1_entropy = entropy(c1_pos_num, c1_neg_num)\n",
    "        \n",
    "    c2_total = c2_pos_num + c2_neg_num\n",
    "    c2_entropy = entropy(c2_pos_num, c2_neg_num)\n",
    "    \n",
    "    return (c1_total/len(students))*c1_entropy + (c2_total/len(students))*c2_entropy"
   ]
  },
  {
   "cell_type": "code",
   "execution_count": 97,
   "metadata": {},
   "outputs": [
    {
     "name": "stdout",
     "output_type": "stream",
     "text": [
      "Split on gender 0.381909\n",
      "Split on grade 0.672634\n",
      "Split on height 0.669440\n"
     ]
    }
   ],
   "source": [
    "print 'Split on gender %f' % information_gain(students, lambda student: student.gender == 'male')\n",
    "print 'Split on grade %f' % information_gain(students, lambda student: student.grade == 'A')\n",
    "print 'Split on height %f' % information_gain(students, lambda student: student.height > 5.5)"
   ]
  },
  {
   "cell_type": "markdown",
   "metadata": {},
   "source": [
    "Split on gender gives the least entropy."
   ]
  },
  {
   "cell_type": "markdown",
   "metadata": {},
   "source": [
    "## CART (Classification and Regression Trees)"
   ]
  },
  {
   "cell_type": "code",
   "execution_count": null,
   "metadata": {},
   "outputs": [],
   "source": []
  }
 ],
 "metadata": {
  "kernelspec": {
   "display_name": "Python 2",
   "language": "python",
   "name": "python2"
  },
  "language_info": {
   "codemirror_mode": {
    "name": "ipython",
    "version": 2
   },
   "file_extension": ".py",
   "mimetype": "text/x-python",
   "name": "python",
   "nbconvert_exporter": "python",
   "pygments_lexer": "ipython2",
   "version": "2.7.12"
  }
 },
 "nbformat": 4,
 "nbformat_minor": 2
}
