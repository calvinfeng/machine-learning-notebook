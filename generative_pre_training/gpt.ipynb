{
 "cells": [
  {
   "cell_type": "markdown",
   "id": "85e107a4-21f1-4428-9b91-e1d2d5ec6921",
   "metadata": {},
   "source": [
    "# GPT"
   ]
  },
  {
   "cell_type": "markdown",
   "id": "79e4f885-832a-4d91-8b0f-1834516dbb79",
   "metadata": {},
   "source": [
    "## Sources\n",
    "\n",
    "- Attention is All You Need\n",
    "- Improving Language Understanding by Generative Pre-Training\n",
    "- Language Models are Unsupervised Multitask Learners\n",
    "- Language Models are Few-shot Learners\n",
    "\n",
    "## Questions to Answer\n",
    "\n",
    "- [ ] What are few-shot, one-shot, and zero-shot learning?\n",
    "- [ ] When to use layer norm vs batch norm?\n",
    "- [ ] What is position-wise feed forward layer?\n",
    "- [ ] How is GPT different from word embedding?\n",
    "- [ ] How does GPT recognize delimiters?\n",
    "- [ ] How does byte pair encoding work?\n",
    "- [ ] What is auto-regressive model?\n",
    "- [ ] For extra large model, why is mega large batch not causing overfitting?"
   ]
  },
  {
   "cell_type": "code",
   "execution_count": null,
   "id": "9c1d9353-c850-4bec-9233-92bccfafafa5",
   "metadata": {},
   "outputs": [],
   "source": []
  }
 ],
 "metadata": {
  "kernelspec": {
   "display_name": "Python 3 (ipykernel)",
   "language": "python",
   "name": "python3"
  },
  "language_info": {
   "codemirror_mode": {
    "name": "ipython",
    "version": 3
   },
   "file_extension": ".py",
   "mimetype": "text/x-python",
   "name": "python",
   "nbconvert_exporter": "python",
   "pygments_lexer": "ipython3",
   "version": "3.8.10"
  }
 },
 "nbformat": 4,
 "nbformat_minor": 5
}
