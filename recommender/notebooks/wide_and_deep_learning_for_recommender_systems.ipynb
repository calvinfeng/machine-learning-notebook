{
 "cells": [
  {
   "cell_type": "markdown",
   "id": "1285cb18",
   "metadata": {},
   "source": [
    "# Wide & Deep Learning for Recommender Systems"
   ]
  },
  {
   "cell_type": "markdown",
   "id": "e8d21782",
   "metadata": {},
   "source": [
    "## Abstract\n",
    "\n",
    "> Generalized Linear models with nonlinear feature transformations are widely used for large scale regression and\n",
    "classification problems with sparse inputs. Memorization of feature interactions through a wide set of\n",
    "cross-product feature transformations are effective and interpretable, while generalization requires more\n",
    "feature engineering effort. With less feature engineering, deep neural networks can generalize better to\n",
    "unseen feature combinations through low-dimensional dense embeddings learned for the sparse features.\n",
    "\n",
    "Wide is referred to linear models like logistic regressions and gradient boosted decision tree. It captures a wide range features with importance scores. Each tree may be pretty shallow (not deep). However, generalization requires our effort to pick out what features to keep or to toss away. On the other hand, if data is abundant, neural network can do the learning for us. GBDT cannot do well with high cardinality dataset.\n",
    "\n",
    "> In this paper, we present Wide & Deep learning - jointly trained wide linear models and deep neural networks - to combine the benefits of memorization and generalization for recommender systems."
   ]
  },
  {
   "cell_type": "markdown",
   "id": "8b65a4dd",
   "metadata": {},
   "source": [
    "## Introduction\n",
    "\n",
    "> One challenge in recommender systems, similar to the general search ranking problem, is to achieve both\n",
    "memorization and generalization. Memorization can be loosely defined as learning the frequent co-occurrence\n",
    "of items or features and exploiting the correlation available in the historical data. Generalization, on the\n",
    "other hand, is based on transitivity of correlation and explores new feature combinations that have never\n",
    "or rarely occurred in the past.\n",
    "\n",
    "> For massive-scale online recommendation and ranking systems in an industrial setting, generalized linear models\n",
    "such as logistic regression are widely used because they are simple, scalable, and interpretable. The models\n",
    "are often trained on binary sparse features with one-hot encoding. E.g. the binary feature\n",
    "\"user_installed_app=netflix\" has value 1 if user installed Netflix. Memorization can be achieved effectively\n",
    "using cross-product transformations over sparse features, such as AND(user_installed_app=netflix,\n",
    "impression_app=pandora\"), whose value is 1 if the user installed Netflix and then is later shown Pandora.\n",
    "\n",
    "Recall that logistic regression is defined as follows.\n",
    "\n",
    "$$\n",
    "z = \\vec{W} \\cdot \\vec{x} + \\vec{b}\n",
    "$$\n",
    "\n",
    "$$\n",
    "P(\\vec{x}) = \\hat{y} = \\frac{1}{1 + e^{-z(\\vec{x})}}\n",
    "$$\n",
    "\n",
    "The cross entropy loss is defined as follows.\n",
    "\n",
    "$$\n",
    "L(\\hat{y}, y) = y\\;log(\\hat{y}) + (1-y)\\;log(1 - \\hat{y})\\\\ \n",
    "= - \\left[\n",
    "y \\; log\\left( \\sigma(\\vec{W}\\cdot\\vec{x})\\right) +\n",
    "(1 - y) \\; log\\left(1 - \\sigma(\\vec{W}\\cdot\\vec{x})\\right)\n",
    "\\right]\n",
    "$$\n",
    "\n",
    "> Generalization can be added by using features that are less granular, such as AND(user_installed_category=video,\n",
    "impression_category=music), but manual feature engineering is often required. One limitation of cross product \n",
    "transformations is that they do not generalize to query-item feature pairs that have not appeared in the \n",
    "training data.\n",
    "\n",
    "> Embedding-based models, such as factorization machines or deep neural networks, can generalize to previously\n",
    "unseen query-item feature pairs by learning a low-dimensional dense embedding vector for each query and item\n",
    "feature, with less burden of feature engineering. However it is difficult to learn effective low-dimensional\n",
    "representations for queries and items when the underlying query-item matrix is sparse and high rank, such as\n",
    "users with specific preferences or niche items with a narrow appeal. In such cases, there should be no\n",
    "interactions between most query-item pairs, but dense embeddings will lead to nonzero predictions for all\n",
    "query-item pairs, and thus can over-generalize and make less relevant recommendations.\n",
    "\n",
    "Movie ratings are classic example of sparse high rank matrix.\n",
    "\n",
    "$$\n",
    "A = \\begin{bmatrix}\n",
    "1 & ? & ? & ... & a_{0,M} \\\\\n",
    "? & ? & ? & ... & a_{1,M} \\\\\n",
    "1 & 1 & ? & ... & a_{2,M} \\\\\n",
    "... & ... & ... & ... & ... \\\\\n",
    "a_{N, 0} & ... & ... & ... & a_{N, M}\n",
    "\\end{bmatrix}\n",
    "$$\n",
    "\n",
    "> In this paper, we present Wide & Deep learning framework to achieve both memorization and generalization in one\n",
    "model, by jointly training a linear model component and a neural network component."
   ]
  },
  {
   "cell_type": "markdown",
   "id": "88ccafd0",
   "metadata": {},
   "source": [
    "## Recommender System Overview\n",
    "\n",
    "> A query, which can include various user and contextual features, is generated when a user visits the app store. The recommender system returns a list of apps (also referred to as impressions) on which users can perform certain actions such as clicks or purchases. These user actions, along with the queries and impressions, are recorded in the logs as the training data for the learner.\n",
    "\n",
    "> Since there are over a million apps in the database, it is intractable to exhaustively score every app for every query within the serving latency requirements. Therefore, the first step upon receiving a query is retrieval. The retrieval system returns a short list of items that best match the query using various signals, usually a combination of machine-learned models and human-defined rules. After reducing the candidate pool, the ranking system ranks all items by their scores. The scores are usually $P(y \\mid x)$, the probability of a user action label $y$ given the features $x$, including user features (e.g. country, language, demographics), contextual \n",
    "features (e.g. device, hour of the day, day of the week), and impression features (e.g. app age, historical \n",
    "statistics of an app)."
   ]
  },
  {
   "cell_type": "markdown",
   "id": "4cd225e0",
   "metadata": {},
   "source": [
    "## Wide & Deep Learning"
   ]
  },
  {
   "cell_type": "markdown",
   "id": "d2cd4720",
   "metadata": {},
   "source": [
    "![Wide and Deep Model](./wide_and_deep_learning_for_recommender_systems_files/wide_and_deep.png)"
   ]
  },
  {
   "cell_type": "markdown",
   "id": "19684612",
   "metadata": {},
   "source": [
    "### The Wide Component\n",
    "\n",
    "> The wide component is a generalized linear model of the form $y = w^Tx + b$. $y$ is the prediction,\n",
    "$x = [x_1, x_2, ..., x_d]$ is a vector of `d` features, $w = [w_1, w_2, ..., w_d]$ are the model parameters and\n",
    "$b$ is the bais. The feature set includes raw input features and transformed features. One of the most important\n",
    "transformations is the **cross-product transformation**, which is defined as:\n",
    "\n",
    "$$\n",
    "\\phi_k(x) = \\prod_{i=1}^d x_{i}^{c_{ki}} \\quad c_{ki} \\in \\{0, 1\\}\n",
    "$$\n",
    "\n",
    "> where $c_{ki}$ is a boolean variable that is 1 if the `i`th feature is part of the `k`th transformation\n",
    "$\\phi_k$, and 0 otherwise. For binary features, a cross product transformation (e.g. \"AND(gender=female, \n",
    "language=en)\") is 1 if and only if the constituent features are all 1, and 0 otherwise. This captures the interactions between the binary features, and adds nonlinearity to the generalized linear model.\n",
    "\n",
    "Then question arises, how is the $\\vec{c}$ defined in cross product transformation? Do we manually parameterize it? [How is the cross product transformation defined for binary features?](https://datascience.stackexchange.com/questions/57435/how-is-the-cross-product-transformation-defined-for-binary-features)"
   ]
  },
  {
   "cell_type": "markdown",
   "id": "6bdc3da5",
   "metadata": {},
   "source": [
    "### The Deep Component\n",
    "\n",
    "> The deep component is a feed-forward neural network. For categorical features, the original inputs are feature\n",
    "strings. Each of these sparse, high-dimensional categorical features are first converted into a low-dimensional\n",
    "and dense real-valued vector, often referred as an embedding vector. The dimensionality of the embeddings are\n",
    "usually on the order of O(10) to O(100). The embedding vectors are initialized randomly and then the values are\n",
    "minimize the final loss function during model training. These low-dimensional dense embedding vectors are then fed\n",
    "into the hidden layers of a neural network in the forward pass. Specifically, each hidden layer performs the\n",
    "following computation.\n",
    "\n",
    "$$\n",
    "a^{l+1} = f\\left(W^la^l + b^l\\right)\n",
    "$$\n",
    "\n",
    "> where $l$ is the layer number and $f$ is the activation function, often ReLU. $a$, $b$, and $W$ are the\n",
    "activations, bias, and model weights at $l$th layer."
   ]
  },
  {
   "cell_type": "markdown",
   "id": "8732d8f2",
   "metadata": {},
   "source": [
    "### Joint Training of Wide & Deep Model\n",
    "\n",
    ">The wide component and deep component are combined using a weighted sum of their output log odds as the prediction, which is then fed to one common logistic loss function for joint training.\n",
    "\n",
    ">Note that there is a distinction between joint training and ensemble. In an ensemble, individual models are trained separately without knowing each other, and their predictions are combined only at inference time but not at training time. In contrast, joint training optimizes all parameters simultaneously by taking both the wide\n",
    "and deep part as well as the weights of their sum into account at training time. There are implications on model\n",
    "size too: For an ensemble, since the training is disjoint, each individual model size usually needs to be larger\n",
    "to achieve reasonable accuracy for an ensemble to work. In comparison, for joint training the wide part only needs\n",
    "to complment the weaknesses of the deep part with a small number of cross-product feature transformations, rather\n",
    "than a full-size wide model.\n",
    "\n",
    "Once we combine the models, the output can be a logistic regression. \n",
    "\n",
    "$$\n",
    "P(Y = 1 \\mid x) = \\sigma\\left( w^T_{wide} [x, \\phi(x)] + w^T_{deep}a^{\\text{final layer}} + b \\right)\n",
    "$$\n",
    "\n",
    "where $Y$ is the binary class label, $\\sigma$ is the sigmoid function, $\\phi(x)$ are the cross product\n",
    "transformations of the original features $x$, and $b$ is the bias term. $w_{wide}$ is the vector of all wide model weights, and $w_{deep}$ are the weights applied on the final activations."
   ]
  },
  {
   "cell_type": "markdown",
   "id": "ae8ed781",
   "metadata": {},
   "source": [
    "## System Implementation"
   ]
  },
  {
   "cell_type": "markdown",
   "id": "29a149c2",
   "metadata": {},
   "source": [
    "![System Pipeline](./wide_and_deep_learning_for_recommender_systems_files/pipeline.png)"
   ]
  },
  {
   "cell_type": "markdown",
   "id": "74c0e7db",
   "metadata": {},
   "source": [
    "### Data Generation\n",
    "\n",
    "> In this stage, user and app impression data within a period of time are used to generate training data. Each example corresponds to one impression. The label is app acquisition: 1 if the impressed app was installed, and 0 otherwise.\n",
    "\n",
    "> Vocabularies, which are tables mapping categorical feature strings to integer IDs, are also generated in this stage. The system computes the ID space for all the string features that occurred more than a minimum number of times. Continuous real-valued features are normalized to `[0, 1]` by mapping a feature value $x$ to its cumulative distribution function $P( X \\leq x )$ into $n_q$ quantiles."
   ]
  },
  {
   "cell_type": "markdown",
   "id": "71aa462d",
   "metadata": {},
   "source": [
    "![Model Structure](./wide_and_deep_learning_for_recommender_systems_files/model_structure.png)"
   ]
  },
  {
   "cell_type": "markdown",
   "id": "b33fa464",
   "metadata": {},
   "source": [
    "### Model Training\n",
    "\n",
    "> During training, our input layer takes in training data and vocabularies and generate sparse and dense features together with a label. The wide component consists of the cross-product transformation of user installed apps and impression apps. For the deep part of the model, a 32-dimensional embedding vector is learned for each categorical feature. We concatenate all the embeddings together with the dense features, resulting in a dense vector of approximately 1200 dimensions. The concatenated vector is then fed into 3 ReLU layers, and finally the logistic output unit.\n",
    "\n",
    "> The Wide & Deep models are trained on over 500 billion\n",
    "examples. Every time a new set of training data arrives,\n",
    "the model needs to be re-trained. However, retraining from\n",
    "scratch every time is computationally expensive and delays\n",
    "the time from data arrival to serving an updated model.\n",
    "To tackle this challenge, we implemented a warm-starting\n",
    "system which initializes a new model with the embeddings\n",
    "and the linear model weights from the previous model.\n",
    "\n",
    "> Before loading the models into the model servers, a dry\n",
    "run of the model is done to make sure that it does not cause\n",
    "problems in serving live traffic. We empirically validate the\n",
    "model quality against the previous model as a sanity check."
   ]
  },
  {
   "cell_type": "markdown",
   "id": "10d3dbd1",
   "metadata": {},
   "source": [
    "### Model Serving\n",
    "\n",
    "> Once the model is trained and verified, we load it into the model servers. For each request, the servers receive a set of app candidates from the app retrieval system and user features to score each app. Then, the apps are ranked from the highest scores to the lowest, and we show the apps to the users in this order. The scores are calculated by running a forward inference pass over the Wide & Deep model.\n",
    "\n",
    "Each candidate receives a probability score from the logistic output unit $y \\in [0, 1]$."
   ]
  },
  {
   "cell_type": "code",
   "execution_count": null,
   "id": "1c30b781",
   "metadata": {},
   "outputs": [],
   "source": []
  }
 ],
 "metadata": {
  "kernelspec": {
   "display_name": "Python 3",
   "language": "python",
   "name": "python3"
  },
  "language_info": {
   "codemirror_mode": {
    "name": "ipython",
    "version": 3
   },
   "file_extension": ".py",
   "mimetype": "text/x-python",
   "name": "python",
   "nbconvert_exporter": "python",
   "pygments_lexer": "ipython3",
   "version": "3.6.9"
  }
 },
 "nbformat": 4,
 "nbformat_minor": 5
}
