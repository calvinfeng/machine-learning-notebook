{
 "cells": [
  {
   "cell_type": "code",
   "execution_count": 1,
   "id": "9dc28d7b",
   "metadata": {},
   "outputs": [],
   "source": [
    "import tensorflow as tf\n",
    "import tensorflow_datasets as tfds\n",
    "import tensorflow_recommenders as tfrs"
   ]
  },
  {
   "cell_type": "code",
   "execution_count": 2,
   "id": "ce25e32f",
   "metadata": {},
   "outputs": [],
   "source": [
    "ratings = tfds.load('movielens/100k-ratings', split='train')"
   ]
  },
  {
   "cell_type": "code",
   "execution_count": 3,
   "id": "5fb9ca61",
   "metadata": {},
   "outputs": [
    {
     "name": "stdout",
     "output_type": "stream",
     "text": [
      "user 138 rated One Flew Over the Cuckoo's Nest (1975) with 4.0\n",
      "user 92 rated Strictly Ballroom (1992) with 2.0\n",
      "user 301 rated Very Brady Sequel, A (1996) with 4.0\n",
      "user 60 rated Pulp Fiction (1994) with 4.0\n",
      "user 197 rated Scream 2 (1997) with 3.0\n",
      "user 601 rated Crash (1996) with 4.0\n",
      "user 710 rated Aladdin (1992) with 3.0\n",
      "user 833 rated True Romance (1993) with 2.0\n",
      "user 916 rated Bob Roberts (1992) with 5.0\n",
      "user 940 rated Starship Troopers (1997) with 2.0\n",
      "user 611 rated Sphere (1998) with 1.0\n"
     ]
    }
   ],
   "source": [
    "count = 0\n",
    "for datum in ratings:\n",
    "    if count > 10:\n",
    "        break\n",
    "    user_rating = datum['user_rating']\n",
    "    movie_title = datum['movie_title']\n",
    "    user_id = datum['user_id']\n",
    "    print(f\"user {user_id.numpy().decode('utf-8')} rated {movie_title.numpy().decode('utf-8')} with {user_rating.numpy()}\")\n",
    "    count += 1"
   ]
  },
  {
   "cell_type": "code",
   "execution_count": 4,
   "id": "53f534e6",
   "metadata": {},
   "outputs": [],
   "source": [
    "ratings = ratings.map(lambda x: { 'movie_title': x['movie_title'], 'user_id': x['user_id'] })"
   ]
  },
  {
   "cell_type": "code",
   "execution_count": 5,
   "id": "8a28f472",
   "metadata": {},
   "outputs": [],
   "source": [
    "movies = tfds.load('movielens/100k-movies', split='train')"
   ]
  },
  {
   "cell_type": "code",
   "execution_count": 6,
   "id": "25421086",
   "metadata": {},
   "outputs": [
    {
     "name": "stdout",
     "output_type": "stream",
     "text": [
      "You So Crazy (1994)\n",
      "Love Is All There Is (1996)\n",
      "Fly Away Home (1996)\n",
      "In the Line of Duty 2 (1987)\n",
      "Niagara, Niagara (1997)\n",
      "Young Poisoner's Handbook, The (1995)\n",
      "Age of Innocence, The (1993)\n",
      "Flirt (1995)\n",
      "Frisk (1995)\n",
      "unknown\n",
      "Girls Town (1996)\n"
     ]
    }
   ],
   "source": [
    "count = 0\n",
    "for movie in movies:\n",
    "    if count > 10:\n",
    "        break\n",
    "    tensor = movie['movie_title']\n",
    "    print(tensor.numpy().decode('utf-8'))\n",
    "    count += 1"
   ]
  },
  {
   "cell_type": "code",
   "execution_count": 7,
   "id": "aee3bee4",
   "metadata": {},
   "outputs": [],
   "source": [
    "movies = movies.map(lambda x: x['movie_title'])"
   ]
  },
  {
   "cell_type": "code",
   "execution_count": 24,
   "id": "ed9186ef",
   "metadata": {},
   "outputs": [],
   "source": [
    "class TwoTowerModel(tfrs.Model):\n",
    "    def __init__(self):\n",
    "        super().__init__()\n",
    "        \n",
    "        embedding_dim = 32\n",
    "        num_unique_users = 1000\n",
    "        num_unique_movies = 1700\n",
    "        eval_batch_size = 128\n",
    "        \n",
    "        # Turn raw user IDs into contiguous integers via a lookup vocab map.\n",
    "        # Map the result into embedding vectors.\n",
    "        self.user_model = tf.keras.Sequential([\n",
    "            tf.keras.layers.experimental.preprocessing.StringLookup(max_tokens=num_unique_users),\n",
    "            tf.keras.layers.Embedding(num_unique_users, embedding_dim)\n",
    "        ])\n",
    "        \n",
    "        # Same for movies.\n",
    "        self.movie_model = tf.keras.Sequential([\n",
    "            tf.keras.layers.experimental.preprocessing.StringLookup(max_tokens=num_unique_movies),\n",
    "            tf.keras.layers.Embedding(num_unique_movies, embedding_dim)\n",
    "        ])\n",
    "        \n",
    "        # Task object has two purposes:\n",
    "        # (1) It computes the loss\n",
    "        # (2) It keeps track of metrics\n",
    "        \n",
    "        # The metric is top-k: given a user and a known watched movie, how highly would the model rank\n",
    "        # the true movie out of all possible movies?\n",
    "        self.task = tfrs.tasks.Retrieval(\n",
    "            metrics=tfrs.metrics.FactorizedTopK(candidates=movies.batch(eval_batch_size).map(self.movie_model))\n",
    "        )\n",
    "        \n",
    "    def compute_loss(self, features, training=False):\n",
    "        user_embeddings = self.user_model(features['user_id'])\n",
    "        movie_embeddings = self.movie_model(features['movie_title'])\n",
    "        return self.task(user_embeddings, movie_embeddings)"
   ]
  },
  {
   "cell_type": "code",
   "execution_count": 30,
   "id": "d8c38fb0",
   "metadata": {},
   "outputs": [
    {
     "name": "stdout",
     "output_type": "stream",
     "text": [
      "Epoch 1/5\n",
      "25/25 [==============================] - 4s 143ms/step - factorized_top_k/top_1_categorical_accuracy: 0.2458 - factorized_top_k/top_5_categorical_accuracy: 0.2458 - factorized_top_k/top_10_categorical_accuracy: 0.2458 - factorized_top_k/top_50_categorical_accuracy: 0.2458 - factorized_top_k/top_100_categorical_accuracy: 0.2458 - loss: 32418.9253 - regularization_loss: 0.0000e+00 - total_loss: 32418.9253\n",
      "Epoch 2/5\n",
      "25/25 [==============================] - 4s 145ms/step - factorized_top_k/top_1_categorical_accuracy: 0.3277 - factorized_top_k/top_5_categorical_accuracy: 0.3277 - factorized_top_k/top_10_categorical_accuracy: 0.3277 - factorized_top_k/top_50_categorical_accuracy: 0.3277 - factorized_top_k/top_100_categorical_accuracy: 0.3277 - loss: 32418.9253 - regularization_loss: 0.0000e+00 - total_loss: 32418.9253\n",
      "Epoch 3/5\n",
      "25/25 [==============================] - 4s 155ms/step - factorized_top_k/top_1_categorical_accuracy: 0.2458 - factorized_top_k/top_5_categorical_accuracy: 0.2867 - factorized_top_k/top_10_categorical_accuracy: 0.2867 - factorized_top_k/top_50_categorical_accuracy: 0.2867 - factorized_top_k/top_100_categorical_accuracy: 0.2867 - loss: 32418.9253 - regularization_loss: 0.0000e+00 - total_loss: 32418.9253\n",
      "Epoch 4/5\n",
      "25/25 [==============================] - 4s 150ms/step - factorized_top_k/top_1_categorical_accuracy: 0.3856 - factorized_top_k/top_5_categorical_accuracy: 0.3856 - factorized_top_k/top_10_categorical_accuracy: 0.3856 - factorized_top_k/top_50_categorical_accuracy: 0.3856 - factorized_top_k/top_100_categorical_accuracy: 0.3856 - loss: 32418.9253 - regularization_loss: 0.0000e+00 - total_loss: 32418.9253\n",
      "Epoch 5/5\n",
      "25/25 [==============================] - 4s 147ms/step - factorized_top_k/top_1_categorical_accuracy: 0.4675 - factorized_top_k/top_5_categorical_accuracy: 0.4675 - factorized_top_k/top_10_categorical_accuracy: 0.4675 - factorized_top_k/top_50_categorical_accuracy: 0.4675 - factorized_top_k/top_100_categorical_accuracy: 0.4675 - loss: 32418.9253 - regularization_loss: 0.0000e+00 - total_loss: 32418.9253\n"
     ]
    },
    {
     "data": {
      "text/plain": [
       "<tensorflow.python.keras.callbacks.History at 0x7f576d51f0f0>"
      ]
     },
     "execution_count": 30,
     "metadata": {},
     "output_type": "execute_result"
    }
   ],
   "source": [
    "model = TwoTowerModel()\n",
    "model.compile(optimizer=tf.keras.optimizers.Adagrad(0.1))\n",
    "model.fit(ratings.batch(4096), verbose=True, epochs=5)"
   ]
  },
  {
   "cell_type": "code",
   "execution_count": 23,
   "id": "8b019730",
   "metadata": {},
   "outputs": [
    {
     "name": "stdout",
     "output_type": "stream",
     "text": [
      "Recommendations for user 42: [b'You So Crazy (1994)' b'Love Is All There Is (1996)'\n",
      " b'Fly Away Home (1996)']\n"
     ]
    }
   ],
   "source": [
    "index = tfrs.layers.factorized_top_k.BruteForce(model.user_model)\n",
    "index.index(movies.batch(100).map(model.movie_model), movies)\n",
    "\n",
    "_, titles = index(tf.constant(['42']))\n",
    "print(f\"Recommendations for user 42: {titles[0, :3]}\")"
   ]
  }
 ],
 "metadata": {
  "kernelspec": {
   "display_name": "Python 3",
   "language": "python",
   "name": "python3"
  },
  "language_info": {
   "codemirror_mode": {
    "name": "ipython",
    "version": 3
   },
   "file_extension": ".py",
   "mimetype": "text/x-python",
   "name": "python",
   "nbconvert_exporter": "python",
   "pygments_lexer": "ipython3",
   "version": "3.6.9"
  }
 },
 "nbformat": 4,
 "nbformat_minor": 5
}
