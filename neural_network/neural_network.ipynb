{
 "cells": [
  {
   "cell_type": "markdown",
   "metadata": {},
   "source": [
    "# Neural Network\n",
    "The concept of neural network is probably quite familar to everybody. If not, the information is readily available online. I am not going to write too much about the introduction to neural networks. I am primarily focusing on the implementation and mathematics behind **feed-forward neural network**.\n",
    "\n",
    "## Forward Propagation\n",
    "### Affine \n",
    "Given an input vector or matrix, we forward propagate through the network by applying matrix multiplication to the input by a set of weight. In many textbook examples, like the diagram below:\n",
    "\n",
    "![Neural Netowrk](./assets/neural_network.png)\n",
    "\n",
    "The diagram is actually overcomplicating things a little bit. Although the diagram is accurately depicting what's happening to a set of input when it is being forward propagated through a network, if we are using the concept of **computational graph** and vectorized implementation, the whole operation can be summarized more succintly, like the following:\n",
    "\n",
    "![Computational Graph](./assets/comp_graph.png)\n",
    "\n",
    "So what is affine? Affine refers to the linear mapping from input to output. Simply put, it is just a matrix multiplication as I mentioned above."
   ]
  },
  {
   "cell_type": "code",
   "execution_count": 1,
   "metadata": {
    "collapsed": false
   },
   "outputs": [
    {
     "data": {
      "text/plain": [
       "array([ 4.92789534,  3.97236133,  4.91657911])"
      ]
     },
     "execution_count": 1,
     "metadata": {},
     "output_type": "execute_result"
    }
   ],
   "source": [
    "import numpy as np\n",
    "np.random.seed(314)\n",
    "\n",
    "# Declare an input\n",
    "x = np.array([1, 2, 3])\n",
    "\n",
    "# Declare a weight matrix and a bias vector, I will use random values here\n",
    "W = np.random.rand(3, 3)\n",
    "b = np.random.rand(3,)\n",
    "\n",
    "# Affine transformation using array broadcasting on the bias part\n",
    "x.dot(W) + b "
   ]
  },
  {
   "cell_type": "markdown",
   "metadata": {},
   "source": [
    "### Activation\n",
    "Activation is also called non-linearity. As you can see that affine transformation is a linear operation. It multiplies the vector with some numbers and then sum up the contributions. If this is all we do throughout the network, then we are losing a lot of flexibility. Thus, we must introduce non-linear activation functions to the network to give it the power to learn non-linear behavior. \n",
    "\n",
    "There are many activation functions we can use, `sigmoid`, `tanh`, `rectified linear unit`, and etc... For now, I will focus on just **sigmoid** activation function. Sigmoid function has a range from 0 to 1. When the input is negative and big in magnitude, the output is 0. When input is positive and big in magnitude, the output is 1.\n",
    "\n",
    "$$\n",
    "\\sigma(x) = \\frac{1}{1 + e^{-x}}\n",
    "$$"
   ]
  },
  {
   "cell_type": "code",
   "execution_count": 2,
   "metadata": {
    "collapsed": false
   },
   "outputs": [
    {
     "data": {
      "image/png": "[encoded data removed]",
      "text/plain": [
       "<matplotlib.figure.Figure at 0x7f55736b02d0>"
      ]
     },
     "metadata": {},
     "output_type": "display_data"
    }
   ],
   "source": [
    "import matplotlib.pyplot as plt\n",
    "%matplotlib inline  \n",
    "\n",
    "\n",
    "def sigmoid(x):\n",
    "    return 1 / (1 + np.exp(-1 * x))\n",
    "\n",
    "x = np.arange(-10, 10, 0.1)\n",
    "y = sigmoid(x)\n",
    "\n",
    "plt.plot(x, y)\n",
    "plt.show()"
   ]
  },
  {
   "cell_type": "markdown",
   "metadata": {},
   "source": [
    "### Put them together\n",
    "Put everything together and we can construct a simple neural network with an input, a hidden, and an output layer. Assuming that the input dimension is 3, hidden dimension is 4 and output dimension is 2, identical to the first diagram on this page."
   ]
  },
  {
   "cell_type": "code",
   "execution_count": 3,
   "metadata": {
    "collapsed": false
   },
   "outputs": [
    {
     "name": "stdout",
     "output_type": "stream",
     "text": [
      "[[ 0.76744569  0.89594611]]\n"
     ]
    }
   ],
   "source": [
    "# Input is x\n",
    "x = np.array([[1, 2, 3]])\n",
    "\n",
    "# Initialized two weight matrices, one for input to hidden, another one for hidden to output.\n",
    "W1 = np.random.rand(3, 4)\n",
    "b1 = np.random.rand(4,)\n",
    "\n",
    "W2 = np.random.rand(4, 2)\n",
    "b2 = np.random.rand(2,)\n",
    "\n",
    "# Forward propagation\n",
    "x = x.dot(W1) + b1\n",
    "x = sigmoid(x)\n",
    "x = x.dot(W2) + b2\n",
    "x = sigmoid(x)\n",
    "\n",
    "print x"
   ]
  },
  {
   "cell_type": "markdown",
   "metadata": {},
   "source": [
    "So this is it, that's how you do a forward propagation. You just keep adding layers and layers of affine transformation and sigmoid activation if you want a deep neural network."
   ]
  },
  {
   "cell_type": "markdown",
   "metadata": {},
   "source": [
    "## Loss\n",
    "So far the neural network I have produced with random weights is a garbage. It does not provide any accurate prediction. We need a way to train it. Before we train it, we need a way to identify and evaluate the fitness of our model. Loss function is a way for us to quantify how far off are the predictions of a model from the real data. There are many different types of loss function depending on the task. For example, for classification problem, we can use **hinge loss**, or **cross entropy loss**. For regression problems, we can use **L2 loss**, **L1 loss**, or **mean squared error loss**. \n",
    "\n",
    "We will focus on cross entropy loss and mean squared error loss here. Cross entropy loss typically goes with softmax activation. However, softmax activation is not the usual activation you'd see that occurs in every layer. Softmax activation is meant for the output layer when we try to compute probability for classification, like given an input image, what is the probability of the image being a cat image or dog image? \n",
    "\n",
    "### Softmax Activation & Loss\n",
    "Given a vector of score for each class, assuming that this is the output of the neural network, denoted as `y`, `y[i]` is the score for ith class. The probability of being classified as ith class is:\n",
    "\n",
    "$$\n",
    "P(i) = \\frac{e^{y_{i}}}{\\Sigma_{j} e^{y_{j}}}\n",
    "$$"
   ]
  },
  {
   "cell_type": "code",
   "execution_count": 4,
   "metadata": {
    "collapsed": false
   },
   "outputs": [
    {
     "name": "stdout",
     "output_type": "stream",
     "text": [
      "1.0\n",
      "[[ 0.46791903  0.53208097]]\n"
     ]
    }
   ],
   "source": [
    "# Using x from previous example\n",
    "def softmax(x):\n",
    "    \"\"\"Numerically stable softmax probabilities\"\"\"\n",
    "    x = x - np.max(x)\n",
    "    return np.exp(x) / np.sum(np.exp(x))\n",
    "    \n",
    "probs = softmax(x)\n",
    "print np.sum(probs) # Should be very close to one\n",
    "print probs"
   ]
  },
  {
   "cell_type": "markdown",
   "metadata": {},
   "source": [
    "The loss function for softmax is \n",
    "\n",
    "$$\n",
    "L_{i} = -log\\left( \\frac{e^{y_{i}}}{\\Sigma_{j} e^{y_{j}}} \\right)\n",
    "$$\n",
    "\n",
    "$$\n",
    "L = \\Sigma_{i} L_{i}\n",
    "$$"
   ]
  },
  {
   "cell_type": "code",
   "execution_count": 5,
   "metadata": {
    "collapsed": false
   },
   "outputs": [
    {
     "name": "stdout",
     "output_type": "stream",
     "text": [
      "0.630959599239\n"
     ]
    }
   ],
   "source": [
    "def softmax_loss(P, labels):\n",
    "    N, _ = P.shape\n",
    "    return -np.sum(np.log(P[np.arange(N), labels])) / N\n",
    "    \n",
    "print softmax_loss(probs, [1])"
   ]
  },
  {
   "cell_type": "markdown",
   "metadata": {},
   "source": [
    "### Mean Squared Error Loss\n",
    "This one is simple, instead of computing softmax probability, take the score and treat it as the raw output. The vector of scores could be anything like stock prices, housing prices, animal weight/height, anything you can think of. The loss function takes into account for the difference between the expected results and predicted results. Let's say **y hat** is our prediction vector then loss function can be written as:\n",
    "\n",
    "$$\n",
    "L = \\frac{1}{N} \\sum (\\hat{y}_{i} - y_{i})^{2}\n",
    "$$"
   ]
  },
  {
   "cell_type": "markdown",
   "metadata": {},
   "source": [
    "## Backpropagation\n",
    "Now we have a way to measure the fitness of our model, we can proceed to train it using gradient descent or other more advanced optimization technique. I will stick to the simplest. In order to perform gradient descent, we must first compute the gradients for every layer of forward propagation and then perform back propagation from output layer all the way back to input layer. \n",
    "\n",
    "### Softmax Gradient\n",
    "We will compute the gradient of softmax loss with respect to score first. I am not going to derive the mathematics of derivatives of a softmax loss because it is a bit length to type and you can find it on https://math.stackexchange.com/questions/945871/derivative-of-softmax-loss-function. The derived result is very elegant, we can compute the gradient within 3 lines of code.\n",
    "\n",
    "```python\n",
    "# P is the matrix of probabilities\n",
    "grad_score = P.copy()\n",
    "grad_score[np.arange(N), labels] -= 1\n",
    "grad_score /= N\n",
    "```\n",
    "\n",
    "### Means Squared Error Gradient\n",
    "The mean squared error gradient derivation is quite easy to type and express. Here it is:\n",
    "\n",
    "$$\n",
    "\\frac{\\partial L}{\\partial \\hat{y}} = 2 \\cdot (\\hat{y} - y)\n",
    "$$\n",
    "\n",
    "```python\n",
    "# Treat y_hat as the output of our neural network\n",
    "grad_output = 2.0 * (output - y)\n",
    "```\n",
    "\n",
    "### Sigmoid Gradient\n",
    "The derivative of sigmoid function is:\n",
    "\n",
    "$$\n",
    "\\frac{\\partial \\sigma}{\\partial A} = (1 - \\sigma(A)) * \\sigma(A)\n",
    "$$\n",
    "\n",
    "Using chain rule, we can compute gradient of loss with respect to the input to our sigmoid function, inputs are usually the output from an affine transformation:\n",
    "\n",
    "$$\n",
    "\\frac{\\partial L}{\\partial A} = \\frac{\\partial L}{\\partial \\hat{y}} \\cdot \\frac{\\partial \\hat{y}}{\\partial A}\n",
    "$$\n",
    "\n",
    "```python\n",
    "# A is an output matrix coming out from an affine layer\n",
    "grad_A = grad_output * (1 - sigmoid(A)) * sigmoid(A)\n",
    "```\n",
    "\n",
    "### Affine Gradient\n",
    "The derivative of an affine transformation is also very easy to write, assuming that `A = x.dot(W)`:\n",
    "\n",
    "$$\n",
    "\\frac{\\partial A}{\\partial x} = W\n",
    "$$\n",
    "\n",
    "$$\n",
    "\\frac{\\partial A}{\\partial W} = x\n",
    "$$\n",
    "\n",
    "$$\n",
    "\\frac{\\partial A}{\\partial b} = 1\n",
    "$$\n",
    "\n",
    "I will apply the same chain rule technique here: \n",
    "\n",
    "$$\n",
    "\\frac{\\partial L}{\\partial W} = \\frac{\\partial L}{\\partial A} \\cdot \\frac{\\partial A}{\\partial W}\n",
    "$$\n",
    "\n",
    "$$\n",
    "\\frac{\\partial L}{\\partial x} = \\frac{\\partial L}{\\partial A} \\cdot \\frac{\\partial A}{\\partial x}\n",
    "$$\n",
    "\n",
    "$$\n",
    "\\frac{\\partial L}{\\partial b} = \\frac{\\partial L}{\\partial A}\n",
    "$$\n",
    "```python\n",
    "# Sum across all training examplesfor bias gradient calculation\n",
    "grad_W = x.T.dot(grad_A)\n",
    "grad_x = grad_A.dot(W.T)\n",
    "grad_b = np.sum(grad_A, axis=1) \n",
    "```\n",
    "\n",
    "### Put everything together \n",
    "Example for calculating gradients for softmax loss\n",
    "```python\n",
    "grads = dict()\n",
    "\n",
    "# Theta 2 is equivalent to the score that we propagate toward our softmax layer.\n",
    "N = len(y)\n",
    "grads['theta2'] = acts['A2']\n",
    "grads['theta2'][range(N), y] -= 1\n",
    "grads['theta2'] /= N\n",
    "\n",
    "# (hidden_dim x N)(N x output_dim)\n",
    "grads['W2'] = np.dot(acts['A1'].T, grads['theta2'])\n",
    "grads['b2'] = np.sum(grads['theta2'], axis=0)\n",
    "\n",
    "# (N x output_dim)(output_dim x hidden_dim)\n",
    "grads['A1'] = np.dot(grads['theta2'], self.params['W2'].T)\n",
    "\n",
    "# (N x hidden_dim)\n",
    "grads['theta1'] = grads['A1'] * ((1 - acts['A1']) * acts['A1'])\n",
    "\n",
    "# (input_dim x N)(N x hidden_dim)\n",
    "grads['W1'] = np.dot(x.T, grads['theta1'])\n",
    "grads['b1'] = np.sum(grads['theta1'], axis=0)\n",
    "```\n",
    "\n",
    "Example for calculating gradients for mean squared error loss\n",
    "```python\n",
    "# (N x output_dim)\n",
    "grads['A2'] = 2.0 * (acts['A2'] - y) \n",
    "grads['theta2'] = grads['A2'] * ((1 - acts['A2']) * acts['A2'])\n",
    "\n",
    "# (hidden_dim x N)(N x output_dim)\n",
    "grads['W2'] = np.dot(acts['a1'].T, grads['theta2'])\n",
    "grads['b2'] = np.sum(grads['theta2'], axis=0)\n",
    "\n",
    "# (N x output_dim)(output_dim x hidden_dim)\n",
    "grads['a1'] = np.dot(grads['theta2'], self.params['W2'].T) \n",
    "grads['theta1'] = grads['a1'] * ((1 - acts['a1']) * acts['a1'])\n",
    "\n",
    "# (input_dim x N)(N x hidden_dim)\n",
    "grads['W1'] = np.dot(x.T, grads['theta1'])\n",
    "grads['b1'] = np.sum(grads['theta1'], axis=0)\n",
    "```"
   ]
  },
  {
   "cell_type": "markdown",
   "metadata": {
    "deletable": true,
    "editable": true
   },
   "source": [
    "## Iris Classification Example\n",
    "### Loss Definition\n",
    "\n",
    "With $\\hat{y}$ being our prediction vector and $y$ being the expected classification, the mean squared error loss is written as follows:\n",
    "\n",
    "$$\n",
    "L = \\frac{1}{N} \\sum (\\hat{y}_{i} - y_{i})^{2}\n",
    "$$\n",
    "\n",
    "### Backprops\n",
    "Derivative of our prediction vector with respect to loss\n",
    "\n",
    "$$\n",
    "\\frac{\\partial L}{\\partial \\hat{y}} = 2 \\cdot (\\hat{y} - y)\n",
    "$$\n",
    "\n",
    "Derivative of $\\theta_{2}$ with respect to $\\hat{y}$\n",
    "\n",
    "$$\n",
    "\\frac{\\partial \\hat{y}}{\\partial \\theta_2} = (1 - \\hat{y}) \\cdot \\hat{y}\n",
    "$$\n",
    "\n",
    "Derivatve of second weight and a with respect to $\\theta_{2}$ \n",
    "\n",
    "$$\n",
    "\\frac{\\partial \\theta_{2}}{\\partial W_{2}} = a \\quad \\frac{\\partial \\theta_{2}}{\\partial a} = W_{2}\n",
    "$$\n",
    "\n",
    "Derivative of $\\theta_{1}$ with respect to a\n",
    "\n",
    "$$\n",
    "\\frac{\\partial a}{\\partial \\theta_1} = (1 - a) \\cdot a\n",
    "$$\n",
    "\n",
    "Derivative of x and $W_{1}$ with respect to $\\theta_{1}$\n",
    "\n",
    "$$\n",
    "\\frac{\\partial \\theta_{1}}{\\partial W_{1}} = x \\quad \\frac{\\partial \\theta_{2}}{\\partial x} = W_{1}\n",
    "$$\n",
    "\n",
    "Therefore, \n",
    "\n",
    "$$\n",
    "\\frac{L}{\\partial W_{2}} = \\frac{\\partial L}{\\partial \\hat{y}} \\cdot \\frac{\\partial \\hat{y}}{\\partial \\theta_2} \\cdot \\frac{\\partial \\theta_{2}}{\\partial W_{2}}\n",
    "$$\n",
    "\n",
    "And,\n",
    "\n",
    "$$\n",
    "\\frac{L}{\\partial W_{1}} = \\frac{\\partial L}{\\partial \\hat{y}} \\cdot \\frac{\\partial \\hat{y}}{\\partial \\theta_2} \\cdot \\frac{\\partial \\theta_{2}}{\\partial a} \\cdot \\frac{\\partial a}{\\partial \\theta_1} \\cdot \\frac{\\partial \\theta_{1}}{\\partial W_{1}}\n",
    "$$\n",
    "\n",
    "### Classifications\n",
    "There are three classes of iris species and they are labeled as class 0, class 1 and class 2. The inputs are vector of 4th dimension i.e. sepal width, sepal length, petal width, and petal length. I represent the output vector as \n",
    "\n",
    "```\n",
    "class-0: [1, 0, 0]\n",
    "class-1: [0, 1, 0]\n",
    "class-2: [0, 0, 1]\n",
    "```"
   ]
  },
  {
   "cell_type": "code",
   "execution_count": 6,
   "metadata": {
    "collapsed": false,
    "deletable": true,
    "editable": true
   },
   "outputs": [
    {
     "name": "stdout",
     "output_type": "stream",
     "text": [
      "Test accuracy before training: 0.333333333333\n",
      "Test accuracy after training: 1.0\n"
     ]
    },
    {
     "data": {
      "image/png": "[encoded data removed]",
      "text/plain": [
       "<matplotlib.figure.Figure at 0x7f55396e5610>"
      ]
     },
     "metadata": {},
     "output_type": "display_data"
    }
   ],
   "source": [
    "%matplotlib inline\n",
    "\n",
    "import matplotlib\n",
    "import numpy as np\n",
    "from simple_models.sq_error_loss_net import SquaredErrorLossNetwork\n",
    "from simple_models.data_util import load_iris_data\n",
    "from matplotlib import pyplot\n",
    "\n",
    "# Load the data\n",
    "xtr, ytr = load_iris_data('simple_models/datasets/iris_train.csv')\n",
    "xte, yte = load_iris_data('simple_models/datasets/iris_test.csv')\n",
    "\n",
    "input_dim, hidden_dim, output_dim = xtr.shape[1], 5, ytr.shape[1]\n",
    "\n",
    "# Instantiate my neural network\n",
    "network = SquaredErrorLossNetwork(input_dim, hidden_dim, output_dim)\n",
    "\n",
    "# Train it!\n",
    "test_acc = (network.predict(xte) == np.argmax(yte, axis=1)).mean()\n",
    "print 'Test accuracy before training: %s' % str(test_acc)\n",
    "\n",
    "iters, loss_hist, acc_hist = network.train(xtr, ytr, num_iters=1000, epoch=10)\n",
    "\n",
    "test_acc = (network.predict(xte) == np.argmax(yte, axis=1)).mean()\n",
    "print 'Test accuracy after training: %s' % str(test_acc)\n",
    "\n",
    "matplotlib.rcParams['figure.figsize'] = (15,12)\n",
    "pyplot.subplot(2, 1, 1)\n",
    "pyplot.plot(iters, loss_hist, '-o')\n",
    "pyplot.title('Cost vs Iterations')\n",
    "pyplot.subplot(2, 1, 2)\n",
    "pyplot.plot(iters, acc_hist, '-o')\n",
    "pyplot.title('Accuracy vs Iterations')\n",
    "pyplot.show()"
   ]
  },
  {
   "cell_type": "markdown",
   "metadata": {
    "deletable": true,
    "editable": true
   },
   "source": [
    "### Results\n",
    "Actually that work out pretty damn well, with 100% classification accuracy. However, it could be because my data set is small. I've only got 120 training examples and 30 test examples. Go to my github to look at the full implementation details:\n",
    "\n",
    "https://www.github.com/calvinfeng/machine-learning-notebook"
   ]
  }
 ],
 "metadata": {
  "kernelspec": {
   "display_name": "Python 2",
   "language": "python",
   "name": "python2"
  },
  "language_info": {
   "codemirror_mode": {
    "name": "ipython",
    "version": 2
   },
   "file_extension": ".py",
   "mimetype": "text/x-python",
   "name": "python",
   "nbconvert_exporter": "python",
   "pygments_lexer": "ipython2",
   "version": "2.7.6"
  }
 },
 "nbformat": 4,
 "nbformat_minor": 0
}
