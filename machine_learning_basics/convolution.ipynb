{
 "cells": [
  {
   "cell_type": "code",
   "execution_count": 4,
   "id": "9cee4238",
   "metadata": {},
   "outputs": [],
   "source": [
    "import torch"
   ]
  },
  {
   "cell_type": "markdown",
   "id": "f1beb16e",
   "metadata": {},
   "source": [
    "$$\n",
    "X = \\begin{bmatrix}\n",
    "0 & 1 \\\\\n",
    "2 & 3\n",
    "\\end{bmatrix}\n",
    "$$\n",
    "\n",
    "$$\n",
    "K = \\begin{bmatrix}\n",
    "0 & 1 \\\\\n",
    "2 & 3\n",
    "\\end{bmatrix}\n",
    "$$\n",
    "\n",
    "$$XK = \n",
    "\\begin{bmatrix}\n",
    "0 & 0 & \\\\\n",
    "0 & 0 & \\\\\n",
    "  &   & \n",
    "\\end{bmatrix}\n",
    "+\n",
    "\\begin{bmatrix}\n",
    "& 0 & 1 \\\\\n",
    "& 2 & 3 \\\\\n",
    "& & \n",
    "\\end{bmatrix}\n",
    "+\n",
    "\\begin{bmatrix}\n",
    "& & \\\\\n",
    "0 & 2 & \\\\\n",
    "4 & 6 &\n",
    "\\end{bmatrix}\n",
    "+\n",
    "\\begin{bmatrix}\n",
    "& & \\\\\n",
    "& 0 & 3 \\\\\n",
    "& 6 & 9\n",
    "\\end{bmatrix}\n",
    "=\n",
    "\\begin{bmatrix}\n",
    "0 & 0 & 1 \\\\\n",
    "0 & 4 & 6 \\\\\n",
    "4 & 12 & 9\n",
    "\\end{bmatrix}\n",
    "$$"
   ]
  },
  {
   "cell_type": "code",
   "execution_count": 3,
   "id": "e2bbf2fe",
   "metadata": {},
   "outputs": [
    {
     "data": {
      "text/plain": [
       "tensor([[ 0.,  0.,  1.],\n",
       "        [ 0.,  4.,  6.],\n",
       "        [ 4., 12.,  9.]])"
      ]
     },
     "execution_count": 3,
     "metadata": {},
     "output_type": "execute_result"
    }
   ],
   "source": [
    "def transpose_conv(X, K):\n",
    "    kh, kw = K.shape\n",
    "    xh, xw = X.shape\n",
    "    Y = torch.zeros((xh + kh - 1, xw + kw - 1))\n",
    "    for i in range(xh):\n",
    "        for j in range(xw):\n",
    "            Y[i:i+kh, j:j+kw] += X[i, j] * K\n",
    "    return Y\n",
    "\n",
    "\n",
    "X = torch.tensor([[0., 1.], [2., 3.]])\n",
    "K = torch.tensor([[0., 1.], [2., 3.]])\n",
    "transpose_conv(X, K)"
   ]
  },
  {
   "cell_type": "code",
   "execution_count": 44,
   "id": "0217a4cf",
   "metadata": {},
   "outputs": [
    {
     "data": {
      "text/plain": [
       "tensor([[[[0., 0., 0., 1.],\n",
       "          [0., 0., 2., 3.],\n",
       "          [0., 2., 0., 3.],\n",
       "          [4., 6., 6., 9.]]]], grad_fn=<ConvolutionBackward0>)"
      ]
     },
     "execution_count": 44,
     "metadata": {},
     "output_type": "execute_result"
    }
   ],
   "source": [
    "X = torch.tensor([[0., 1.], [2., 3.]])\n",
    "K = torch.tensor([[0., 1.], [2., 3.]])\n",
    "X, K = X.reshape(1, 1, 2, 2), K.reshape(1, 1, 2, 2)\n",
    "tconv = torch.nn.ConvTranspose2d(1, 1, kernel_size=2, stride=2, bias=False)\n",
    "tconv.weight.data = K # Inject K\n",
    "tconv(X)"
   ]
  },
  {
   "cell_type": "markdown",
   "id": "9e931984",
   "metadata": {},
   "source": [
    "## Multi-Channels"
   ]
  },
  {
   "cell_type": "markdown",
   "id": "95ec5253",
   "metadata": {},
   "source": [
    "Let $X$ be input with 2 channels.\n",
    "\n",
    "$$\n",
    "X = [X_1, X_2] = \\begin{bmatrix}\n",
    "\\begin{bmatrix}\n",
    "0 & 1 \\\\ 2 & 3\n",
    "\\end{bmatrix}\n",
    "&\n",
    "\\begin{bmatrix}\n",
    "0 & 2 \\\\ 4 & 6\n",
    "\\end{bmatrix}\n",
    "\\end{bmatrix}\n",
    "$$\n",
    "\n",
    "Let $K$ be kernel with 2 channels.\n",
    "\n",
    "$$\n",
    "K = [K_1, K_2] = \\begin{bmatrix}\n",
    "\\begin{bmatrix}\n",
    "1 & 1 \\\\ 1 & 1\n",
    "\\end{bmatrix}\n",
    "&\n",
    "\\begin{bmatrix}\n",
    "0.5 & 0.5 \\\\ 0.5 & 0.5\n",
    "\\end{bmatrix}\n",
    "\\end{bmatrix}\n",
    "$$"
   ]
  },
  {
   "cell_type": "markdown",
   "id": "0820a897",
   "metadata": {},
   "source": [
    "The first values of $X_1$ and $X_2$ are 0, so we expect to get 0's for whatever output. The second value of $X_1$ is 1 and $X_2$ is 2. We should expect output to be\n",
    "\n",
    "$$\n",
    "1 * \\begin{bmatrix} 1 & 1 \\\\ 1 & 1 \\end{bmatrix} + 2 * \\begin{bmatrix} 0.5 & 0.5 \\\\ 0.5 & 0.5 \\end{bmatrix} = \n",
    "\\begin{bmatrix} 2 & 2 \\\\ 2 & 2 \\end{bmatrix} \n",
    "$$\n",
    "\n",
    "Repeat the same logic for every operation.\n",
    "\n",
    "$$\n",
    "2 * \\begin{bmatrix} 1 & 1 \\\\ 1 & 1 \\end{bmatrix} + 4 * \\begin{bmatrix} 0.5 & 0.5 \\\\ 0.5 & 0.5 \\end{bmatrix} = \n",
    "\\begin{bmatrix} 4 & 4 \\\\ 4 & 4 \\end{bmatrix} \n",
    "$$\n",
    "\n",
    "$$\n",
    "3 * \\begin{bmatrix} 1 & 1 \\\\ 1 & 1 \\end{bmatrix} + 6 * \\begin{bmatrix} 0.5 & 0.5 \\\\ 0.5 & 0.5 \\end{bmatrix} = \n",
    "\\begin{bmatrix} 6 & 6 \\\\ 6 & 6 \\end{bmatrix} \n",
    "$$"
   ]
  },
  {
   "cell_type": "code",
   "execution_count": 125,
   "id": "87506851",
   "metadata": {},
   "outputs": [
    {
     "data": {
      "text/plain": [
       "tensor([[[[0., 0., 2., 2.],\n",
       "          [0., 0., 2., 2.],\n",
       "          [4., 4., 6., 6.],\n",
       "          [4., 4., 6., 6.]]]], grad_fn=<ConvolutionBackward0>)"
      ]
     },
     "execution_count": 125,
     "metadata": {},
     "output_type": "execute_result"
    }
   ],
   "source": [
    "X1 = torch.tensor([[0., 1.], [2., 3.]])\n",
    "X2 = torch.tensor([[0., 2.], [4., 6.]])\n",
    "X = torch.stack([X1,X2])\n",
    "\n",
    "# Kernel with 2 channels.\n",
    "K1 = torch.tensor([[1.0, 1.0], [1.0, 1.0]])\n",
    "K2 = torch.tensor([[0.5, 0.5], [0.5, 0.5]])\n",
    "K = torch.stack([K1, K2])\n",
    "\n",
    "X, K = X.reshape(1, 2, 2, 2), K.reshape(2, 1, 2, 2) # Channel-first then N and (H,W)\n",
    "tconv = torch.nn.ConvTranspose2d(2, 1, kernel_size=2, stride=2, bias=False)\n",
    "tconv.weight.data = K # Inject K\n",
    "tconv(X)"
   ]
  },
  {
   "cell_type": "code",
   "execution_count": 53,
   "id": "d2377690",
   "metadata": {},
   "outputs": [
    {
     "name": "stdout",
     "output_type": "stream",
     "text": [
      "torch.Size([2, 1, 2, 2])\n"
     ]
    }
   ],
   "source": [
    "tconv = torch.nn.ConvTranspose2d(2, 1, kernel_size=2, stride=2, bias=False)\n",
    "print(tconv.weight.data.shape)"
   ]
  },
  {
   "cell_type": "markdown",
   "id": "cf007309",
   "metadata": {},
   "source": [
    "## Connection to Matrix Transposition"
   ]
  },
  {
   "cell_type": "code",
   "execution_count": 104,
   "id": "61c50c0e",
   "metadata": {},
   "outputs": [],
   "source": [
    "X = torch.arange(9.0).reshape(3, 3)\n",
    "K = torch.tensor([[1.0, 2.0], [3.0, 4.0]])"
   ]
  },
  {
   "cell_type": "code",
   "execution_count": 112,
   "id": "00aa908e",
   "metadata": {},
   "outputs": [
    {
     "data": {
      "text/plain": [
       "tensor([[1., 2., 0., 3., 4., 0., 0., 0., 0.],\n",
       "        [0., 1., 2., 0., 3., 4., 0., 0., 0.],\n",
       "        [0., 0., 0., 1., 2., 0., 3., 4., 0.],\n",
       "        [0., 0., 0., 0., 1., 2., 0., 3., 4.]])"
      ]
     },
     "execution_count": 112,
     "metadata": {},
     "output_type": "execute_result"
    }
   ],
   "source": [
    "def kernel2matrix(K):\n",
    "    k, W = torch.zeros(5), torch.zeros((4, 9))\n",
    "    k[:2], k[3:5] = K[0, :], K[1, :]\n",
    "    W[0, :5], W[1, 1:6], W[2, 3:8], W[3, 4:] = k, k, k, k\n",
    "    return W\n",
    "\n",
    "W = kernel2matrix(K)\n",
    "W"
   ]
  },
  {
   "cell_type": "code",
   "execution_count": 111,
   "id": "20b98dbf",
   "metadata": {},
   "outputs": [
    {
     "data": {
      "text/plain": [
       "tensor([[0., 1., 2.],\n",
       "        [3., 4., 5.],\n",
       "        [6., 7., 8.]])"
      ]
     },
     "execution_count": 111,
     "metadata": {},
     "output_type": "execute_result"
    }
   ],
   "source": [
    "X"
   ]
  },
  {
   "cell_type": "markdown",
   "id": "0deaaf07",
   "metadata": {},
   "source": [
    "Perform convolution."
   ]
  },
  {
   "cell_type": "code",
   "execution_count": 115,
   "id": "1e60996e",
   "metadata": {},
   "outputs": [
    {
     "data": {
      "text/plain": [
       "tensor([[27., 37.],\n",
       "        [57., 67.]])"
      ]
     },
     "execution_count": 115,
     "metadata": {},
     "output_type": "execute_result"
    }
   ],
   "source": [
    "Y = (W @ X.reshape(-1)).reshape((2, 2))\n",
    "Y"
   ]
  },
  {
   "cell_type": "markdown",
   "id": "c6ee4ccd",
   "metadata": {},
   "source": [
    "To restore the matrix, we can just do a transpose of $W$. But, we only get back original values if we have a correct transpose version of $W$."
   ]
  },
  {
   "cell_type": "code",
   "execution_count": 118,
   "id": "1df90b81",
   "metadata": {},
   "outputs": [
    {
     "data": {
      "text/plain": [
       "tensor([[ 27.,  91.,  74.],\n",
       "        [138., 400., 282.],\n",
       "        [171., 429., 268.]])"
      ]
     },
     "execution_count": 118,
     "metadata": {},
     "output_type": "execute_result"
    }
   ],
   "source": [
    "(W.T @ Y.reshape(-1)).reshape(3, 3)"
   ]
  },
  {
   "cell_type": "markdown",
   "id": "d8b05b8e",
   "metadata": {},
   "source": [
    "## as_strided"
   ]
  },
  {
   "cell_type": "markdown",
   "id": "178191ea",
   "metadata": {},
   "source": [
    "$$\\begin{bmatrix}\n",
    "1 & 2 & 3 \\\\\n",
    "4 & 5 & 6 \\\\\n",
    "7 & 8 & 9\n",
    "\\end{bmatrix}\n",
    "$$"
   ]
  },
  {
   "cell_type": "code",
   "execution_count": 72,
   "id": "d378ca98",
   "metadata": {
    "scrolled": true
   },
   "outputs": [],
   "source": [
    "x = torch.tensor([[1., 2., 3.], [4., 5., 6.], [7., 8., 9.]])\n",
    "N, D = x.shape"
   ]
  },
  {
   "cell_type": "markdown",
   "id": "1f2316d2",
   "metadata": {},
   "source": [
    "X is flatten to `[1, 2, 3, 4, 5, 6, 7, 8, 9]`, Stride (3, 1), it takes every 3rd element as `row[i][0]` and every element for `row[i][j]`."
   ]
  },
  {
   "cell_type": "code",
   "execution_count": 85,
   "id": "5e76d602",
   "metadata": {},
   "outputs": [
    {
     "data": {
      "text/plain": [
       "tensor([[1., 2.],\n",
       "        [4., 5.]])"
      ]
     },
     "execution_count": 85,
     "metadata": {},
     "output_type": "execute_result"
    }
   ],
   "source": [
    "torch.as_strided(x, (2, 2), (N, 1))"
   ]
  },
  {
   "cell_type": "markdown",
   "id": "af32fa3a",
   "metadata": {},
   "source": [
    "Use offset to slide it."
   ]
  },
  {
   "cell_type": "code",
   "execution_count": 65,
   "id": "a7fb8064",
   "metadata": {},
   "outputs": [
    {
     "data": {
      "text/plain": [
       "tensor([[2., 3.],\n",
       "        [5., 6.]])"
      ]
     },
     "execution_count": 65,
     "metadata": {},
     "output_type": "execute_result"
    }
   ],
   "source": [
    "torch.as_strided(x, (2, 2), (N, 1), 1)"
   ]
  },
  {
   "cell_type": "code",
   "execution_count": 83,
   "id": "c805601d",
   "metadata": {},
   "outputs": [
    {
     "data": {
      "text/plain": [
       "tensor([[4., 5.],\n",
       "        [7., 8.]])"
      ]
     },
     "execution_count": 83,
     "metadata": {},
     "output_type": "execute_result"
    }
   ],
   "source": [
    "x.as_strided((2, 2), (N, 1), 3)"
   ]
  },
  {
   "cell_type": "code",
   "execution_count": 71,
   "id": "507964f9",
   "metadata": {},
   "outputs": [
    {
     "data": {
      "text/plain": [
       "tensor([[5., 6.],\n",
       "        [8., 9.]])"
      ]
     },
     "execution_count": 71,
     "metadata": {},
     "output_type": "execute_result"
    }
   ],
   "source": [
    "torch.as_strided(x, (2, 2), (N, 1), 4)"
   ]
  },
  {
   "cell_type": "code",
   "execution_count": null,
   "id": "72ae13b2",
   "metadata": {},
   "outputs": [],
   "source": []
  }
 ],
 "metadata": {
  "kernelspec": {
   "display_name": "Python 3 (ipykernel)",
   "language": "python",
   "name": "python3"
  },
  "language_info": {
   "codemirror_mode": {
    "name": "ipython",
    "version": 3
   },
   "file_extension": ".py",
   "mimetype": "text/x-python",
   "name": "python",
   "nbconvert_exporter": "python",
   "pygments_lexer": "ipython3",
   "version": "3.8.10"
  }
 },
 "nbformat": 4,
 "nbformat_minor": 5
}
