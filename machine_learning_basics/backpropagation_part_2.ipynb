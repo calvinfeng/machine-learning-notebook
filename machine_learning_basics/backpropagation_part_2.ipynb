{
 "cells": [
  {
   "cell_type": "markdown",
   "id": "d05b3a88-7079-4c90-a5db-378d9b207ffa",
   "metadata": {},
   "source": [
    "# Backpropagation Part 2"
   ]
  },
  {
   "cell_type": "code",
   "execution_count": 16,
   "id": "5afc47f5-dab0-46c0-8791-449b4842b05c",
   "metadata": {},
   "outputs": [],
   "source": [
    "import numpy as np\n",
    "from tensorflow.keras.layers import Softmax, Conv2D, Dense, Input\n",
    "from tensorflow.keras.losses import CategoricalCrossentropy"
   ]
  },
  {
   "cell_type": "code",
   "execution_count": 45,
   "id": "6ecf671f-ec6e-4854-8b69-49e02af7b7ed",
   "metadata": {},
   "outputs": [],
   "source": [
    "softmax = Softmax()\n",
    "\n",
    "\n",
    "def my_softmax(y):\n",
    "    z = np.sum(np.exp(y), axis=1, keepdims=True)\n",
    "    log_probs = y - np.log(z)\n",
    "    return np.exp(log_probs)\n",
    "\n",
    "def my_better_softmax(y):\n",
    "    shifted_logits = y - np.max(y, axis=1, keepdims=True)\n",
    "    z = np.sum(np.exp(shifted_logits), axis=1, keepdims=True)\n",
    "    log_probs = shifted_logits - np.log(z)\n",
    "    return np.exp(log_probs)"
   ]
  },
  {
   "cell_type": "code",
   "execution_count": 46,
   "id": "54f56944-e243-449c-abc0-edab19f686bb",
   "metadata": {},
   "outputs": [
    {
     "name": "stdout",
     "output_type": "stream",
     "text": [
      "tf.Tensor(\n",
      "[[0. 1. 0.]\n",
      " [0. 1. 0.]], shape=(2, 3), dtype=float32)\n",
      "[[0. 0. 0.]\n",
      " [0. 0. 0.]]\n",
      "[[0. 1. 0.]\n",
      " [0. 1. 0.]]\n"
     ]
    },
    {
     "name": "stderr",
     "output_type": "stream",
     "text": [
      "/tmp/ipykernel_358000/838545724.py:5: RuntimeWarning: overflow encountered in exp\n",
      "  z = np.sum(np.exp(y), axis=1, keepdims=True)\n"
     ]
    }
   ],
   "source": [
    "y = np.array([[-200, 100, 5], [-200, 100, -5]]).astype(np.float64) * 1000\n",
    "print(softmax(y))\n",
    "print(my_softmax(y))\n",
    "print(my_better_softmax(y))"
   ]
  },
  {
   "cell_type": "code",
   "execution_count": 75,
   "id": "9a47866c-f61e-4179-abdd-22950ad594b3",
   "metadata": {},
   "outputs": [
    {
     "data": {
      "text/plain": [
       "0.6040394277047364"
      ]
     },
     "execution_count": 75,
     "metadata": {},
     "output_type": "execute_result"
    }
   ],
   "source": [
    "y_true = np.array([[0.3, 0.4, 0.3], [0.5, 0.5, 0.0], [1.0, 0.0, 0.0]])\n",
    "y_pred = np.array([[0.3, 0.4, 0.29], [0.5, 0.5, 0.01], [0.99, 0.01, 0.01]])\n",
    "cce = CategoricalCrossentropy()\n",
    "cce(y_true, y_pred).numpy()"
   ]
  },
  {
   "cell_type": "code",
   "execution_count": 76,
   "id": "33796e79-8292-4c35-9b22-3096e205d70e",
   "metadata": {},
   "outputs": [
    {
     "data": {
      "text/plain": [
       "0.6007559857537915"
      ]
     },
     "execution_count": 76,
     "metadata": {},
     "output_type": "execute_result"
    }
   ],
   "source": [
    "def my_cross_entropy(y_true, y_pred):\n",
    "    log_probs = np.log(y_pred)\n",
    "    return -np.sum(y_true * log_probs) / y_true.shape[0]\n",
    "\n",
    "my_cross_entropy(y_true, y_pred)"
   ]
  },
  {
   "cell_type": "code",
   "execution_count": 80,
   "id": "2fcdacbe-f683-44c6-b281-959dd98235d4",
   "metadata": {},
   "outputs": [
    {
     "data": {
      "text/plain": [
       "array([[1., 0., 0., 0., 0.],\n",
       "       [0., 1., 0., 0., 0.],\n",
       "       [0., 0., 1., 0., 0.],\n",
       "       [0., 0., 0., 1., 0.],\n",
       "       [0., 0., 0., 0., 1.]])"
      ]
     },
     "execution_count": 80,
     "metadata": {},
     "output_type": "execute_result"
    }
   ],
   "source": [
    "np.identity(5)"
   ]
  },
  {
   "cell_type": "code",
   "execution_count": 10,
   "id": "ea1e0ea3-4d9f-45bd-b77f-4e7be9814719",
   "metadata": {},
   "outputs": [
    {
     "data": {
      "text/plain": [
       "array([[0., 0., 0., 0., 0.],\n",
       "       [0., 1., 1., 1., 0.],\n",
       "       [0., 1., 1., 1., 0.],\n",
       "       [0., 1., 1., 1., 0.],\n",
       "       [0., 0., 0., 0., 0.]])"
      ]
     },
     "execution_count": 10,
     "metadata": {},
     "output_type": "execute_result"
    }
   ],
   "source": [
    "x = np.ones((3, 3))\n",
    "np.pad(x, [(1, 1), (1, 1)], mode)"
   ]
  },
  {
   "cell_type": "code",
   "execution_count": 13,
   "id": "1cbe98e1-a891-4536-8250-46e22d14534f",
   "metadata": {},
   "outputs": [
    {
     "data": {
      "text/plain": [
       "54.0"
      ]
     },
     "execution_count": 13,
     "metadata": {},
     "output_type": "execute_result"
    }
   ],
   "source": [
    "x = np.ones((1, 5, 5, 3))\n",
    "f = 2 * np.ones((2, 3, 3))\n",
    "\n",
    "np.sum(x[0, 0:3, 0:3, :] * f[0])"
   ]
  },
  {
   "cell_type": "code",
   "execution_count": 21,
   "id": "3821a20c-7433-4ef4-9120-9aaa87a1f2eb",
   "metadata": {},
   "outputs": [],
   "source": [
    "x = Input((1, 5, 5, 3))\n",
    "conv2d = Conv2D(5,3)(x)\n",
    "dense = Dense(10)(conv2d)"
   ]
  },
  {
   "cell_type": "code",
   "execution_count": 22,
   "id": "1aa16356-61fe-4787-8956-07513f49c703",
   "metadata": {},
   "outputs": [
    {
     "name": "stdout",
     "output_type": "stream",
     "text": [
      "KerasTensor(type_spec=TensorSpec(shape=(None, 1, 3, 3, 5), dtype=tf.float32, name=None), name='conv2d_3/squeeze_batch_dims/Reshape_1:0', description=\"created by layer 'conv2d_3'\")\n",
      "KerasTensor(type_spec=TensorSpec(shape=(None, 1, 3, 3, 10), dtype=tf.float32, name=None), name='dense_3/BiasAdd:0', description=\"created by layer 'dense_3'\")\n"
     ]
    }
   ],
   "source": [
    "print(conv2d)\n",
    "print(dense)"
   ]
  },
  {
   "cell_type": "code",
   "execution_count": 24,
   "id": "7aa11100-8b4d-4acc-807c-cf52d3067089",
   "metadata": {},
   "outputs": [
    {
     "data": {
      "text/plain": [
       "(1, 5, 5, 10)"
      ]
     },
     "execution_count": 24,
     "metadata": {},
     "output_type": "execute_result"
    }
   ],
   "source": [
    "np.matmul(np.ones((1, 5, 5, 3)), np.ones((3, 10))).shape "
   ]
  },
  {
   "cell_type": "code",
   "execution_count": null,
   "id": "7cf4b9e0-f8d1-47ed-9963-7a4012c708af",
   "metadata": {},
   "outputs": [],
   "source": []
  }
 ],
 "metadata": {
  "kernelspec": {
   "display_name": "Python 3 (ipykernel)",
   "language": "python",
   "name": "python3"
  },
  "language_info": {
   "codemirror_mode": {
    "name": "ipython",
    "version": 3
   },
   "file_extension": ".py",
   "mimetype": "text/x-python",
   "name": "python",
   "nbconvert_exporter": "python",
   "pygments_lexer": "ipython3",
   "version": "3.8.10"
  }
 },
 "nbformat": 4,
 "nbformat_minor": 5
}
