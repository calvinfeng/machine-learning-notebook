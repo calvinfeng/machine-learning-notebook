{
 "cells": [
  {
   "cell_type": "markdown",
   "id": "a9a28877-ebd4-4013-bcac-29fef493b5b7",
   "metadata": {},
   "source": [
    "# Backpropagation Part 1"
   ]
  },
  {
   "cell_type": "markdown",
   "id": "851eb19b",
   "metadata": {},
   "source": [
    "The objective of this notebook is to perform backpropagation and overfit a model to training data without the help of TensorFlow or PyTorch autograd. I will derive the gradients of \n",
    "\n",
    "- Affine transformation, a.k.a. Dense layer in TensorFlow Keras\n",
    "- ReLU Activation\n",
    "- Sigmoid Activation\n",
    "- Mean Squared Error"
   ]
  },
  {
   "cell_type": "markdown",
   "id": "939b5497-b868-43c6-8069-3ca673ca8cd8",
   "metadata": {},
   "source": [
    "## Demonstrate with TensorFlow"
   ]
  },
  {
   "cell_type": "markdown",
   "id": "9a3ebeb4-c9ff-4233-812a-ea6894e8e009",
   "metadata": {},
   "source": [
    "Let's start with a toy example of learning a sine function using TensorFlow. I will use root mean squared loss. Since my model uses sigmoid activation, the outputs can only be in `[0, 1]` range. I need to transform the sine function from `[-1, 1]` to `[0, 1]` range.\n",
    "\n",
    "$$\n",
    "\\frac{\\sin(x) + 1}{2} \\approx \\text{model}(x) = \\hat{y} \\in [0, 1]\n",
    "$$"
   ]
  },
  {
   "cell_type": "code",
   "execution_count": 1,
   "id": "72447acf-a246-4e1e-9cc2-dbfa153b3e46",
   "metadata": {},
   "outputs": [
    {
     "name": "stderr",
     "output_type": "stream",
     "text": [
      "2023-05-26 22:33:40.670056: I tensorflow/core/platform/cpu_feature_guard.cc:193] This TensorFlow binary is optimized with oneAPI Deep Neural Network Library (oneDNN) to use the following CPU instructions in performance-critical operations:  AVX2 AVX512F AVX512_VNNI FMA\n",
      "To enable them in other operations, rebuild TensorFlow with the appropriate compiler flags.\n",
      "2023-05-26 22:33:40.785539: I tensorflow/core/util/port.cc:104] oneDNN custom operations are on. You may see slightly different numerical results due to floating-point round-off errors from different computation orders. To turn them off, set the environment variable `TF_ENABLE_ONEDNN_OPTS=0`.\n",
      "2023-05-26 22:33:41.325666: W tensorflow/compiler/xla/stream_executor/platform/default/dso_loader.cc:64] Could not load dynamic library 'libnvinfer.so.7'; dlerror: libnvinfer.so.7: cannot open shared object file: No such file or directory\n",
      "2023-05-26 22:33:41.325718: W tensorflow/compiler/xla/stream_executor/platform/default/dso_loader.cc:64] Could not load dynamic library 'libnvinfer_plugin.so.7'; dlerror: libnvinfer_plugin.so.7: cannot open shared object file: No such file or directory\n",
      "2023-05-26 22:33:41.325723: W tensorflow/compiler/tf2tensorrt/utils/py_utils.cc:38] TF-TRT Warning: Cannot dlopen some TensorRT libraries. If you would like to use Nvidia GPU with TensorRT, please make sure the missing libraries mentioned above are installed properly.\n"
     ]
    }
   ],
   "source": [
    "import matplotlib.pyplot as plt\n",
    "import numpy as np\n",
    "import tensorflow as tf\n",
    "from tensorflow.keras import Sequential\n",
    "from tensorflow.keras.layers import Dense\n",
    "from tensorflow.keras.initializers import RandomNormal, Zeros\n",
    "from tensorflow.keras.losses import MeanSquaredError\n",
    "from tensorflow.keras.optimizers import Adam\n",
    "from tqdm import tqdm"
   ]
  },
  {
   "cell_type": "code",
   "execution_count": 2,
   "id": "2f087e4b-3de2-434b-887e-b60f1f9ad713",
   "metadata": {},
   "outputs": [
    {
     "name": "stdout",
     "output_type": "stream",
     "text": [
      "Model: \"sequential\"\n",
      "_________________________________________________________________\n",
      " Layer (type)                Output Shape              Param #   \n",
      "=================================================================\n",
      " dense_1 (Dense)             (None, 128)               256       \n",
      "                                                                 \n",
      " dense_2 (Dense)             (None, 128)               16512     \n",
      "                                                                 \n",
      " dense_3 (Dense)             (None, 1)                 129       \n",
      "                                                                 \n",
      "=================================================================\n",
      "Total params: 16,897\n",
      "Trainable params: 16,897\n",
      "Non-trainable params: 0\n",
      "_________________________________________________________________\n",
      "X: (512, 1)\n",
      "Y: (512, 1)\n"
     ]
    },
    {
     "name": "stderr",
     "output_type": "stream",
     "text": [
      "2023-05-26 22:33:42.097793: I tensorflow/compiler/xla/stream_executor/cuda/cuda_gpu_executor.cc:981] successful NUMA node read from SysFS had negative value (-1), but there must be at least one NUMA node, so returning NUMA node zero\n",
      "2023-05-26 22:33:42.103342: W tensorflow/compiler/xla/stream_executor/platform/default/dso_loader.cc:64] Could not load dynamic library 'libcudnn.so.8'; dlerror: libcudnn.so.8: cannot open shared object file: No such file or directory\n",
      "2023-05-26 22:33:42.103362: W tensorflow/core/common_runtime/gpu/gpu_device.cc:1934] Cannot dlopen some GPU libraries. Please make sure the missing libraries mentioned above are installed properly if you would like to use GPU. Follow the guide at https://www.tensorflow.org/install/gpu for how to download and setup the required libraries for your platform.\n",
      "Skipping registering GPU devices...\n",
      "2023-05-26 22:33:42.103963: I tensorflow/core/platform/cpu_feature_guard.cc:193] This TensorFlow binary is optimized with oneAPI Deep Neural Network Library (oneDNN) to use the following CPU instructions in performance-critical operations:  AVX2 AVX512F AVX512_VNNI FMA\n",
      "To enable them in other operations, rebuild TensorFlow with the appropriate compiler flags.\n"
     ]
    },
    {
     "data": {
      "text/plain": [
       "<matplotlib.legend.Legend at 0x7fa0b02feac0>"
      ]
     },
     "execution_count": 2,
     "metadata": {},
     "output_type": "execute_result"
    },
    {
     "data": {
      "image/png": "[encoded data removed]",
      "text/plain": [
       "<Figure size 640x480 with 1 Axes>"
      ]
     },
     "metadata": {},
     "output_type": "display_data"
    }
   ],
   "source": [
    "tf.random.set_seed(1337)\n",
    "tf_model = Sequential([\n",
    "    Dense(128, activation=\"relu\", name=\"dense_1\", kernel_initializer=RandomNormal(stddev=0.01), bias_initializer=Zeros()),\n",
    "    Dense(128, activation=\"relu\", name=\"dense_2\", kernel_initializer=RandomNormal(stddev=0.01), bias_initializer=Zeros()),\n",
    "    Dense(1, activation=\"sigmoid\", name=\"dense_3\", kernel_initializer=RandomNormal(stddev=0.01), bias_initializer=Zeros()),\n",
    "])\n",
    "tf_model.build((None, 1))\n",
    "tf_model.summary()\n",
    "\n",
    "x = np.arange(0., 2*np.pi, 2*np.pi/512)\n",
    "np.random.shuffle(x)\n",
    "y_true = (np.sin(x) + 1) / 2\n",
    "\n",
    "x = np.expand_dims(x, axis=-1)\n",
    "y_true = np.expand_dims(y_true, axis=-1)\n",
    "y_pred = tf_model(x).numpy()\n",
    "\n",
    "print(f\"X: {x.shape}\")\n",
    "print(f\"Y: {y_true.shape}\")\n",
    "plt.scatter(x.flatten(), y_true.flatten(), s=2, label=\"Ground Truth\")\n",
    "plt.scatter(x.flatten(), y_pred.flatten(), s=2, label=\"Prediction Before Training\")\n",
    "plt.legend()"
   ]
  },
  {
   "cell_type": "markdown",
   "id": "16031c99-16fe-40e0-840b-68583698d216",
   "metadata": {},
   "source": [
    "Compute gradients and perform training."
   ]
  },
  {
   "cell_type": "code",
   "execution_count": 3,
   "id": "93aa33f0-3338-4645-921e-00d16ec4fadb",
   "metadata": {},
   "outputs": [
    {
     "name": "stderr",
     "output_type": "stream",
     "text": [
      "Training progress: 100%|██████████████████████████████████████████████████████████████████████████████████████████████████████████████████████████████████████████████████████████████████████████████████████████████████████████████████| 30/30 [00:08<00:00,  3.48it/s]"
     ]
    },
    {
     "name": "stdout",
     "output_type": "stream",
     "text": [
      "X: (512, 1)\n",
      "Y: (512, 1)\n"
     ]
    },
    {
     "name": "stderr",
     "output_type": "stream",
     "text": [
      "\n"
     ]
    },
    {
     "data": {
      "text/plain": [
       "<matplotlib.legend.Legend at 0x7fa0b01d3ee0>"
      ]
     },
     "execution_count": 3,
     "metadata": {},
     "output_type": "execute_result"
    },
    {
     "data": {
      "image/png": "[encoded data removed]",
      "text/plain": [
       "<Figure size 640x480 with 2 Axes>"
      ]
     },
     "metadata": {},
     "output_type": "display_data"
    }
   ],
   "source": [
    "N = x.shape[0]\n",
    "batch_size = 16\n",
    "epochs = 30\n",
    "history = []\n",
    "optimizer = Adam(learning_rate=1e-2)\n",
    "mse = MeanSquaredError()\n",
    "\n",
    "for epoch in tqdm(range(epochs), desc=\"Training progress\"):\n",
    "    for i in range(N // batch_size):\n",
    "        start = i * batch_size\n",
    "        end = start + batch_size\n",
    "        batch_x = x[start:end]\n",
    "        batch_y = y_true[start:end]\n",
    "        \n",
    "        with tf.GradientTape() as tape:\n",
    "            batch_y_pred = tf_model(batch_x)\n",
    "            loss = mse(batch_y, batch_y_pred)\n",
    "            \n",
    "        gradients = tape.gradient(loss, tf_model.trainable_variables)\n",
    "        optimizer.apply_gradients(zip(gradients, tf_model.trainable_variables))\n",
    "    \n",
    "    # Compute epoch loss\n",
    "    y_pred = tf_model(x)\n",
    "    loss = mse(y_true, y_pred)\n",
    "    history.append((epoch, loss.numpy()))\n",
    "\n",
    "\n",
    "fig, axs = plt.subplots(2)\n",
    "axs[0].plot([dp[0] for dp in history], [dp[1] for dp in history])\n",
    "y_pred = tf_model(x).numpy()\n",
    "\n",
    "print(f\"X: {x.shape}\")\n",
    "print(f\"Y: {y_true.shape}\")\n",
    "axs[1].scatter(x.flatten(), y_true.flatten(), s=2, label=\"Ground Truth\")\n",
    "axs[1].scatter(x.flatten(), y_pred.flatten(), s=2, label=\"Prediction After Training\")\n",
    "axs[1].legend()"
   ]
  },
  {
   "cell_type": "markdown",
   "id": "cffad239-5f80-42f0-ac8d-1d5f2e15b4c0",
   "metadata": {},
   "source": [
    "## Demonstrate with Numpy"
   ]
  },
  {
   "cell_type": "markdown",
   "id": "66c2f5f5-5266-427a-9370-f4d39d5f66e9",
   "metadata": {},
   "source": [
    "Without the help of auto differentiation, I will write the same functionality with numpy and some calculus. I will use random normal weight initialization. Keep in mind that `numpy` returns random normal distribution with `mean=0` and `std=1`. A new random normal distribution can be defined as follows.\n",
    "\n",
    "$$\n",
    "X^\\prime = \\sigma X + \\mu\n",
    "$$"
   ]
  },
  {
   "cell_type": "code",
   "execution_count": 4,
   "id": "fc653b5a-5735-4ea3-85f8-4ae0ff9a457f",
   "metadata": {},
   "outputs": [],
   "source": [
    "from IPython.display import Code\n",
    "\n",
    "from layers.dense import Dense\n",
    "from layers.relu import ReLU\n",
    "from layers.sigmoid import Sigmoid\n",
    "from losses.mse import MeanSquaredError\n",
    "\n",
    "\n",
    "class NumpyModel:\n",
    "    def __init__(self, weight_stddev=0.01):\n",
    "        self.params = {\n",
    "            \"dense_1/kernel\": weight_stddev * np.random.randn(1, 128),\n",
    "            \"dense_1/bias\": np.zeros((128,)),\n",
    "            \"dense_2/kernel\": weight_stddev * np.random.randn(128, 128),\n",
    "            \"dense_2/bias\": np.zeros((128,)),\n",
    "            \"dense_3/kernel\": weight_stddev * np.random.randn(128, 1),\n",
    "            \"dense_3/bias\": np.zeros((1,)),\n",
    "        }\n",
    "        self.dense_1 = Dense()\n",
    "        self.act_1 = ReLU()\n",
    "        self.dense_2 = Dense()\n",
    "        self.act_2 = ReLU()\n",
    "        self.dense_3 = Dense()\n",
    "        self.act_3 = Sigmoid()\n",
    "        \n",
    "    def __call__(self, x):\n",
    "        x = self.dense_1(x, self.params['dense_1/kernel'], self.params['dense_1/bias'])\n",
    "        x = self.act_1(x)\n",
    "        x = self.dense_2(x, self.params['dense_2/kernel'], self.params['dense_2/bias'])\n",
    "        x = self.act_2(x)\n",
    "        x = self.dense_3(x, self.params['dense_3/kernel'], self.params['dense_3/bias'])\n",
    "        x = self.act_3(x)\n",
    "        return x"
   ]
  },
  {
   "cell_type": "markdown",
   "id": "3669115f-ab39-46f6-8050-5f53a10a87fb",
   "metadata": {},
   "source": [
    "Now I have a model that produces the output and loss value like the TensorFlow model I setup above."
   ]
  },
  {
   "cell_type": "code",
   "execution_count": 5,
   "id": "67cf5ce9-604c-46ac-aca2-002e8da44507",
   "metadata": {},
   "outputs": [
    {
     "name": "stdout",
     "output_type": "stream",
     "text": [
      "Loss:\n",
      " [0.12498234]\n"
     ]
    }
   ],
   "source": [
    "np_model = NumpyModel()\n",
    "loss_fn = MeanSquaredError()\n",
    "y_pred = np_model(x)\n",
    "loss = loss_fn(y_true, y_pred)\n",
    "print(\"Loss:\\n\", loss.flatten())"
   ]
  },
  {
   "cell_type": "markdown",
   "id": "97b58ef1-bd29-4cd9-b3d3-39404a838a37",
   "metadata": {},
   "source": [
    "## Verify Gradient Computation"
   ]
  },
  {
   "cell_type": "markdown",
   "id": "79bd7892-e765-4dfb-8a8f-fb312fc3f600",
   "metadata": {},
   "source": [
    "### Gradient of Loss"
   ]
  },
  {
   "cell_type": "markdown",
   "id": "6125bae5-e2d3-4f78-ba76-79de91a9362d",
   "metadata": {},
   "source": [
    "The L2 loss is defined as follows.\n",
    "\n",
    "$$\n",
    "L = \\frac{1}{N}\\Sigma_{i=0}^{N-1} (y_{i} - \\hat{y}_{i})^2\n",
    "$$\n",
    "\n",
    "The derivative of loss with respect to prediction is then:\n",
    "\n",
    "$$\n",
    "\\frac{\\partial L}{\\partial \\hat{y}} = \\frac{2}{N} \\cdot (y - \\hat{y})\n",
    "$$"
   ]
  },
  {
   "cell_type": "code",
   "execution_count": 6,
   "id": "ba108e25-60d8-4a3c-89de-54a8bf57c8a3",
   "metadata": {},
   "outputs": [
    {
     "data": {
      "text/html": [
       "<style>pre { line-height: 125%; }\n",
       "td.linenos .normal { color: inherit; background-color: transparent; padding-left: 5px; padding-right: 5px; }\n",
       "span.linenos { color: inherit; background-color: transparent; padding-left: 5px; padding-right: 5px; }\n",
       "td.linenos .special { color: #000000; background-color: #ffffc0; padding-left: 5px; padding-right: 5px; }\n",
       "span.linenos.special { color: #000000; background-color: #ffffc0; padding-left: 5px; padding-right: 5px; }\n",
       ".output_html .hll { background-color: #ffffcc }\n",
       ".output_html { background: #f8f8f8; }\n",
       ".output_html .c { color: #3D7B7B; font-style: italic } /* Comment */\n",
       ".output_html .err { border: 1px solid #FF0000 } /* Error */\n",
       ".output_html .k { color: #008000; font-weight: bold } /* Keyword */\n",
       ".output_html .o { color: #666666 } /* Operator */\n",
       ".output_html .ch { color: #3D7B7B; font-style: italic } /* Comment.Hashbang */\n",
       ".output_html .cm { color: #3D7B7B; font-style: italic } /* Comment.Multiline */\n",
       ".output_html .cp { color: #9C6500 } /* Comment.Preproc */\n",
       ".output_html .cpf { color: #3D7B7B; font-style: italic } /* Comment.PreprocFile */\n",
       ".output_html .c1 { color: #3D7B7B; font-style: italic } /* Comment.Single */\n",
       ".output_html .cs { color: #3D7B7B; font-style: italic } /* Comment.Special */\n",
       ".output_html .gd { color: #A00000 } /* Generic.Deleted */\n",
       ".output_html .ge { font-style: italic } /* Generic.Emph */\n",
       ".output_html .gr { color: #E40000 } /* Generic.Error */\n",
       ".output_html .gh { color: #000080; font-weight: bold } /* Generic.Heading */\n",
       ".output_html .gi { color: #008400 } /* Generic.Inserted */\n",
       ".output_html .go { color: #717171 } /* Generic.Output */\n",
       ".output_html .gp { color: #000080; font-weight: bold } /* Generic.Prompt */\n",
       ".output_html .gs { font-weight: bold } /* Generic.Strong */\n",
       ".output_html .gu { color: #800080; font-weight: bold } /* Generic.Subheading */\n",
       ".output_html .gt { color: #0044DD } /* Generic.Traceback */\n",
       ".output_html .kc { color: #008000; font-weight: bold } /* Keyword.Constant */\n",
       ".output_html .kd { color: #008000; font-weight: bold } /* Keyword.Declaration */\n",
       ".output_html .kn { color: #008000; font-weight: bold } /* Keyword.Namespace */\n",
       ".output_html .kp { color: #008000 } /* Keyword.Pseudo */\n",
       ".output_html .kr { color: #008000; font-weight: bold } /* Keyword.Reserved */\n",
       ".output_html .kt { color: #B00040 } /* Keyword.Type */\n",
       ".output_html .m { color: #666666 } /* Literal.Number */\n",
       ".output_html .s { color: #BA2121 } /* Literal.String */\n",
       ".output_html .na { color: #687822 } /* Name.Attribute */\n",
       ".output_html .nb { color: #008000 } /* Name.Builtin */\n",
       ".output_html .nc { color: #0000FF; font-weight: bold } /* Name.Class */\n",
       ".output_html .no { color: #880000 } /* Name.Constant */\n",
       ".output_html .nd { color: #AA22FF } /* Name.Decorator */\n",
       ".output_html .ni { color: #717171; font-weight: bold } /* Name.Entity */\n",
       ".output_html .ne { color: #CB3F38; font-weight: bold } /* Name.Exception */\n",
       ".output_html .nf { color: #0000FF } /* Name.Function */\n",
       ".output_html .nl { color: #767600 } /* Name.Label */\n",
       ".output_html .nn { color: #0000FF; font-weight: bold } /* Name.Namespace */\n",
       ".output_html .nt { color: #008000; font-weight: bold } /* Name.Tag */\n",
       ".output_html .nv { color: #19177C } /* Name.Variable */\n",
       ".output_html .ow { color: #AA22FF; font-weight: bold } /* Operator.Word */\n",
       ".output_html .w { color: #bbbbbb } /* Text.Whitespace */\n",
       ".output_html .mb { color: #666666 } /* Literal.Number.Bin */\n",
       ".output_html .mf { color: #666666 } /* Literal.Number.Float */\n",
       ".output_html .mh { color: #666666 } /* Literal.Number.Hex */\n",
       ".output_html .mi { color: #666666 } /* Literal.Number.Integer */\n",
       ".output_html .mo { color: #666666 } /* Literal.Number.Oct */\n",
       ".output_html .sa { color: #BA2121 } /* Literal.String.Affix */\n",
       ".output_html .sb { color: #BA2121 } /* Literal.String.Backtick */\n",
       ".output_html .sc { color: #BA2121 } /* Literal.String.Char */\n",
       ".output_html .dl { color: #BA2121 } /* Literal.String.Delimiter */\n",
       ".output_html .sd { color: #BA2121; font-style: italic } /* Literal.String.Doc */\n",
       ".output_html .s2 { color: #BA2121 } /* Literal.String.Double */\n",
       ".output_html .se { color: #AA5D1F; font-weight: bold } /* Literal.String.Escape */\n",
       ".output_html .sh { color: #BA2121 } /* Literal.String.Heredoc */\n",
       ".output_html .si { color: #A45A77; font-weight: bold } /* Literal.String.Interpol */\n",
       ".output_html .sx { color: #008000 } /* Literal.String.Other */\n",
       ".output_html .sr { color: #A45A77 } /* Literal.String.Regex */\n",
       ".output_html .s1 { color: #BA2121 } /* Literal.String.Single */\n",
       ".output_html .ss { color: #19177C } /* Literal.String.Symbol */\n",
       ".output_html .bp { color: #008000 } /* Name.Builtin.Pseudo */\n",
       ".output_html .fm { color: #0000FF } /* Name.Function.Magic */\n",
       ".output_html .vc { color: #19177C } /* Name.Variable.Class */\n",
       ".output_html .vg { color: #19177C } /* Name.Variable.Global */\n",
       ".output_html .vi { color: #19177C } /* Name.Variable.Instance */\n",
       ".output_html .vm { color: #19177C } /* Name.Variable.Magic */\n",
       ".output_html .il { color: #666666 } /* Literal.Number.Integer.Long */</style><div class=\"highlight\"><pre><span></span><span class=\"kn\">import</span> <span class=\"nn\">numpy</span> <span class=\"k\">as</span> <span class=\"nn\">np</span>\n",
       "\n",
       "\n",
       "<span class=\"k\">class</span> <span class=\"nc\">MeanSquaredError</span><span class=\"p\">:</span>\n",
       "    <span class=\"k\">def</span> <span class=\"fm\">__init__</span><span class=\"p\">(</span><span class=\"bp\">self</span><span class=\"p\">):</span>\n",
       "        <span class=\"bp\">self</span><span class=\"o\">.</span><span class=\"n\">y_true</span> <span class=\"o\">=</span> <span class=\"kc\">None</span>\n",
       "        <span class=\"bp\">self</span><span class=\"o\">.</span><span class=\"n\">y_pred</span> <span class=\"o\">=</span> <span class=\"kc\">None</span>\n",
       "\n",
       "    <span class=\"k\">def</span> <span class=\"fm\">__call__</span><span class=\"p\">(</span><span class=\"bp\">self</span><span class=\"p\">,</span> <span class=\"n\">y_true</span><span class=\"p\">,</span> <span class=\"n\">y_pred</span><span class=\"p\">):</span>\n",
       "        <span class=\"bp\">self</span><span class=\"o\">.</span><span class=\"n\">y_true</span> <span class=\"o\">=</span> <span class=\"n\">y_true</span>\n",
       "        <span class=\"bp\">self</span><span class=\"o\">.</span><span class=\"n\">y_pred</span> <span class=\"o\">=</span> <span class=\"n\">y_pred</span>\n",
       "        <span class=\"k\">return</span> <span class=\"n\">np</span><span class=\"o\">.</span><span class=\"n\">sum</span><span class=\"p\">((</span><span class=\"n\">y_true</span> <span class=\"o\">-</span> <span class=\"n\">y_pred</span><span class=\"p\">)</span><span class=\"o\">**</span><span class=\"mi\">2</span><span class=\"p\">)</span> <span class=\"o\">/</span> <span class=\"n\">np</span><span class=\"o\">.</span><span class=\"n\">prod</span><span class=\"p\">(</span><span class=\"n\">y_pred</span><span class=\"o\">.</span><span class=\"n\">shape</span><span class=\"p\">)</span>\n",
       "\n",
       "    <span class=\"k\">def</span> <span class=\"nf\">gradients</span><span class=\"p\">(</span><span class=\"bp\">self</span><span class=\"p\">):</span>\n",
       "        <span class=\"k\">if</span> <span class=\"bp\">self</span><span class=\"o\">.</span><span class=\"n\">y_pred</span> <span class=\"ow\">is</span> <span class=\"kc\">None</span><span class=\"p\">:</span>\n",
       "            <span class=\"k\">raise</span> <span class=\"ne\">ValueError</span><span class=\"p\">(</span><span class=\"s2\">&quot;loss function must be forward propagated first&quot;</span><span class=\"p\">)</span>\n",
       "\n",
       "        <span class=\"n\">grad_y</span> <span class=\"o\">=</span> <span class=\"mi\">2</span> <span class=\"o\">*</span> <span class=\"p\">(</span><span class=\"bp\">self</span><span class=\"o\">.</span><span class=\"n\">y_pred</span> <span class=\"o\">-</span> <span class=\"bp\">self</span><span class=\"o\">.</span><span class=\"n\">y_true</span><span class=\"p\">)</span>\n",
       "        <span class=\"k\">return</span> <span class=\"n\">grad_y</span>\n",
       "</pre></div>\n"
      ],
      "text/latex": [
       "\\begin{Verbatim}[commandchars=\\\\\\{\\}]\n",
       "\\PY{k+kn}{import} \\PY{n+nn}{numpy} \\PY{k}{as} \\PY{n+nn}{np}\n",
       "\n",
       "\n",
       "\\PY{k}{class} \\PY{n+nc}{MeanSquaredError}\\PY{p}{:}\n",
       "    \\PY{k}{def} \\PY{n+nf+fm}{\\PYZus{}\\PYZus{}init\\PYZus{}\\PYZus{}}\\PY{p}{(}\\PY{n+nb+bp}{self}\\PY{p}{)}\\PY{p}{:}\n",
       "        \\PY{n+nb+bp}{self}\\PY{o}{.}\\PY{n}{y\\PYZus{}true} \\PY{o}{=} \\PY{k+kc}{None}\n",
       "        \\PY{n+nb+bp}{self}\\PY{o}{.}\\PY{n}{y\\PYZus{}pred} \\PY{o}{=} \\PY{k+kc}{None}\n",
       "\n",
       "    \\PY{k}{def} \\PY{n+nf+fm}{\\PYZus{}\\PYZus{}call\\PYZus{}\\PYZus{}}\\PY{p}{(}\\PY{n+nb+bp}{self}\\PY{p}{,} \\PY{n}{y\\PYZus{}true}\\PY{p}{,} \\PY{n}{y\\PYZus{}pred}\\PY{p}{)}\\PY{p}{:}\n",
       "        \\PY{n+nb+bp}{self}\\PY{o}{.}\\PY{n}{y\\PYZus{}true} \\PY{o}{=} \\PY{n}{y\\PYZus{}true}\n",
       "        \\PY{n+nb+bp}{self}\\PY{o}{.}\\PY{n}{y\\PYZus{}pred} \\PY{o}{=} \\PY{n}{y\\PYZus{}pred}\n",
       "        \\PY{k}{return} \\PY{n}{np}\\PY{o}{.}\\PY{n}{sum}\\PY{p}{(}\\PY{p}{(}\\PY{n}{y\\PYZus{}true} \\PY{o}{\\PYZhy{}} \\PY{n}{y\\PYZus{}pred}\\PY{p}{)}\\PY{o}{*}\\PY{o}{*}\\PY{l+m+mi}{2}\\PY{p}{)} \\PY{o}{/} \\PY{n}{np}\\PY{o}{.}\\PY{n}{prod}\\PY{p}{(}\\PY{n}{y\\PYZus{}pred}\\PY{o}{.}\\PY{n}{shape}\\PY{p}{)}\n",
       "\n",
       "    \\PY{k}{def} \\PY{n+nf}{gradients}\\PY{p}{(}\\PY{n+nb+bp}{self}\\PY{p}{)}\\PY{p}{:}\n",
       "        \\PY{k}{if} \\PY{n+nb+bp}{self}\\PY{o}{.}\\PY{n}{y\\PYZus{}pred} \\PY{o+ow}{is} \\PY{k+kc}{None}\\PY{p}{:}\n",
       "            \\PY{k}{raise} \\PY{n+ne}{ValueError}\\PY{p}{(}\\PY{l+s+s2}{\\PYZdq{}}\\PY{l+s+s2}{loss function must be forward propagated first}\\PY{l+s+s2}{\\PYZdq{}}\\PY{p}{)}\n",
       "\n",
       "        \\PY{n}{grad\\PYZus{}y} \\PY{o}{=} \\PY{l+m+mi}{2} \\PY{o}{*} \\PY{p}{(}\\PY{n+nb+bp}{self}\\PY{o}{.}\\PY{n}{y\\PYZus{}pred} \\PY{o}{\\PYZhy{}} \\PY{n+nb+bp}{self}\\PY{o}{.}\\PY{n}{y\\PYZus{}true}\\PY{p}{)}\n",
       "        \\PY{k}{return} \\PY{n}{grad\\PYZus{}y}\n",
       "\\end{Verbatim}\n"
      ],
      "text/plain": [
       "import numpy as np\n",
       "\n",
       "\n",
       "class MeanSquaredError:\n",
       "    def __init__(self):\n",
       "        self.y_true = None\n",
       "        self.y_pred = None\n",
       "\n",
       "    def __call__(self, y_true, y_pred):\n",
       "        self.y_true = y_true\n",
       "        self.y_pred = y_pred\n",
       "        return np.sum((y_true - y_pred)**2) / np.prod(y_pred.shape)\n",
       "\n",
       "    def gradients(self):\n",
       "        if self.y_pred is None:\n",
       "            raise ValueError(\"loss function must be forward propagated first\")\n",
       "\n",
       "        grad_y = 2 * (self.y_pred - self.y_true)\n",
       "        return grad_y"
      ]
     },
     "execution_count": 6,
     "metadata": {},
     "output_type": "execute_result"
    }
   ],
   "source": [
    "Code(filename='losses/mse.py', language='python')"
   ]
  },
  {
   "cell_type": "code",
   "execution_count": 7,
   "id": "71a078e2-f4a2-4690-b824-4b94e6d530fc",
   "metadata": {},
   "outputs": [
    {
     "name": "stdout",
     "output_type": "stream",
     "text": [
      "MSE loss gradient shape (512, 1)\n"
     ]
    }
   ],
   "source": [
    "grad_y_pred = loss_fn.gradients()\n",
    "print(\"MSE loss gradient shape\", grad_y_pred.shape)"
   ]
  },
  {
   "cell_type": "markdown",
   "id": "c4f30cfa-ab87-4e9f-a99f-45938b22f665",
   "metadata": {},
   "source": [
    "### Gradient of Sigmoid"
   ]
  },
  {
   "cell_type": "markdown",
   "id": "59ce109c-2ec3-4049-a231-ecf154bc82d2",
   "metadata": {},
   "source": [
    "The activation of last layer is a sigmoid function.\n",
    "\n",
    "$$\n",
    "\\sigma(x) = \\frac{1}{1 + e^{-x}}\n",
    "$$\n",
    "\n",
    "The input `x` is the output from `dense_3` layer. Let's call it $A_3$, given that it's the output of an affine transformation. Then the derivative of sigmoid function or `y_pred` with respect to $A_3$ is:\n",
    "\n",
    "$$\n",
    "\\frac{\\partial \\sigma}{\\partial A_3} = (1 - \\sigma(A_3)) * \\sigma(A_3) =  \\frac{\\partial \\hat{y}}{\\partial A_3} = (1 - \\hat{y}) * \\hat{y}\n",
    "$$\n",
    "\n",
    "I want the gradient of loss with respect to $A_3$. I need to apply **chain rule** here.\n",
    "\n",
    "$$\n",
    "\\frac{\\partial L}{\\partial A_3} = \\frac{\\partial L}{\\partial \\hat{y}} \\frac{\\partial \\hat{y}}{\\partial A_3}\n",
    "$$"
   ]
  },
  {
   "cell_type": "code",
   "execution_count": 8,
   "id": "7c0068b9-c364-4e81-81d4-ad115f35d8e6",
   "metadata": {},
   "outputs": [
    {
     "data": {
      "text/html": [
       "<style>pre { line-height: 125%; }\n",
       "td.linenos .normal { color: inherit; background-color: transparent; padding-left: 5px; padding-right: 5px; }\n",
       "span.linenos { color: inherit; background-color: transparent; padding-left: 5px; padding-right: 5px; }\n",
       "td.linenos .special { color: #000000; background-color: #ffffc0; padding-left: 5px; padding-right: 5px; }\n",
       "span.linenos.special { color: #000000; background-color: #ffffc0; padding-left: 5px; padding-right: 5px; }\n",
       ".output_html .hll { background-color: #ffffcc }\n",
       ".output_html { background: #f8f8f8; }\n",
       ".output_html .c { color: #3D7B7B; font-style: italic } /* Comment */\n",
       ".output_html .err { border: 1px solid #FF0000 } /* Error */\n",
       ".output_html .k { color: #008000; font-weight: bold } /* Keyword */\n",
       ".output_html .o { color: #666666 } /* Operator */\n",
       ".output_html .ch { color: #3D7B7B; font-style: italic } /* Comment.Hashbang */\n",
       ".output_html .cm { color: #3D7B7B; font-style: italic } /* Comment.Multiline */\n",
       ".output_html .cp { color: #9C6500 } /* Comment.Preproc */\n",
       ".output_html .cpf { color: #3D7B7B; font-style: italic } /* Comment.PreprocFile */\n",
       ".output_html .c1 { color: #3D7B7B; font-style: italic } /* Comment.Single */\n",
       ".output_html .cs { color: #3D7B7B; font-style: italic } /* Comment.Special */\n",
       ".output_html .gd { color: #A00000 } /* Generic.Deleted */\n",
       ".output_html .ge { font-style: italic } /* Generic.Emph */\n",
       ".output_html .gr { color: #E40000 } /* Generic.Error */\n",
       ".output_html .gh { color: #000080; font-weight: bold } /* Generic.Heading */\n",
       ".output_html .gi { color: #008400 } /* Generic.Inserted */\n",
       ".output_html .go { color: #717171 } /* Generic.Output */\n",
       ".output_html .gp { color: #000080; font-weight: bold } /* Generic.Prompt */\n",
       ".output_html .gs { font-weight: bold } /* Generic.Strong */\n",
       ".output_html .gu { color: #800080; font-weight: bold } /* Generic.Subheading */\n",
       ".output_html .gt { color: #0044DD } /* Generic.Traceback */\n",
       ".output_html .kc { color: #008000; font-weight: bold } /* Keyword.Constant */\n",
       ".output_html .kd { color: #008000; font-weight: bold } /* Keyword.Declaration */\n",
       ".output_html .kn { color: #008000; font-weight: bold } /* Keyword.Namespace */\n",
       ".output_html .kp { color: #008000 } /* Keyword.Pseudo */\n",
       ".output_html .kr { color: #008000; font-weight: bold } /* Keyword.Reserved */\n",
       ".output_html .kt { color: #B00040 } /* Keyword.Type */\n",
       ".output_html .m { color: #666666 } /* Literal.Number */\n",
       ".output_html .s { color: #BA2121 } /* Literal.String */\n",
       ".output_html .na { color: #687822 } /* Name.Attribute */\n",
       ".output_html .nb { color: #008000 } /* Name.Builtin */\n",
       ".output_html .nc { color: #0000FF; font-weight: bold } /* Name.Class */\n",
       ".output_html .no { color: #880000 } /* Name.Constant */\n",
       ".output_html .nd { color: #AA22FF } /* Name.Decorator */\n",
       ".output_html .ni { color: #717171; font-weight: bold } /* Name.Entity */\n",
       ".output_html .ne { color: #CB3F38; font-weight: bold } /* Name.Exception */\n",
       ".output_html .nf { color: #0000FF } /* Name.Function */\n",
       ".output_html .nl { color: #767600 } /* Name.Label */\n",
       ".output_html .nn { color: #0000FF; font-weight: bold } /* Name.Namespace */\n",
       ".output_html .nt { color: #008000; font-weight: bold } /* Name.Tag */\n",
       ".output_html .nv { color: #19177C } /* Name.Variable */\n",
       ".output_html .ow { color: #AA22FF; font-weight: bold } /* Operator.Word */\n",
       ".output_html .w { color: #bbbbbb } /* Text.Whitespace */\n",
       ".output_html .mb { color: #666666 } /* Literal.Number.Bin */\n",
       ".output_html .mf { color: #666666 } /* Literal.Number.Float */\n",
       ".output_html .mh { color: #666666 } /* Literal.Number.Hex */\n",
       ".output_html .mi { color: #666666 } /* Literal.Number.Integer */\n",
       ".output_html .mo { color: #666666 } /* Literal.Number.Oct */\n",
       ".output_html .sa { color: #BA2121 } /* Literal.String.Affix */\n",
       ".output_html .sb { color: #BA2121 } /* Literal.String.Backtick */\n",
       ".output_html .sc { color: #BA2121 } /* Literal.String.Char */\n",
       ".output_html .dl { color: #BA2121 } /* Literal.String.Delimiter */\n",
       ".output_html .sd { color: #BA2121; font-style: italic } /* Literal.String.Doc */\n",
       ".output_html .s2 { color: #BA2121 } /* Literal.String.Double */\n",
       ".output_html .se { color: #AA5D1F; font-weight: bold } /* Literal.String.Escape */\n",
       ".output_html .sh { color: #BA2121 } /* Literal.String.Heredoc */\n",
       ".output_html .si { color: #A45A77; font-weight: bold } /* Literal.String.Interpol */\n",
       ".output_html .sx { color: #008000 } /* Literal.String.Other */\n",
       ".output_html .sr { color: #A45A77 } /* Literal.String.Regex */\n",
       ".output_html .s1 { color: #BA2121 } /* Literal.String.Single */\n",
       ".output_html .ss { color: #19177C } /* Literal.String.Symbol */\n",
       ".output_html .bp { color: #008000 } /* Name.Builtin.Pseudo */\n",
       ".output_html .fm { color: #0000FF } /* Name.Function.Magic */\n",
       ".output_html .vc { color: #19177C } /* Name.Variable.Class */\n",
       ".output_html .vg { color: #19177C } /* Name.Variable.Global */\n",
       ".output_html .vi { color: #19177C } /* Name.Variable.Instance */\n",
       ".output_html .vm { color: #19177C } /* Name.Variable.Magic */\n",
       ".output_html .il { color: #666666 } /* Literal.Number.Integer.Long */</style><div class=\"highlight\"><pre><span></span><span class=\"kn\">import</span> <span class=\"nn\">numpy</span> <span class=\"k\">as</span> <span class=\"nn\">np</span>\n",
       "\n",
       "\n",
       "<span class=\"k\">class</span> <span class=\"nc\">Sigmoid</span><span class=\"p\">:</span>\n",
       "    <span class=\"k\">def</span> <span class=\"fm\">__init__</span><span class=\"p\">(</span><span class=\"bp\">self</span><span class=\"p\">):</span>\n",
       "        <span class=\"bp\">self</span><span class=\"o\">.</span><span class=\"n\">x</span> <span class=\"o\">=</span> <span class=\"kc\">None</span>\n",
       "\n",
       "    <span class=\"k\">def</span> <span class=\"fm\">__call__</span><span class=\"p\">(</span><span class=\"bp\">self</span><span class=\"p\">,</span> <span class=\"n\">x</span><span class=\"p\">):</span>\n",
       "        <span class=\"sd\">&quot;&quot;&quot;Perform forward propagation</span>\n",
       "\n",
       "<span class=\"sd\">        Args:</span>\n",
       "<span class=\"sd\">            x (np.ndarray): Input</span>\n",
       "\n",
       "<span class=\"sd\">        Returns:</span>\n",
       "<span class=\"sd\">            np.ndarray: Output</span>\n",
       "<span class=\"sd\">        &quot;&quot;&quot;</span>\n",
       "        <span class=\"bp\">self</span><span class=\"o\">.</span><span class=\"n\">x</span> <span class=\"o\">=</span> <span class=\"n\">x</span>\n",
       "        <span class=\"k\">return</span> <span class=\"mi\">1</span> <span class=\"o\">/</span> <span class=\"p\">(</span><span class=\"mi\">1</span> <span class=\"o\">+</span> <span class=\"n\">np</span><span class=\"o\">.</span><span class=\"n\">exp</span><span class=\"p\">(</span><span class=\"o\">-</span><span class=\"n\">x</span><span class=\"p\">))</span>\n",
       "\n",
       "    <span class=\"k\">def</span> <span class=\"nf\">gradients</span><span class=\"p\">(</span><span class=\"bp\">self</span><span class=\"p\">,</span> <span class=\"n\">grad_out</span><span class=\"p\">):</span>\n",
       "        <span class=\"sd\">&quot;&quot;&quot;Perofrm back propagation and return gradients with respect to upstream loss function.</span>\n",
       "\n",
       "<span class=\"sd\">        Args:</span>\n",
       "<span class=\"sd\">            grad_out (np.ndarray): Gradient of loss with respect to output.</span>\n",
       "\n",
       "<span class=\"sd\">        Returns:</span>\n",
       "<span class=\"sd\">            np.ndarray: Gradient of loss with respect to x</span>\n",
       "<span class=\"sd\">        &quot;&quot;&quot;</span>\n",
       "        <span class=\"k\">if</span> <span class=\"bp\">self</span><span class=\"o\">.</span><span class=\"n\">x</span> <span class=\"ow\">is</span> <span class=\"kc\">None</span><span class=\"p\">:</span>\n",
       "            <span class=\"k\">raise</span> <span class=\"ne\">ValueError</span><span class=\"p\">(</span><span class=\"s2\">&quot;layer must be forward propagated first&quot;</span><span class=\"p\">)</span>\n",
       "        \n",
       "        <span class=\"n\">y</span> <span class=\"o\">=</span> <span class=\"bp\">self</span><span class=\"p\">(</span><span class=\"bp\">self</span><span class=\"o\">.</span><span class=\"n\">x</span><span class=\"p\">)</span>\n",
       "        <span class=\"k\">return</span> <span class=\"p\">(</span><span class=\"mi\">1</span> <span class=\"o\">-</span> <span class=\"n\">y</span><span class=\"p\">)</span> <span class=\"o\">*</span> <span class=\"n\">y</span> <span class=\"o\">*</span> <span class=\"n\">grad_out</span>\n",
       "</pre></div>\n"
      ],
      "text/latex": [
       "\\begin{Verbatim}[commandchars=\\\\\\{\\}]\n",
       "\\PY{k+kn}{import} \\PY{n+nn}{numpy} \\PY{k}{as} \\PY{n+nn}{np}\n",
       "\n",
       "\n",
       "\\PY{k}{class} \\PY{n+nc}{Sigmoid}\\PY{p}{:}\n",
       "    \\PY{k}{def} \\PY{n+nf+fm}{\\PYZus{}\\PYZus{}init\\PYZus{}\\PYZus{}}\\PY{p}{(}\\PY{n+nb+bp}{self}\\PY{p}{)}\\PY{p}{:}\n",
       "        \\PY{n+nb+bp}{self}\\PY{o}{.}\\PY{n}{x} \\PY{o}{=} \\PY{k+kc}{None}\n",
       "\n",
       "    \\PY{k}{def} \\PY{n+nf+fm}{\\PYZus{}\\PYZus{}call\\PYZus{}\\PYZus{}}\\PY{p}{(}\\PY{n+nb+bp}{self}\\PY{p}{,} \\PY{n}{x}\\PY{p}{)}\\PY{p}{:}\n",
       "        \\PY{l+s+sd}{\\PYZdq{}\\PYZdq{}\\PYZdq{}Perform forward propagation}\n",
       "\n",
       "\\PY{l+s+sd}{        Args:}\n",
       "\\PY{l+s+sd}{            x (np.ndarray): Input}\n",
       "\n",
       "\\PY{l+s+sd}{        Returns:}\n",
       "\\PY{l+s+sd}{            np.ndarray: Output}\n",
       "\\PY{l+s+sd}{        \\PYZdq{}\\PYZdq{}\\PYZdq{}}\n",
       "        \\PY{n+nb+bp}{self}\\PY{o}{.}\\PY{n}{x} \\PY{o}{=} \\PY{n}{x}\n",
       "        \\PY{k}{return} \\PY{l+m+mi}{1} \\PY{o}{/} \\PY{p}{(}\\PY{l+m+mi}{1} \\PY{o}{+} \\PY{n}{np}\\PY{o}{.}\\PY{n}{exp}\\PY{p}{(}\\PY{o}{\\PYZhy{}}\\PY{n}{x}\\PY{p}{)}\\PY{p}{)}\n",
       "\n",
       "    \\PY{k}{def} \\PY{n+nf}{gradients}\\PY{p}{(}\\PY{n+nb+bp}{self}\\PY{p}{,} \\PY{n}{grad\\PYZus{}out}\\PY{p}{)}\\PY{p}{:}\n",
       "        \\PY{l+s+sd}{\\PYZdq{}\\PYZdq{}\\PYZdq{}Perofrm back propagation and return gradients with respect to upstream loss function.}\n",
       "\n",
       "\\PY{l+s+sd}{        Args:}\n",
       "\\PY{l+s+sd}{            grad\\PYZus{}out (np.ndarray): Gradient of loss with respect to output.}\n",
       "\n",
       "\\PY{l+s+sd}{        Returns:}\n",
       "\\PY{l+s+sd}{            np.ndarray: Gradient of loss with respect to x}\n",
       "\\PY{l+s+sd}{        \\PYZdq{}\\PYZdq{}\\PYZdq{}}\n",
       "        \\PY{k}{if} \\PY{n+nb+bp}{self}\\PY{o}{.}\\PY{n}{x} \\PY{o+ow}{is} \\PY{k+kc}{None}\\PY{p}{:}\n",
       "            \\PY{k}{raise} \\PY{n+ne}{ValueError}\\PY{p}{(}\\PY{l+s+s2}{\\PYZdq{}}\\PY{l+s+s2}{layer must be forward propagated first}\\PY{l+s+s2}{\\PYZdq{}}\\PY{p}{)}\n",
       "        \n",
       "        \\PY{n}{y} \\PY{o}{=} \\PY{n+nb+bp}{self}\\PY{p}{(}\\PY{n+nb+bp}{self}\\PY{o}{.}\\PY{n}{x}\\PY{p}{)}\n",
       "        \\PY{k}{return} \\PY{p}{(}\\PY{l+m+mi}{1} \\PY{o}{\\PYZhy{}} \\PY{n}{y}\\PY{p}{)} \\PY{o}{*} \\PY{n}{y} \\PY{o}{*} \\PY{n}{grad\\PYZus{}out}\n",
       "\\end{Verbatim}\n"
      ],
      "text/plain": [
       "import numpy as np\n",
       "\n",
       "\n",
       "class Sigmoid:\n",
       "    def __init__(self):\n",
       "        self.x = None\n",
       "\n",
       "    def __call__(self, x):\n",
       "        \"\"\"Perform forward propagation\n",
       "\n",
       "        Args:\n",
       "            x (np.ndarray): Input\n",
       "\n",
       "        Returns:\n",
       "            np.ndarray: Output\n",
       "        \"\"\"\n",
       "        self.x = x\n",
       "        return 1 / (1 + np.exp(-x))\n",
       "\n",
       "    def gradients(self, grad_out):\n",
       "        \"\"\"Perofrm back propagation and return gradients with respect to upstream loss function.\n",
       "\n",
       "        Args:\n",
       "            grad_out (np.ndarray): Gradient of loss with respect to output.\n",
       "\n",
       "        Returns:\n",
       "            np.ndarray: Gradient of loss with respect to x\n",
       "        \"\"\"\n",
       "        if self.x is None:\n",
       "            raise ValueError(\"layer must be forward propagated first\")\n",
       "        \n",
       "        y = self(self.x)\n",
       "        return (1 - y) * y * grad_out"
      ]
     },
     "execution_count": 8,
     "metadata": {},
     "output_type": "execute_result"
    }
   ],
   "source": [
    "Code(filename='layers/sigmoid.py', language='python')"
   ]
  },
  {
   "cell_type": "code",
   "execution_count": 9,
   "id": "1890a6cc-3b01-4227-aa71-7bd5ccd02b2e",
   "metadata": {},
   "outputs": [
    {
     "name": "stdout",
     "output_type": "stream",
     "text": [
      "Affine 3 gradient shape (512, 1)\n"
     ]
    }
   ],
   "source": [
    "grad_affine_3 = np_model.act_3.gradients(grad_y_pred)\n",
    "print(\"Affine 3 gradient shape\", grad_affine_3.shape)"
   ]
  },
  {
   "cell_type": "markdown",
   "id": "ca9d7ad4-dd64-4eee-883e-584ea4fbb479",
   "metadata": {},
   "source": [
    "### Gradient of Trainable Variables"
   ]
  },
  {
   "cell_type": "markdown",
   "id": "1304e096-ddac-4b4e-89cb-b9585604a79e",
   "metadata": {},
   "source": [
    "So far none of the gradients I have computed should be applied to any variable because the loss and activation functions above do not contain any parameters. However, I can use chain rules to **backpropagate** gradients to my trainable variables.\n",
    "The first trainable variables, counting from the output, are `dense_3/kernel` and `dense_3/bias`. These two variables along with input from previous layer produces the affine output."
   ]
  },
  {
   "cell_type": "markdown",
   "id": "d5048e76-e717-4fac-b98d-3d2f843bb63c",
   "metadata": {},
   "source": [
    "$$\n",
    "A_3 = xW_3 + b_3 = \\text{ReLU}(A_2)W_3 + b_3\n",
    "$$\n",
    "\n",
    "The gradient of affine with respect to kernel and bias are:\n",
    "\n",
    "$$\n",
    "\\frac{\\partial A_3}{\\partial W_3} = x\n",
    "$$\n",
    "\n",
    "$$\n",
    "\\frac{\\partial A_3}{\\partial b_3} = 1\n",
    "$$\n",
    "\n",
    "But I am more interested in the gradient of loss with respect to kernel and bias. So I apply chain rule:\n",
    "\n",
    "$$\n",
    "\\frac{\\partial L}{\\partial W_3} = \\frac{\\partial L}{\\partial \\hat{y}}\\frac{\\partial \\hat{y}}{\\partial A_3}\\frac{\\partial A_3}{\\partial W_3} \n",
    "$$\n",
    "\n",
    "$$\n",
    "\\frac{\\partial L}{\\partial b_3} = \\frac{\\partial L}{\\partial \\hat{y}}\\frac{\\partial \\hat{y}}{\\partial A_3}\\frac{\\partial A_3}{\\partial b_3} \n",
    "$$"
   ]
  },
  {
   "cell_type": "code",
   "execution_count": 10,
   "id": "5c07b573-8f8b-4b9d-ad65-e515ac5e43a8",
   "metadata": {},
   "outputs": [
    {
     "data": {
      "text/html": [
       "<style>pre { line-height: 125%; }\n",
       "td.linenos .normal { color: inherit; background-color: transparent; padding-left: 5px; padding-right: 5px; }\n",
       "span.linenos { color: inherit; background-color: transparent; padding-left: 5px; padding-right: 5px; }\n",
       "td.linenos .special { color: #000000; background-color: #ffffc0; padding-left: 5px; padding-right: 5px; }\n",
       "span.linenos.special { color: #000000; background-color: #ffffc0; padding-left: 5px; padding-right: 5px; }\n",
       ".output_html .hll { background-color: #ffffcc }\n",
       ".output_html { background: #f8f8f8; }\n",
       ".output_html .c { color: #3D7B7B; font-style: italic } /* Comment */\n",
       ".output_html .err { border: 1px solid #FF0000 } /* Error */\n",
       ".output_html .k { color: #008000; font-weight: bold } /* Keyword */\n",
       ".output_html .o { color: #666666 } /* Operator */\n",
       ".output_html .ch { color: #3D7B7B; font-style: italic } /* Comment.Hashbang */\n",
       ".output_html .cm { color: #3D7B7B; font-style: italic } /* Comment.Multiline */\n",
       ".output_html .cp { color: #9C6500 } /* Comment.Preproc */\n",
       ".output_html .cpf { color: #3D7B7B; font-style: italic } /* Comment.PreprocFile */\n",
       ".output_html .c1 { color: #3D7B7B; font-style: italic } /* Comment.Single */\n",
       ".output_html .cs { color: #3D7B7B; font-style: italic } /* Comment.Special */\n",
       ".output_html .gd { color: #A00000 } /* Generic.Deleted */\n",
       ".output_html .ge { font-style: italic } /* Generic.Emph */\n",
       ".output_html .gr { color: #E40000 } /* Generic.Error */\n",
       ".output_html .gh { color: #000080; font-weight: bold } /* Generic.Heading */\n",
       ".output_html .gi { color: #008400 } /* Generic.Inserted */\n",
       ".output_html .go { color: #717171 } /* Generic.Output */\n",
       ".output_html .gp { color: #000080; font-weight: bold } /* Generic.Prompt */\n",
       ".output_html .gs { font-weight: bold } /* Generic.Strong */\n",
       ".output_html .gu { color: #800080; font-weight: bold } /* Generic.Subheading */\n",
       ".output_html .gt { color: #0044DD } /* Generic.Traceback */\n",
       ".output_html .kc { color: #008000; font-weight: bold } /* Keyword.Constant */\n",
       ".output_html .kd { color: #008000; font-weight: bold } /* Keyword.Declaration */\n",
       ".output_html .kn { color: #008000; font-weight: bold } /* Keyword.Namespace */\n",
       ".output_html .kp { color: #008000 } /* Keyword.Pseudo */\n",
       ".output_html .kr { color: #008000; font-weight: bold } /* Keyword.Reserved */\n",
       ".output_html .kt { color: #B00040 } /* Keyword.Type */\n",
       ".output_html .m { color: #666666 } /* Literal.Number */\n",
       ".output_html .s { color: #BA2121 } /* Literal.String */\n",
       ".output_html .na { color: #687822 } /* Name.Attribute */\n",
       ".output_html .nb { color: #008000 } /* Name.Builtin */\n",
       ".output_html .nc { color: #0000FF; font-weight: bold } /* Name.Class */\n",
       ".output_html .no { color: #880000 } /* Name.Constant */\n",
       ".output_html .nd { color: #AA22FF } /* Name.Decorator */\n",
       ".output_html .ni { color: #717171; font-weight: bold } /* Name.Entity */\n",
       ".output_html .ne { color: #CB3F38; font-weight: bold } /* Name.Exception */\n",
       ".output_html .nf { color: #0000FF } /* Name.Function */\n",
       ".output_html .nl { color: #767600 } /* Name.Label */\n",
       ".output_html .nn { color: #0000FF; font-weight: bold } /* Name.Namespace */\n",
       ".output_html .nt { color: #008000; font-weight: bold } /* Name.Tag */\n",
       ".output_html .nv { color: #19177C } /* Name.Variable */\n",
       ".output_html .ow { color: #AA22FF; font-weight: bold } /* Operator.Word */\n",
       ".output_html .w { color: #bbbbbb } /* Text.Whitespace */\n",
       ".output_html .mb { color: #666666 } /* Literal.Number.Bin */\n",
       ".output_html .mf { color: #666666 } /* Literal.Number.Float */\n",
       ".output_html .mh { color: #666666 } /* Literal.Number.Hex */\n",
       ".output_html .mi { color: #666666 } /* Literal.Number.Integer */\n",
       ".output_html .mo { color: #666666 } /* Literal.Number.Oct */\n",
       ".output_html .sa { color: #BA2121 } /* Literal.String.Affix */\n",
       ".output_html .sb { color: #BA2121 } /* Literal.String.Backtick */\n",
       ".output_html .sc { color: #BA2121 } /* Literal.String.Char */\n",
       ".output_html .dl { color: #BA2121 } /* Literal.String.Delimiter */\n",
       ".output_html .sd { color: #BA2121; font-style: italic } /* Literal.String.Doc */\n",
       ".output_html .s2 { color: #BA2121 } /* Literal.String.Double */\n",
       ".output_html .se { color: #AA5D1F; font-weight: bold } /* Literal.String.Escape */\n",
       ".output_html .sh { color: #BA2121 } /* Literal.String.Heredoc */\n",
       ".output_html .si { color: #A45A77; font-weight: bold } /* Literal.String.Interpol */\n",
       ".output_html .sx { color: #008000 } /* Literal.String.Other */\n",
       ".output_html .sr { color: #A45A77 } /* Literal.String.Regex */\n",
       ".output_html .s1 { color: #BA2121 } /* Literal.String.Single */\n",
       ".output_html .ss { color: #19177C } /* Literal.String.Symbol */\n",
       ".output_html .bp { color: #008000 } /* Name.Builtin.Pseudo */\n",
       ".output_html .fm { color: #0000FF } /* Name.Function.Magic */\n",
       ".output_html .vc { color: #19177C } /* Name.Variable.Class */\n",
       ".output_html .vg { color: #19177C } /* Name.Variable.Global */\n",
       ".output_html .vi { color: #19177C } /* Name.Variable.Instance */\n",
       ".output_html .vm { color: #19177C } /* Name.Variable.Magic */\n",
       ".output_html .il { color: #666666 } /* Literal.Number.Integer.Long */</style><div class=\"highlight\"><pre><span></span><span class=\"kn\">import</span> <span class=\"nn\">numpy</span> <span class=\"k\">as</span> <span class=\"nn\">np</span>\n",
       "\n",
       "\n",
       "<span class=\"k\">class</span> <span class=\"nc\">Dense</span><span class=\"p\">:</span>\n",
       "    <span class=\"k\">def</span> <span class=\"fm\">__init__</span><span class=\"p\">(</span><span class=\"bp\">self</span><span class=\"p\">):</span>\n",
       "        <span class=\"bp\">self</span><span class=\"o\">.</span><span class=\"n\">x</span> <span class=\"o\">=</span> <span class=\"kc\">None</span>\n",
       "        <span class=\"bp\">self</span><span class=\"o\">.</span><span class=\"n\">w</span> <span class=\"o\">=</span> <span class=\"kc\">None</span>\n",
       "        <span class=\"bp\">self</span><span class=\"o\">.</span><span class=\"n\">b</span> <span class=\"o\">=</span> <span class=\"kc\">None</span>\n",
       "\n",
       "    <span class=\"k\">def</span> <span class=\"fm\">__call__</span><span class=\"p\">(</span><span class=\"bp\">self</span><span class=\"p\">,</span> <span class=\"n\">x</span><span class=\"p\">,</span> <span class=\"n\">w</span><span class=\"p\">,</span> <span class=\"n\">b</span><span class=\"p\">):</span>\n",
       "        <span class=\"sd\">&quot;&quot;&quot;Perform forward propagation</span>\n",
       "\n",
       "<span class=\"sd\">        Args:</span>\n",
       "<span class=\"sd\">            x (np.ndarray): Input</span>\n",
       "<span class=\"sd\">            w (np.ndarray): Kernel weights</span>\n",
       "<span class=\"sd\">            b (np.ndarray): Biases</span>\n",
       "\n",
       "<span class=\"sd\">        Returns:</span>\n",
       "<span class=\"sd\">            np.ndarray: Output</span>\n",
       "<span class=\"sd\">        &quot;&quot;&quot;</span>\n",
       "        <span class=\"bp\">self</span><span class=\"o\">.</span><span class=\"n\">x</span> <span class=\"o\">=</span> <span class=\"n\">x</span>\n",
       "        <span class=\"bp\">self</span><span class=\"o\">.</span><span class=\"n\">w</span> <span class=\"o\">=</span> <span class=\"n\">w</span>\n",
       "        <span class=\"bp\">self</span><span class=\"o\">.</span><span class=\"n\">b</span> <span class=\"o\">=</span> <span class=\"n\">b</span>\n",
       "        <span class=\"k\">return</span> <span class=\"n\">x</span> <span class=\"o\">@</span> <span class=\"n\">w</span> <span class=\"o\">+</span> <span class=\"n\">b</span>\n",
       "\n",
       "    <span class=\"k\">def</span> <span class=\"nf\">gradients</span><span class=\"p\">(</span><span class=\"bp\">self</span><span class=\"p\">,</span> <span class=\"n\">grad_out</span><span class=\"p\">):</span>\n",
       "        <span class=\"sd\">&quot;&quot;&quot;Perform back propagation and return gradients with respect to upstream loss function.</span>\n",
       "\n",
       "<span class=\"sd\">        Args:</span>\n",
       "<span class=\"sd\">            grad_out (np.ndarray): Gradient of loss with respect to output.</span>\n",
       "\n",
       "<span class=\"sd\">        Returns:</span>\n",
       "<span class=\"sd\">            np.ndarray: Gradient of loss with respect to x</span>\n",
       "<span class=\"sd\">            np.ndarray: Gradient of loss with respect to w</span>\n",
       "<span class=\"sd\">            np.ndarray: Gradient of loss with respect to b</span>\n",
       "<span class=\"sd\">        &quot;&quot;&quot;</span>\n",
       "        <span class=\"k\">if</span> <span class=\"bp\">self</span><span class=\"o\">.</span><span class=\"n\">x</span> <span class=\"ow\">is</span> <span class=\"kc\">None</span><span class=\"p\">:</span>\n",
       "            <span class=\"k\">raise</span> <span class=\"ne\">ValueError</span><span class=\"p\">(</span><span class=\"s2\">&quot;layer must be forward propagated first&quot;</span><span class=\"p\">)</span>\n",
       "        \n",
       "        <span class=\"n\">grad_x</span> <span class=\"o\">=</span> <span class=\"n\">grad_out</span> <span class=\"o\">@</span> <span class=\"bp\">self</span><span class=\"o\">.</span><span class=\"n\">w</span><span class=\"o\">.</span><span class=\"n\">T</span>\n",
       "        <span class=\"n\">grad_w</span> <span class=\"o\">=</span> <span class=\"bp\">self</span><span class=\"o\">.</span><span class=\"n\">x</span><span class=\"o\">.</span><span class=\"n\">T</span> <span class=\"o\">@</span> <span class=\"n\">grad_out</span>\n",
       "        <span class=\"n\">grad_b</span> <span class=\"o\">=</span> <span class=\"n\">np</span><span class=\"o\">.</span><span class=\"n\">sum</span><span class=\"p\">(</span><span class=\"n\">grad_out</span><span class=\"p\">,</span> <span class=\"n\">axis</span><span class=\"o\">=</span><span class=\"mi\">0</span><span class=\"p\">)</span>\n",
       "        <span class=\"k\">return</span> <span class=\"n\">grad_x</span><span class=\"p\">,</span> <span class=\"n\">grad_w</span><span class=\"p\">,</span> <span class=\"n\">grad_b</span>\n",
       "</pre></div>\n"
      ],
      "text/latex": [
       "\\begin{Verbatim}[commandchars=\\\\\\{\\}]\n",
       "\\PY{k+kn}{import} \\PY{n+nn}{numpy} \\PY{k}{as} \\PY{n+nn}{np}\n",
       "\n",
       "\n",
       "\\PY{k}{class} \\PY{n+nc}{Dense}\\PY{p}{:}\n",
       "    \\PY{k}{def} \\PY{n+nf+fm}{\\PYZus{}\\PYZus{}init\\PYZus{}\\PYZus{}}\\PY{p}{(}\\PY{n+nb+bp}{self}\\PY{p}{)}\\PY{p}{:}\n",
       "        \\PY{n+nb+bp}{self}\\PY{o}{.}\\PY{n}{x} \\PY{o}{=} \\PY{k+kc}{None}\n",
       "        \\PY{n+nb+bp}{self}\\PY{o}{.}\\PY{n}{w} \\PY{o}{=} \\PY{k+kc}{None}\n",
       "        \\PY{n+nb+bp}{self}\\PY{o}{.}\\PY{n}{b} \\PY{o}{=} \\PY{k+kc}{None}\n",
       "\n",
       "    \\PY{k}{def} \\PY{n+nf+fm}{\\PYZus{}\\PYZus{}call\\PYZus{}\\PYZus{}}\\PY{p}{(}\\PY{n+nb+bp}{self}\\PY{p}{,} \\PY{n}{x}\\PY{p}{,} \\PY{n}{w}\\PY{p}{,} \\PY{n}{b}\\PY{p}{)}\\PY{p}{:}\n",
       "        \\PY{l+s+sd}{\\PYZdq{}\\PYZdq{}\\PYZdq{}Perform forward propagation}\n",
       "\n",
       "\\PY{l+s+sd}{        Args:}\n",
       "\\PY{l+s+sd}{            x (np.ndarray): Input}\n",
       "\\PY{l+s+sd}{            w (np.ndarray): Kernel weights}\n",
       "\\PY{l+s+sd}{            b (np.ndarray): Biases}\n",
       "\n",
       "\\PY{l+s+sd}{        Returns:}\n",
       "\\PY{l+s+sd}{            np.ndarray: Output}\n",
       "\\PY{l+s+sd}{        \\PYZdq{}\\PYZdq{}\\PYZdq{}}\n",
       "        \\PY{n+nb+bp}{self}\\PY{o}{.}\\PY{n}{x} \\PY{o}{=} \\PY{n}{x}\n",
       "        \\PY{n+nb+bp}{self}\\PY{o}{.}\\PY{n}{w} \\PY{o}{=} \\PY{n}{w}\n",
       "        \\PY{n+nb+bp}{self}\\PY{o}{.}\\PY{n}{b} \\PY{o}{=} \\PY{n}{b}\n",
       "        \\PY{k}{return} \\PY{n}{x} \\PY{o}{@} \\PY{n}{w} \\PY{o}{+} \\PY{n}{b}\n",
       "\n",
       "    \\PY{k}{def} \\PY{n+nf}{gradients}\\PY{p}{(}\\PY{n+nb+bp}{self}\\PY{p}{,} \\PY{n}{grad\\PYZus{}out}\\PY{p}{)}\\PY{p}{:}\n",
       "        \\PY{l+s+sd}{\\PYZdq{}\\PYZdq{}\\PYZdq{}Perform back propagation and return gradients with respect to upstream loss function.}\n",
       "\n",
       "\\PY{l+s+sd}{        Args:}\n",
       "\\PY{l+s+sd}{            grad\\PYZus{}out (np.ndarray): Gradient of loss with respect to output.}\n",
       "\n",
       "\\PY{l+s+sd}{        Returns:}\n",
       "\\PY{l+s+sd}{            np.ndarray: Gradient of loss with respect to x}\n",
       "\\PY{l+s+sd}{            np.ndarray: Gradient of loss with respect to w}\n",
       "\\PY{l+s+sd}{            np.ndarray: Gradient of loss with respect to b}\n",
       "\\PY{l+s+sd}{        \\PYZdq{}\\PYZdq{}\\PYZdq{}}\n",
       "        \\PY{k}{if} \\PY{n+nb+bp}{self}\\PY{o}{.}\\PY{n}{x} \\PY{o+ow}{is} \\PY{k+kc}{None}\\PY{p}{:}\n",
       "            \\PY{k}{raise} \\PY{n+ne}{ValueError}\\PY{p}{(}\\PY{l+s+s2}{\\PYZdq{}}\\PY{l+s+s2}{layer must be forward propagated first}\\PY{l+s+s2}{\\PYZdq{}}\\PY{p}{)}\n",
       "        \n",
       "        \\PY{n}{grad\\PYZus{}x} \\PY{o}{=} \\PY{n}{grad\\PYZus{}out} \\PY{o}{@} \\PY{n+nb+bp}{self}\\PY{o}{.}\\PY{n}{w}\\PY{o}{.}\\PY{n}{T}\n",
       "        \\PY{n}{grad\\PYZus{}w} \\PY{o}{=} \\PY{n+nb+bp}{self}\\PY{o}{.}\\PY{n}{x}\\PY{o}{.}\\PY{n}{T} \\PY{o}{@} \\PY{n}{grad\\PYZus{}out}\n",
       "        \\PY{n}{grad\\PYZus{}b} \\PY{o}{=} \\PY{n}{np}\\PY{o}{.}\\PY{n}{sum}\\PY{p}{(}\\PY{n}{grad\\PYZus{}out}\\PY{p}{,} \\PY{n}{axis}\\PY{o}{=}\\PY{l+m+mi}{0}\\PY{p}{)}\n",
       "        \\PY{k}{return} \\PY{n}{grad\\PYZus{}x}\\PY{p}{,} \\PY{n}{grad\\PYZus{}w}\\PY{p}{,} \\PY{n}{grad\\PYZus{}b}\n",
       "\\end{Verbatim}\n"
      ],
      "text/plain": [
       "import numpy as np\n",
       "\n",
       "\n",
       "class Dense:\n",
       "    def __init__(self):\n",
       "        self.x = None\n",
       "        self.w = None\n",
       "        self.b = None\n",
       "\n",
       "    def __call__(self, x, w, b):\n",
       "        \"\"\"Perform forward propagation\n",
       "\n",
       "        Args:\n",
       "            x (np.ndarray): Input\n",
       "            w (np.ndarray): Kernel weights\n",
       "            b (np.ndarray): Biases\n",
       "\n",
       "        Returns:\n",
       "            np.ndarray: Output\n",
       "        \"\"\"\n",
       "        self.x = x\n",
       "        self.w = w\n",
       "        self.b = b\n",
       "        return x @ w + b\n",
       "\n",
       "    def gradients(self, grad_out):\n",
       "        \"\"\"Perform back propagation and return gradients with respect to upstream loss function.\n",
       "\n",
       "        Args:\n",
       "            grad_out (np.ndarray): Gradient of loss with respect to output.\n",
       "\n",
       "        Returns:\n",
       "            np.ndarray: Gradient of loss with respect to x\n",
       "            np.ndarray: Gradient of loss with respect to w\n",
       "            np.ndarray: Gradient of loss with respect to b\n",
       "        \"\"\"\n",
       "        if self.x is None:\n",
       "            raise ValueError(\"layer must be forward propagated first\")\n",
       "        \n",
       "        grad_x = grad_out @ self.w.T\n",
       "        grad_w = self.x.T @ grad_out\n",
       "        grad_b = np.sum(grad_out, axis=0)\n",
       "        return grad_x, grad_w, grad_b"
      ]
     },
     "execution_count": 10,
     "metadata": {},
     "output_type": "execute_result"
    }
   ],
   "source": [
    "Code(filename='layers/dense.py', language='python')"
   ]
  },
  {
   "cell_type": "code",
   "execution_count": 11,
   "id": "fd4e8149-7280-4a5b-a8f5-7c94c3e4135e",
   "metadata": {},
   "outputs": [
    {
     "name": "stdout",
     "output_type": "stream",
     "text": [
      "Dense 3 kernel shape (128, 1)\n",
      "Dense 3 kernel gradient shape (128, 1)\n",
      "Dense 3 bias shape (1,)\n",
      "Dense 3 bias gradient shape (1,)\n",
      "Affine 2 gradient shape (512, 128)\n"
     ]
    }
   ],
   "source": [
    "grad_affine_2_act, grad_dense_3_kernel, grad_dense_3_bias = np_model.dense_3.gradients(grad_affine_3)\n",
    "print(\"Dense 3 kernel shape\", np_model.params['dense_3/kernel'].shape)\n",
    "print(\"Dense 3 kernel gradient shape\", grad_dense_3_kernel.shape)\n",
    "print(\"Dense 3 bias shape\", np_model.params['dense_3/bias'].shape)\n",
    "print(\"Dense 3 bias gradient shape\", grad_dense_3_bias.shape)\n",
    "print(\"Affine 2 gradient shape\", grad_affine_2_act.shape)"
   ]
  },
  {
   "cell_type": "markdown",
   "id": "9a3c54fe-af09-4b30-b173-d6d110a540ab",
   "metadata": {},
   "source": [
    "Repeat the same process for `dense_2` layer. However, I have `ReLU` activation and its gradient is slightly different from sigmoid activation.\n",
    "\n",
    "$$\n",
    "\\frac{\\partial \\text{ReLU}}{\\partial x} = \\frac{\\partial \\text{ReLU}}{\\partial A_2} = \\begin{cases}\n",
    "1 & \\text{ if } x \\gt 0 \\\\ \n",
    "0 & \\text{ else }  \n",
    "\\end{cases}\n",
    "$$\n",
    "\n",
    "What I need is\n",
    "\n",
    "$$\n",
    "\\frac{\\partial L}{\\partial A_2} = \\frac{\\partial L}{\\partial \\hat{y}}\\frac{\\partial \\hat{y}}{\\partial A_3}\\frac{\\partial A_3}{\\partial \\;\\text{ReLU}} \\frac{\\partial \\text{ReLU}}{\\partial A_2}\n",
    "$$"
   ]
  },
  {
   "cell_type": "code",
   "execution_count": 12,
   "id": "c407f73c-4de2-42e1-b94f-492bbba94753",
   "metadata": {},
   "outputs": [
    {
     "name": "stdout",
     "output_type": "stream",
     "text": [
      "Affine 2 gradient shape (512, 128)\n"
     ]
    }
   ],
   "source": [
    "grad_affine_2 = np_model.act_2.gradients(grad_affine_2_act)\n",
    "print(\"Affine 2 gradient shape\", grad_affine_2.shape)"
   ]
  },
  {
   "cell_type": "markdown",
   "id": "1b5cb784-f76d-41cf-bebe-bfbf9888f230",
   "metadata": {},
   "source": [
    "Then I can compute the gradients of layer 2 kernel weights and bias.\n",
    "\n",
    "$$\n",
    "\\frac{\\partial L}{\\partial W_2} = \\frac{\\partial L}{\\partial A_2} \\frac{\\partial A_2}{\\partial W_2}\n",
    "$$\n"
   ]
  },
  {
   "cell_type": "code",
   "execution_count": 13,
   "id": "3d98f0d3-f9bf-4b4d-a7a7-09e19928e3e7",
   "metadata": {},
   "outputs": [
    {
     "name": "stdout",
     "output_type": "stream",
     "text": [
      "Dense 2 kernel shape (128, 128)\n",
      "Dense 2 kernel gradient shape (128, 128)\n",
      "Dense 2 bias shape (128,)\n",
      "Dense 2 bias gradient shape (128,)\n"
     ]
    }
   ],
   "source": [
    "grad_affine_1_act, grad_dense_2_kernel, grad_dense_2_bias = np_model.dense_2.gradients(grad_affine_2)\n",
    "print(\"Dense 2 kernel shape\", np_model.params['dense_2/kernel'].shape)\n",
    "print(\"Dense 2 kernel gradient shape\", grad_dense_2_kernel.shape)\n",
    "print(\"Dense 2 bias shape\", np_model.params['dense_2/bias'].shape)\n",
    "print(\"Dense 2 bias gradient shape\", grad_dense_2_bias.shape)"
   ]
  },
  {
   "cell_type": "markdown",
   "id": "7a23cfab-8d1c-4fdd-bd2d-97c70d649eb5",
   "metadata": {},
   "source": [
    "Finally, repeat the same process for `dense_1` layer."
   ]
  },
  {
   "cell_type": "code",
   "execution_count": 14,
   "id": "9af5c37d-a71b-4ad2-a9d8-23f40dc6d048",
   "metadata": {},
   "outputs": [
    {
     "name": "stdout",
     "output_type": "stream",
     "text": [
      "Affine 1 gradient shape (512, 128)\n"
     ]
    }
   ],
   "source": [
    "grad_affine_1 = np_model.act_1.gradients(grad_affine_1_act)\n",
    "print(\"Affine 1 gradient shape\", grad_affine_1.shape)"
   ]
  },
  {
   "cell_type": "code",
   "execution_count": 15,
   "id": "1e7b912b-5df3-4d98-8658-a8f24af2268b",
   "metadata": {},
   "outputs": [
    {
     "name": "stdout",
     "output_type": "stream",
     "text": [
      "Dense 1 kernel shape (1, 128)\n",
      "Dense 1 kernel gradient shape (1, 128)\n",
      "Dense 1 bias shape (128,)\n",
      "Dense 1 bias gradient shape (128,)\n"
     ]
    }
   ],
   "source": [
    "_, grad_dense_1_kernel, grad_dense_1_bias = np_model.dense_1.gradients(grad_affine_1)\n",
    "print(\"Dense 1 kernel shape\", np_model.params['dense_1/kernel'].shape)\n",
    "print(\"Dense 1 kernel gradient shape\", grad_dense_1_kernel.shape)\n",
    "print(\"Dense 1 bias shape\", np_model.params['dense_1/bias'].shape)\n",
    "print(\"Dense 1 bias gradient shape\", grad_dense_1_bias.shape)"
   ]
  },
  {
   "cell_type": "markdown",
   "id": "ba8c2a35",
   "metadata": {},
   "source": [
    "All shapes should match up now."
   ]
  },
  {
   "cell_type": "markdown",
   "id": "7c1e91d3-5082-48af-8de1-9fd9aafb9907",
   "metadata": {},
   "source": [
    "## Optimization"
   ]
  },
  {
   "cell_type": "code",
   "execution_count": 16,
   "id": "7c082dfb-25bb-4188-8acf-89a8e04d150d",
   "metadata": {},
   "outputs": [
    {
     "name": "stdout",
     "output_type": "stream",
     "text": [
      "Input (512, 1)\n",
      "Prediction (512, 1)\n",
      "Ground Truth (512, 1)\n"
     ]
    }
   ],
   "source": [
    "x = np.arange(0., 2*np.pi, 2*np.pi/512)\n",
    "np.random.shuffle(x)\n",
    "y_true = (np.sin(x) + 1) / 2\n",
    "\n",
    "x = np.expand_dims(x, axis=-1)\n",
    "y_true = np.expand_dims(y_true, axis=-1)\n",
    "y_pred = np_model(x)\n",
    "\n",
    "print(\"Input\", x.shape)\n",
    "print(\"Prediction\", y_pred.shape)\n",
    "print(\"Ground Truth\", y_true.shape)"
   ]
  },
  {
   "cell_type": "code",
   "execution_count": 17,
   "id": "a21ff6a8-237e-4fd2-85fc-5e55556f3593",
   "metadata": {},
   "outputs": [
    {
     "data": {
      "text/plain": [
       "<matplotlib.legend.Legend at 0x7fa0b0049730>"
      ]
     },
     "execution_count": 17,
     "metadata": {},
     "output_type": "execute_result"
    },
    {
     "data": {
      "image/png": "[encoded data removed]",
      "text/plain": [
       "<Figure size 640x480 with 1 Axes>"
      ]
     },
     "metadata": {},
     "output_type": "display_data"
    }
   ],
   "source": [
    "np_model = NumpyModel()\n",
    "y_pred = np_model(x)\n",
    "plt.scatter(x.flatten(), y_true.flatten(), s=2, label=\"Ground Truth\")\n",
    "plt.scatter(x.flatten(), y_pred.flatten(), s=2, label=\"Prediction\")\n",
    "plt.legend()"
   ]
  },
  {
   "cell_type": "markdown",
   "id": "eaa1364b",
   "metadata": {},
   "source": [
    "I can converge pretty fast using just 30 epochs to overfit the model to the training data, compared to that 60 epochs from TensorFlow implementation."
   ]
  },
  {
   "cell_type": "code",
   "execution_count": 18,
   "id": "502a3fa7-c518-4409-8550-a92c5520dc08",
   "metadata": {},
   "outputs": [
    {
     "name": "stderr",
     "output_type": "stream",
     "text": [
      "Training progress: 100%|██████████████████████████████████████████████████████████████████████████████████████████████████████████████████████████████████████████████████████████████████████████████████████████████████████████████████| 30/30 [00:00<00:00, 34.95it/s]\n"
     ]
    }
   ],
   "source": [
    "from optimizers.adam import Adam\n",
    "\n",
    "N = x.shape[0]\n",
    "batch_size = 16\n",
    "epochs = 30\n",
    "history = []\n",
    "\n",
    "np.random.seed(1337)\n",
    "optim = Adam(learning_rate=1e-2)\n",
    "np_model = NumpyModel()\n",
    "loss_fn = MeanSquaredError()\n",
    "\n",
    "for epoch in tqdm(range(epochs), desc=\"Training progress\"):\n",
    "    for i in range(N // batch_size):\n",
    "        start = i * batch_size\n",
    "        end = start + batch_size\n",
    "        batch_x = x[start:end]\n",
    "        batch_y = y_true[start:end]\n",
    "        batch_y_pred = np_model(batch_x)\n",
    "        \n",
    "        loss = loss_fn(batch_y, batch_y_pred)\n",
    "        grad_affine_3_act = loss_fn.gradients()\n",
    "        grad_affine_3 = np_model.act_3.gradients(grad_affine_3_act)\n",
    "        grad_affine_2_act, grad_dense_3_kernel, grad_dense_3_bias = np_model.dense_3.gradients(grad_affine_3)\n",
    "        grad_affine_2 = np_model.act_2.gradients(grad_affine_2_act)\n",
    "        grad_affine_1_act, grad_dense_2_kernel, grad_dense_2_bias = np_model.dense_2.gradients(grad_affine_2)\n",
    "        grad_affine_1 = np_model.act_1.gradients(grad_affine_1_act)\n",
    "        _, grad_dense_1_kernel, grad_dense_1_bias = np_model.dense_1.gradients(grad_affine_1)\n",
    "        \n",
    "        grads = {\n",
    "            \"dense_1/kernel\": grad_dense_1_kernel,\n",
    "            \"dense_1/bias\": grad_dense_1_bias,\n",
    "            \"dense_2/kernel\": grad_dense_2_kernel,\n",
    "            \"dense_2/bias\": grad_dense_2_bias,\n",
    "            \"dense_3/kernel\": grad_dense_3_kernel,\n",
    "            \"dense_3/bias\": grad_dense_3_bias,\n",
    "        }\n",
    "        for key in grads:\n",
    "            optim.update(i+1, key, np_model.params, grads)\n",
    "            \n",
    "    # Compute epoch loss\n",
    "    y_pred = np_model(x)\n",
    "    loss = mse(y_true, y_pred)\n",
    "    history.append((epoch, loss))"
   ]
  },
  {
   "cell_type": "code",
   "execution_count": 19,
   "id": "f950e2f6-3057-4fef-90ad-2fd122b07e31",
   "metadata": {},
   "outputs": [
    {
     "data": {
      "text/plain": [
       "<matplotlib.legend.Legend at 0x7fa0585d5cd0>"
      ]
     },
     "execution_count": 19,
     "metadata": {},
     "output_type": "execute_result"
    },
    {
     "data": {
      "image/png": "[encoded data removed]",
      "text/plain": [
       "<Figure size 640x480 with 2 Axes>"
      ]
     },
     "metadata": {},
     "output_type": "display_data"
    }
   ],
   "source": [
    "fig, axs = plt.subplots(2)\n",
    "axs[0].plot([dp[0] for dp in history], [dp[1] for dp in history])\n",
    "\n",
    "y_pred = np_model(x)\n",
    "axs[1].scatter(x.flatten(), y_true.flatten(), s=2, label=\"Ground Truth\")\n",
    "axs[1].scatter(x.flatten(), y_pred.flatten(), s=2, label=\"Prediction After Training\")\n",
    "axs[1].legend()"
   ]
  },
  {
   "cell_type": "code",
   "execution_count": null,
   "id": "7a04d3fe",
   "metadata": {},
   "outputs": [],
   "source": []
  }
 ],
 "metadata": {
  "kernelspec": {
   "display_name": "Python 3 (ipykernel)",
   "language": "python",
   "name": "python3"
  },
  "language_info": {
   "codemirror_mode": {
    "name": "ipython",
    "version": 3
   },
   "file_extension": ".py",
   "mimetype": "text/x-python",
   "name": "python",
   "nbconvert_exporter": "python",
   "pygments_lexer": "ipython3",
   "version": "3.8.10"
  }
 },
 "nbformat": 4,
 "nbformat_minor": 5
}
