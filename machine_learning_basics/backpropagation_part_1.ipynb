{
 "cells": [
  {
   "cell_type": "markdown",
   "id": "a9a28877-ebd4-4013-bcac-29fef493b5b7",
   "metadata": {},
   "source": [
    "# Backpropagation Part 1"
   ]
  },
  {
   "cell_type": "markdown",
   "id": "851eb19b",
   "metadata": {},
   "source": [
    "The objective of this notebook is to compute gradients without the help of TensorFlow or PyTorch autograd. I will derive the gradients of \n",
    "\n",
    "- Affine transformation, a.k.a. Dense layer in TensorFlow Keras\n",
    "- ReLU Activation\n",
    "- Sigmoid Activation\n",
    "- Mean Squared Error"
   ]
  },
  {
   "cell_type": "markdown",
   "id": "939b5497-b868-43c6-8069-3ca673ca8cd8",
   "metadata": {},
   "source": [
    "## Demonstrate with TensorFlow"
   ]
  },
  {
   "cell_type": "markdown",
   "id": "9a3ebeb4-c9ff-4233-812a-ea6894e8e009",
   "metadata": {},
   "source": [
    "Let's start with how TensorFlow computes gradient with backpropagation. Here is a simple architecture with `input_shape=(3,3)` and `batch_size=1`."
   ]
  },
  {
   "cell_type": "code",
   "execution_count": 1,
   "id": "72447acf-a246-4e1e-9cc2-dbfa153b3e46",
   "metadata": {},
   "outputs": [
    {
     "name": "stderr",
     "output_type": "stream",
     "text": [
      "2023-03-27 20:44:22.740357: I tensorflow/core/platform/cpu_feature_guard.cc:193] This TensorFlow binary is optimized with oneAPI Deep Neural Network Library (oneDNN) to use the following CPU instructions in performance-critical operations:  AVX2 AVX512F AVX512_VNNI FMA\n",
      "To enable them in other operations, rebuild TensorFlow with the appropriate compiler flags.\n",
      "2023-03-27 20:44:22.865325: I tensorflow/core/util/port.cc:104] oneDNN custom operations are on. You may see slightly different numerical results due to floating-point round-off errors from different computation orders. To turn them off, set the environment variable `TF_ENABLE_ONEDNN_OPTS=0`.\n",
      "2023-03-27 20:44:23.444058: W tensorflow/compiler/xla/stream_executor/platform/default/dso_loader.cc:64] Could not load dynamic library 'libnvinfer.so.7'; dlerror: libnvinfer.so.7: cannot open shared object file: No such file or directory\n",
      "2023-03-27 20:44:23.444146: W tensorflow/compiler/xla/stream_executor/platform/default/dso_loader.cc:64] Could not load dynamic library 'libnvinfer_plugin.so.7'; dlerror: libnvinfer_plugin.so.7: cannot open shared object file: No such file or directory\n",
      "2023-03-27 20:44:23.444154: W tensorflow/compiler/tf2tensorrt/utils/py_utils.cc:38] TF-TRT Warning: Cannot dlopen some TensorRT libraries. If you would like to use Nvidia GPU with TensorRT, please make sure the missing libraries mentioned above are installed properly.\n"
     ]
    }
   ],
   "source": [
    "import matplotlib.pyplot as plt\n",
    "import numpy as np\n",
    "import tensorflow as tf\n",
    "from tensorflow.keras import Sequential\n",
    "from tensorflow.keras.layers import Dense\n",
    "from tensorflow.keras.initializers import RandomNormal, Zeros\n",
    "from tensorflow.keras.losses import MeanSquaredError"
   ]
  },
  {
   "cell_type": "code",
   "execution_count": 2,
   "id": "2f087e4b-3de2-434b-887e-b60f1f9ad713",
   "metadata": {},
   "outputs": [
    {
     "name": "stdout",
     "output_type": "stream",
     "text": [
      "Model: \"sequential\"\n",
      "_________________________________________________________________\n",
      " Layer (type)                Output Shape              Param #   \n",
      "=================================================================\n",
      " dense_1 (Dense)             (None, 6)                 12        \n",
      "                                                                 \n",
      " dense_2 (Dense)             (None, 3)                 21        \n",
      "                                                                 \n",
      " dense_3 (Dense)             (None, 1)                 4         \n",
      "                                                                 \n",
      "=================================================================\n",
      "Total params: 37\n",
      "Trainable params: 37\n",
      "Non-trainable params: 0\n",
      "_________________________________________________________________\n"
     ]
    },
    {
     "name": "stderr",
     "output_type": "stream",
     "text": [
      "2023-03-27 20:44:24.270934: I tensorflow/compiler/xla/stream_executor/cuda/cuda_gpu_executor.cc:981] successful NUMA node read from SysFS had negative value (-1), but there must be at least one NUMA node, so returning NUMA node zero\n",
      "2023-03-27 20:44:24.276865: W tensorflow/compiler/xla/stream_executor/platform/default/dso_loader.cc:64] Could not load dynamic library 'libcudnn.so.8'; dlerror: libcudnn.so.8: cannot open shared object file: No such file or directory\n",
      "2023-03-27 20:44:24.276892: W tensorflow/core/common_runtime/gpu/gpu_device.cc:1934] Cannot dlopen some GPU libraries. Please make sure the missing libraries mentioned above are installed properly if you would like to use GPU. Follow the guide at https://www.tensorflow.org/install/gpu for how to download and setup the required libraries for your platform.\n",
      "Skipping registering GPU devices...\n",
      "2023-03-27 20:44:24.277357: I tensorflow/core/platform/cpu_feature_guard.cc:193] This TensorFlow binary is optimized with oneAPI Deep Neural Network Library (oneDNN) to use the following CPU instructions in performance-critical operations:  AVX2 AVX512F AVX512_VNNI FMA\n",
      "To enable them in other operations, rebuild TensorFlow with the appropriate compiler flags.\n"
     ]
    }
   ],
   "source": [
    "tf_model = Sequential([\n",
    "    Dense(6, activation=\"relu\", name=\"dense_1\", kernel_initializer=RandomNormal(stddev=0.01), bias_initializer=Zeros()),\n",
    "    Dense(3, activation=\"relu\", name=\"dense_2\", kernel_initializer=RandomNormal(stddev=0.01), bias_initializer=Zeros()),\n",
    "    Dense(1, activation=\"sigmoid\", name=\"dense_3\", kernel_initializer=RandomNormal(stddev=0.01), bias_initializer=Zeros()),\n",
    "])\n",
    "tf_model.build((None, 1))\n",
    "tf_model.summary()"
   ]
  },
  {
   "cell_type": "markdown",
   "id": "588d0852-f3f9-41d2-89e5-29f22687cbfc",
   "metadata": {},
   "source": [
    "To keep things simple, I want my model to learn `sine` function. I define a L2 loss function. Since my model uses activation layers, the outputs should match that of `sine`.\n",
    "\n",
    "$$\n",
    "\\text{sin}(x) = \\text{model}(x) = \\hat{y} \\in [0, 1]\n",
    "$$"
   ]
  },
  {
   "cell_type": "code",
   "execution_count": 3,
   "id": "3776e035-5f86-4840-9f7f-a222d43eb6cc",
   "metadata": {},
   "outputs": [
    {
     "name": "stdout",
     "output_type": "stream",
     "text": [
      "Input:\n",
      " [0.  0.1 0.2 0.3 0.4 0.5 0.6 0.7 0.8 0.9 1.  1.1 1.2 1.3 1.4 1.5 1.6 1.7\n",
      " 1.8 1.9 2.  2.1 2.2 2.3 2.4 2.5 2.6 2.7 2.8 2.9 3.  3.1]\n",
      "Output: \n",
      " [0.5 0.5 0.5 0.5 0.5 0.5 0.5 0.5 0.5 0.5 0.5 0.5 0.5 0.5 0.5 0.5 0.5 0.5\n",
      " 0.5 0.5 0.5 0.5 0.5 0.5 0.5 0.5 0.5 0.5 0.5 0.5 0.5 0.5]\n",
      "Loss:\n",
      " 0.116013035\n"
     ]
    },
    {
     "data": {
      "text/plain": [
       "<matplotlib.legend.Legend at 0x7f6b5013ed00>"
      ]
     },
     "execution_count": 3,
     "metadata": {},
     "output_type": "execute_result"
    },
    {
     "data": {
      "image/png": "[encoded data removed]",
      "text/plain": [
       "<Figure size 640x480 with 1 Axes>"
      ]
     },
     "metadata": {},
     "output_type": "display_data"
    }
   ],
   "source": [
    "x = np.arange(0., 3.2, 0.1)\n",
    "y_true = np.sin(x)\n",
    "\n",
    "x = np.expand_dims(x, axis=-1)\n",
    "y_true = np.expand_dims(y_true, axis=-1)\n",
    "\n",
    "y_pred = tf_model(x).numpy()\n",
    "mse = MeanSquaredError()\n",
    "loss = mse(y_true, y_pred).numpy()\n",
    "\n",
    "print(\"Input:\\n\", x.flatten())\n",
    "print(\"Output: \\n\", np.round(y_pred, decimals=2).flatten())\n",
    "print(\"Loss:\\n\", loss)\n",
    "plt.plot(x.flatten(), y_true.flatten(), label=\"Ground Truth\")\n",
    "plt.plot(x.flatten(), y_pred.flatten(), label=\"Prediction\")\n",
    "plt.legend()"
   ]
  },
  {
   "cell_type": "markdown",
   "id": "16031c99-16fe-40e0-840b-68583698d216",
   "metadata": {},
   "source": [
    "Compute gradients using TensorFlow."
   ]
  },
  {
   "cell_type": "code",
   "execution_count": 4,
   "id": "93aa33f0-3338-4645-921e-00d16ec4fadb",
   "metadata": {},
   "outputs": [
    {
     "name": "stdout",
     "output_type": "stream",
     "text": [
      "Variable: dense_1/kernel:0\n",
      "Gradient:\n",
      " [[-2.4163039e-06  3.4067969e-07  2.6594885e-06  0.0000000e+00\n",
      "   3.4254313e-06  4.0333862e-06]] \n",
      "\n",
      "Variable: dense_1/bias:0\n",
      "Gradient:\n",
      " [-1.6388769e-06  2.3106867e-07  1.8038187e-06  0.0000000e+00\n",
      "  2.3233249e-06  2.7356755e-06] \n",
      "\n",
      "Variable: dense_2/kernel:0\n",
      "Gradient:\n",
      " [[4.9851053e-07 0.0000000e+00 1.8573847e-07]\n",
      " [2.2979732e-06 0.0000000e+00 8.5619433e-07]\n",
      " [3.2535436e-06 0.0000000e+00 1.2122276e-06]\n",
      " [0.0000000e+00 0.0000000e+00 0.0000000e+00]\n",
      " [6.0896434e-07 0.0000000e+00 2.2689213e-07]\n",
      " [1.8945034e-06 0.0000000e+00 7.0586702e-07]] \n",
      "\n",
      "Variable: dense_2/bias:0\n",
      "Gradient:\n",
      " [2.2116188e-04 0.0000000e+00 8.2402003e-05] \n",
      "\n",
      "Variable: dense_3/kernel:0\n",
      "Gradient:\n",
      " [[-1.4289822e-05]\n",
      " [ 0.0000000e+00]\n",
      " [-8.5941047e-06]] \n",
      "\n",
      "Variable: dense_3/bias:0\n",
      "Gradient:\n",
      " [-0.06242947] \n",
      "\n"
     ]
    }
   ],
   "source": [
    "with tf.GradientTape() as tape:\n",
    "    y_pred = tf_model(x)\n",
    "    loss = mse(y_true, y_pred)\n",
    "    \n",
    "gradients = tape.gradient(loss, tf_model.trainable_variables)\n",
    "for var, grad in zip(tf_model.trainable_variables, gradients):\n",
    "    print(\"Variable:\", var.name)\n",
    "    print(\"Gradient:\\n\", grad.numpy(), \"\\n\")"
   ]
  },
  {
   "cell_type": "markdown",
   "id": "cffad239-5f80-42f0-ac8d-1d5f2e15b4c0",
   "metadata": {},
   "source": [
    "## Demonstrate with Numpy"
   ]
  },
  {
   "cell_type": "markdown",
   "id": "66c2f5f5-5266-427a-9370-f4d39d5f66e9",
   "metadata": {},
   "source": [
    "Without the help of auto differentiation, now I need to write the same functionality with numpy and some calculus. For weight initialization, keep in mind that\n",
    "`numpy` returns random normal distribution with `mean=0` and `std=1`. A new random normal distribution can be defined as follows.\n",
    "\n",
    "$$\n",
    "X^\\prime = \\sigma X + \\mu\n",
    "$$"
   ]
  },
  {
   "cell_type": "code",
   "execution_count": 5,
   "id": "fc653b5a-5735-4ea3-85f8-4ae0ff9a457f",
   "metadata": {},
   "outputs": [],
   "source": [
    "class NumpyModel:\n",
    "    \"\"\"Model V1 will only perform forward propagation.\n",
    "    \"\"\"\n",
    "    def __init__(self, weight_stddev=0.01):\n",
    "        self.params = {\n",
    "            \"dense_1/kernel\": weight_stddev * np.random.randn(1, 6),\n",
    "            \"dense_1/bias\": np.zeros((6,)),\n",
    "            \"dense_2/kernel\": weight_stddev * np.random.randn(6, 3),\n",
    "            \"dense_2/bias\": np.zeros((3,)),\n",
    "            \"dense_3/kernel\": weight_stddev * np.random.randn(3, 1),\n",
    "            \"dense_3/bias\": np.zeros((1,)),\n",
    "        }\n",
    "        \n",
    "        self.activations = {\n",
    "            \"dense_1/act\": self._relu,\n",
    "            \"dense_2/act\": self._relu,\n",
    "            \"dense_3/act\": self._sigmoid\n",
    "        }\n",
    "\n",
    "        self.forward_cache = {}\n",
    "        \n",
    "    def __call__(self, x):\n",
    "        self.forward_cache = {\n",
    "            \"input\": x\n",
    "        } \n",
    "        \n",
    "        x = np.matmul(x, self.params['dense_1/kernel']) + self.params['dense_1/bias']\n",
    "        self.forward_cache[\"affine_1\"] = x\n",
    "        x = self.activations['dense_1/act'](x)\n",
    "        self.forward_cache[\"affine_1_act\"] = x\n",
    "        \n",
    "        x = np.matmul(x, self.params['dense_2/kernel']) + self.params['dense_2/bias']\n",
    "        self.forward_cache[\"affine_2\"] = x\n",
    "        x = self.activations['dense_2/act'](x)\n",
    "        self.forward_cache[\"affine_2_act\"] = x\n",
    "        \n",
    "        x = np.matmul(x, self.params['dense_3/kernel']) + self.params['dense_3/bias']\n",
    "        self.forward_cache[\"affine_3\"] = x\n",
    "        x = self.activations['dense_3/act'](x)\n",
    "        self.forward_cache[\"affine_3_act\"] = x\n",
    "        \n",
    "        return x\n",
    "    \n",
    "    def _relu(self, x):\n",
    "        return np.maximum(x, 0)\n",
    "    \n",
    "    def _sigmoid(self, x):\n",
    "        return 1 / (1 + np.exp(-1 * x))\n",
    "    \n",
    "    def mean_squared_error(self, y_true, y_pred):\n",
    "        return np.mean((y_true - y_pred)**2)"
   ]
  },
  {
   "cell_type": "markdown",
   "id": "3669115f-ab39-46f6-8050-5f53a10a87fb",
   "metadata": {},
   "source": [
    "Now I have a model that produces the output and loss value like the TensorFlow model I setup above."
   ]
  },
  {
   "cell_type": "code",
   "execution_count": 6,
   "id": "67cf5ce9-604c-46ac-aca2-002e8da44507",
   "metadata": {},
   "outputs": [
    {
     "name": "stdout",
     "output_type": "stream",
     "text": [
      "Input:\n",
      " [0.  0.1 0.2 0.3 0.4 0.5 0.6 0.7 0.8 0.9 1.  1.1 1.2 1.3 1.4 1.5 1.6 1.7\n",
      " 1.8 1.9 2.  2.1 2.2 2.3 2.4 2.5 2.6 2.7 2.8 2.9 3.  3.1]\n",
      "Output: \n",
      " [0.5        0.5000001  0.50000021 0.50000031 0.50000041 0.50000051\n",
      " 0.50000062 0.50000072 0.50000082 0.50000092 0.50000103 0.50000113\n",
      " 0.50000123 0.50000133 0.50000144 0.50000154 0.50000164 0.50000174\n",
      " 0.50000185 0.50000195 0.50000205 0.50000215 0.50000226 0.50000236\n",
      " 0.50000246 0.50000256 0.50000267 0.50000277 0.50000287 0.50000297\n",
      " 0.50000308 0.50000318]\n",
      "Loss:\n",
      " [0.11601256]\n"
     ]
    }
   ],
   "source": [
    "np_model = NumpyModel()\n",
    "\n",
    "y_pred = np_model(x)\n",
    "loss = np_model.mean_squared_error(y_true, y_pred)\n",
    "\n",
    "print(\"Input:\\n\", x.flatten())\n",
    "print(\"Output: \\n\", y_pred.flatten())\n",
    "print(\"Loss:\\n\", loss.flatten())"
   ]
  },
  {
   "cell_type": "markdown",
   "id": "97b58ef1-bd29-4cd9-b3d3-39404a838a37",
   "metadata": {},
   "source": [
    "## Computing Gradient Analytically"
   ]
  },
  {
   "cell_type": "markdown",
   "id": "79bd7892-e765-4dfb-8a8f-fb312fc3f600",
   "metadata": {},
   "source": [
    "### Gradient of Loss"
   ]
  },
  {
   "cell_type": "markdown",
   "id": "6125bae5-e2d3-4f78-ba76-79de91a9362d",
   "metadata": {},
   "source": [
    "The L2 loss is defined as follows.\n",
    "\n",
    "$$\n",
    "L = \\frac{1}{N}\\Sigma_{i=0}^{N-1} (y_{i} - \\hat{y}_{i})^2\n",
    "$$\n",
    "\n",
    "The derivative of loss with respect to prediction is then:\n",
    "\n",
    "$$\n",
    "\\frac{\\partial L}{\\partial \\hat{y}} = \\frac{2}{N} \\cdot (y - \\hat{y})\n",
    "$$"
   ]
  },
  {
   "cell_type": "code",
   "execution_count": 7,
   "id": "71a078e2-f4a2-4690-b824-4b94e6d530fc",
   "metadata": {},
   "outputs": [
    {
     "data": {
      "text/plain": [
       "array([ 0.03125   ,  0.02501042,  0.01883318,  0.01278001,  0.00691138,\n",
       "        0.00128594, -0.00404012, -0.00901356, -0.0135847 , -0.01770787,\n",
       "       -0.02134187, -0.02445039, -0.02700237, -0.0289723 , -0.03034052,\n",
       "       -0.03109334, -0.03122325, -0.03072894, -0.02961536, -0.02789363,\n",
       "       -0.02558096, -0.02270045, -0.01928088, -0.01535643, -0.01096629,\n",
       "       -0.00615435, -0.00096867,  0.00453893,  0.01031342,  0.0162971 ,\n",
       "        0.02243019,  0.02865141])"
      ]
     },
     "execution_count": 7,
     "metadata": {},
     "output_type": "execute_result"
    }
   ],
   "source": [
    "grad_y_pred = 2 * (y_pred - y_true) / np.prod(y_pred.shape)\n",
    "grad_y_pred.flatten()"
   ]
  },
  {
   "cell_type": "markdown",
   "id": "c4f30cfa-ab87-4e9f-a99f-45938b22f665",
   "metadata": {},
   "source": [
    "### Gradient of Sigmoid"
   ]
  },
  {
   "cell_type": "markdown",
   "id": "59ce109c-2ec3-4049-a231-ecf154bc82d2",
   "metadata": {},
   "source": [
    "The activation of last layer is a sigmoid function.\n",
    "\n",
    "$$\n",
    "\\sigma(x) = \\frac{1}{1 + e^{-x}}\n",
    "$$\n",
    "\n",
    "The input `x` is the output from `dense_3` layer. Let's call it $A_3$, given that it's the output of an affine transformation. Then the derivative of sigmoid function or `y_pred` with respect to $A_3$ is:\n",
    "\n",
    "$$\n",
    "\\frac{\\partial \\sigma}{\\partial A_3} = (1 - \\sigma(A_3)) * \\sigma(A_3) =  \\frac{\\partial \\hat{y}}{\\partial A_3} = (1 - \\hat{y}) * \\hat{y}\n",
    "$$\n",
    "\n",
    "I want the gradient of loss with respect to $A_3$. I need to apply **chain rule** here.\n",
    "\n",
    "$$\n",
    "\\frac{\\partial L}{\\partial A_3} = \\frac{\\partial L}{\\partial \\hat{y}} \\frac{\\partial \\hat{y}}{\\partial A_3}\n",
    "$$"
   ]
  },
  {
   "cell_type": "code",
   "execution_count": 8,
   "id": "1890a6cc-3b01-4227-aa71-7bd5ccd02b2e",
   "metadata": {},
   "outputs": [
    {
     "name": "stdout",
     "output_type": "stream",
     "text": [
      "Affine 3 gradient shape (32, 1)\n"
     ]
    }
   ],
   "source": [
    "grad_affine_3 = grad_y_pred * (1 - y_pred) * y_pred\n",
    "print(\"Affine 3 gradient shape\", grad_affine_3.shape)"
   ]
  },
  {
   "cell_type": "markdown",
   "id": "ca9d7ad4-dd64-4eee-883e-584ea4fbb479",
   "metadata": {},
   "source": [
    "### Gradient of Trainable Variables"
   ]
  },
  {
   "cell_type": "markdown",
   "id": "1304e096-ddac-4b4e-89cb-b9585604a79e",
   "metadata": {},
   "source": [
    "So far none of the gradients I have computed should be applied to any variable because the loss and activation functions above do not contain any parameters. However, I can use chain rules to **backpropagate** gradients to my trainable variables."
   ]
  },
  {
   "cell_type": "markdown",
   "id": "d5048e76-e717-4fac-b98d-3d2f843bb63c",
   "metadata": {},
   "source": [
    "The first trainable variables, counting from the output, are `dense_3_kernel` and `dense_3_bias`. These two variables along with input from previous layer produces the affine output.\n",
    "\n",
    "$$\n",
    "A_3 = xW_3 + b_3 = \\text{ReLU}(A_2)W_3 + b_3\n",
    "$$\n",
    "\n",
    "The gradient of affine with respect to kernel and bias are:\n",
    "\n",
    "$$\n",
    "\\frac{\\partial A_3}{\\partial W_3} = x\n",
    "$$\n",
    "\n",
    "$$\n",
    "\\frac{\\partial A_3}{\\partial b_3} = 1\n",
    "$$\n",
    "\n",
    "But I am more interested in the gradient of loss with respect to kernel and bias. So I apply chain rule:\n",
    "\n",
    "$$\n",
    "\\frac{\\partial L}{\\partial W_3} = \\frac{\\partial L}{\\partial \\hat{y}}\\frac{\\partial \\hat{y}}{\\partial A_3}\\frac{\\partial A_3}{\\partial W_3} \n",
    "$$\n",
    "\n",
    "$$\n",
    "\\frac{\\partial L}{\\partial b_3} = \\frac{\\partial L}{\\partial \\hat{y}}\\frac{\\partial \\hat{y}}{\\partial A_3}\\frac{\\partial A_3}{\\partial b_3} \n",
    "$$"
   ]
  },
  {
   "cell_type": "code",
   "execution_count": 9,
   "id": "fd4e8149-7280-4a5b-a8f5-7c94c3e4135e",
   "metadata": {},
   "outputs": [
    {
     "name": "stdout",
     "output_type": "stream",
     "text": [
      "Dense 3 kernel shape (3, 1)\n",
      "Dense 3 kernel gradient shape (3, 1)\n"
     ]
    }
   ],
   "source": [
    "print(\"Dense 3 kernel shape\", np_model.params['dense_3/kernel'].shape)\n",
    "grad_dense_3_kernel = np.matmul(np_model.forward_cache[\"affine_2_act\"].T, grad_affine_3)\n",
    "print(\"Dense 3 kernel gradient shape\", grad_dense_3_kernel.shape)"
   ]
  },
  {
   "cell_type": "code",
   "execution_count": 10,
   "id": "cfbf68b0-ef3e-474f-a81c-5b6839c80452",
   "metadata": {},
   "outputs": [
    {
     "name": "stdout",
     "output_type": "stream",
     "text": [
      "Dense 3 bias shape (1,)\n",
      "Dense 3 bias gradient shape (1,)\n"
     ]
    }
   ],
   "source": [
    "print(\"Dense 3 bias shape\", np_model.params['dense_3/bias'].shape)\n",
    "grad_dense_3_bias = np.sum(grad_affine_3.T * 1, axis=1)\n",
    "print(\"Dense 3 bias gradient shape\", grad_dense_3_bias.shape)"
   ]
  },
  {
   "cell_type": "markdown",
   "id": "d9f34221-a3c9-49ca-a195-d7b7288f28c8",
   "metadata": {},
   "source": [
    "### Gradients of ReLU Activation"
   ]
  },
  {
   "cell_type": "markdown",
   "id": "a7fa6d11-902b-4e1d-94ec-c003ca521d27",
   "metadata": {},
   "source": [
    "Repeat the same process for `dense_2` layer. However, I have `ReLU` activation and its gradient is slightly different from sigmoid activation.\n",
    "\n",
    "$$\n",
    "\\frac{\\partial \\text{ReLU}}{\\partial x} = \\frac{\\partial \\text{ReLU}}{\\partial A_2} = \\begin{cases}\n",
    "1 & \\text{ if } x \\gt 0 \\\\ \n",
    "0 & \\text{ else }  \n",
    "\\end{cases}\n",
    "$$\n",
    "\n",
    "What I need is\n",
    "\n",
    "$$\n",
    "\\frac{\\partial L}{\\partial A_2} = \\frac{\\partial L}{\\partial \\hat{y}}\\frac{\\partial \\hat{y}}{\\partial A_3}\\frac{\\partial A_3}{\\partial \\;\\text{ReLU}} \\frac{\\partial \\text{ReLU}}{\\partial A_2}\n",
    "$$"
   ]
  },
  {
   "cell_type": "code",
   "execution_count": 11,
   "id": "c407f73c-4de2-42e1-b94f-492bbba94753",
   "metadata": {},
   "outputs": [
    {
     "name": "stdout",
     "output_type": "stream",
     "text": [
      "Affine 2 shape (32, 3)\n",
      "Affine 2 gradient shape (32, 3)\n"
     ]
    }
   ],
   "source": [
    "print(\"Affine 2 shape\", np_model.forward_cache[\"affine_2\"].shape)\n",
    "\n",
    "grad_affine_2_act = np.matmul(grad_affine_3, np_model.params['dense_3/kernel'].T)\n",
    "grad_affine_2 = grad_affine_2_act.copy()\n",
    "grad_affine_2[np_model.forward_cache[\"affine_2\"] < 0] = 0 # ReLU Backprop\n",
    "print(\"Affine 2 gradient shape\", grad_affine_2.shape)"
   ]
  },
  {
   "cell_type": "markdown",
   "id": "1b5cb784-f76d-41cf-bebe-bfbf9888f230",
   "metadata": {},
   "source": [
    "Then I can compute the gradients of layer 2 kernel weights and bias.\n",
    "\n",
    "$$\n",
    "\\frac{\\partial L}{\\partial W_2} = \\frac{\\partial L}{\\partial A_2} \\frac{\\partial A_2}{\\partial W_2}\n",
    "$$\n"
   ]
  },
  {
   "cell_type": "code",
   "execution_count": 12,
   "id": "3d98f0d3-f9bf-4b4d-a7a7-09e19928e3e7",
   "metadata": {},
   "outputs": [
    {
     "name": "stdout",
     "output_type": "stream",
     "text": [
      "Dense 2 kernel shape (6, 3)\n",
      "Dense 2 kernel gradient shape (6, 3)\n"
     ]
    }
   ],
   "source": [
    "print(\"Dense 2 kernel shape\", np_model.params['dense_2/kernel'].shape)\n",
    "grad_dense_2_kernel = np.matmul(np_model.forward_cache[\"affine_1_act\"].T, grad_affine_2)\n",
    "print(\"Dense 2 kernel gradient shape\", grad_dense_2_kernel.shape)"
   ]
  },
  {
   "cell_type": "code",
   "execution_count": 13,
   "id": "3cd80711-5d62-4a53-9022-4f38620e0707",
   "metadata": {},
   "outputs": [
    {
     "name": "stdout",
     "output_type": "stream",
     "text": [
      "Dense 2 bias shape (3,)\n",
      "Dense 2 bias gradient shape (3,)\n"
     ]
    }
   ],
   "source": [
    "print(\"Dense 2 bias shape\", np_model.params['dense_2/bias'].shape)\n",
    "grad_dense_2_bias = np.sum(grad_affine_2.T * 1, axis=1)\n",
    "print(\"Dense 2 bias gradient shape\", grad_dense_2_bias.shape)"
   ]
  },
  {
   "cell_type": "markdown",
   "id": "7a23cfab-8d1c-4fdd-bd2d-97c70d649eb5",
   "metadata": {},
   "source": [
    "Finally, repeat the same process for `dense_1` layer."
   ]
  },
  {
   "cell_type": "code",
   "execution_count": 14,
   "id": "9af5c37d-a71b-4ad2-a9d8-23f40dc6d048",
   "metadata": {},
   "outputs": [
    {
     "name": "stdout",
     "output_type": "stream",
     "text": [
      "Affine 1 shape (32, 6)\n",
      "Affine 1 gradient shape (32, 6)\n"
     ]
    }
   ],
   "source": [
    "print(\"Affine 1 shape\", np_model.forward_cache[\"affine_1\"].shape)\n",
    "grad_affine_1_act = np.matmul(grad_affine_2, np_model.params['dense_2/kernel'].T)\n",
    "\n",
    "grad_affine_1 = grad_affine_1_act.copy()\n",
    "grad_affine_1[np_model.forward_cache[\"affine_1\"] < 0] = 0\n",
    "print(\"Affine 1 gradient shape\", grad_affine_1.shape)"
   ]
  },
  {
   "cell_type": "code",
   "execution_count": 15,
   "id": "1e7b912b-5df3-4d98-8658-a8f24af2268b",
   "metadata": {},
   "outputs": [
    {
     "name": "stdout",
     "output_type": "stream",
     "text": [
      "Dense 1 kernel shape (1, 6)\n",
      "Dense 1 kernel gradient shape (1, 6)\n"
     ]
    }
   ],
   "source": [
    "print(\"Dense 1 kernel shape\", np_model.params['dense_1/kernel'].shape)\n",
    "grad_dense_1_kernel = np.matmul(np_model.forward_cache[\"input\"].T, grad_affine_1)\n",
    "print(\"Dense 1 kernel gradient shape\", grad_dense_1_kernel.shape)"
   ]
  },
  {
   "cell_type": "code",
   "execution_count": 16,
   "id": "0eb1a96b-2251-42f0-938c-fca894b1b4f5",
   "metadata": {},
   "outputs": [
    {
     "name": "stdout",
     "output_type": "stream",
     "text": [
      "Dense 1 bias shape (6,)\n",
      "Dense 1 bias gradient shape (6,)\n"
     ]
    }
   ],
   "source": [
    "print(\"Dense 1 bias shape\", np_model.params['dense_1/bias'].shape)\n",
    "grad_dense_1_bias = np.sum(grad_affine_1 * 1, axis=0)\n",
    "print(\"Dense 1 bias gradient shape\", grad_dense_1_bias.shape)"
   ]
  },
  {
   "cell_type": "markdown",
   "id": "7a2ed866-c48c-4676-9468-683fb7a29d3e",
   "metadata": {},
   "source": [
    "Look at the values of all the gradients computed."
   ]
  },
  {
   "cell_type": "code",
   "execution_count": 17,
   "id": "b4a190ed-eebb-46a9-93e5-ae2086283817",
   "metadata": {},
   "outputs": [
    {
     "name": "stdout",
     "output_type": "stream",
     "text": [
      "Dense 3 kernel gradients\n",
      " [[-1.98181719e-05]\n",
      " [ 0.00000000e+00]\n",
      " [ 0.00000000e+00]]\n",
      "Dense 3 bias gradients\n",
      " [-0.06242857]\n",
      "Dense 2 kernel gradients\n",
      " [[ 0.00000000e+00  0.00000000e+00  0.00000000e+00]\n",
      " [ 0.00000000e+00  0.00000000e+00  0.00000000e+00]\n",
      " [ 0.00000000e+00  0.00000000e+00  0.00000000e+00]\n",
      " [-1.52788221e-05  0.00000000e+00  0.00000000e+00]\n",
      " [-1.07824496e-05  0.00000000e+00  0.00000000e+00]\n",
      " [-1.90400976e-05  0.00000000e+00  0.00000000e+00]]\n",
      "Dense 2 bias gradients\n",
      " [-1.33831172e-03  4.31246958e-05 -1.39318192e-04]\n",
      "Dense 1 kernel gradients\n",
      " [[ 0.00000000e+00  0.00000000e+00  0.00000000e+00 -3.14487300e-05\n",
      "  -3.66081806e-06 -2.22284226e-05]]\n",
      "Dense 1 bias gradients\n",
      " [ 2.42460285e-06  8.34986187e-07  1.92251618e-06 -1.84455999e-05\n",
      "  4.32125198e-08 -1.08221797e-05]\n"
     ]
    }
   ],
   "source": [
    "print(\"Dense 3 kernel gradients\\n\", grad_dense_3_kernel)\n",
    "print(\"Dense 3 bias gradients\\n\", grad_dense_3_bias)\n",
    "print(\"Dense 2 kernel gradients\\n\", grad_dense_2_kernel)\n",
    "print(\"Dense 2 bias gradients\\n\", grad_dense_2_bias)\n",
    "print(\"Dense 1 kernel gradients\\n\", grad_dense_1_kernel)\n",
    "print(\"Dense 1 bias gradients\\n\", grad_dense_1_bias)"
   ]
  },
  {
   "cell_type": "markdown",
   "id": "185f4493-9241-4c0e-8692-0a07533cef72",
   "metadata": {},
   "source": [
    "## Computing Gradient Numerically"
   ]
  },
  {
   "cell_type": "markdown",
   "id": "63c6795c-6ef3-464e-8249-4dfc5dc76d2c",
   "metadata": {},
   "source": [
    "I can define gradients using limits.\n",
    "\n",
    "$$\n",
    "\\frac{\\partial L}{\\partial \\hat{y}} = \\lim_{\\delta \\to 0}  \\frac{L(\\hat{y} + \\delta) + L(\\hat{y} - \\delta)}{2\\delta}\n",
    "$$\n",
    "\n",
    "The same concept applies to every trainable variable, for example:\n",
    "\n",
    "$$\n",
    "\\frac{\\partial L}{\\partial W_{3, i, j}} = \\lim_{\\delta \\to 0}  \\frac{L(W_{3,i,j} + \\delta) + L(W_{3, i, j} - \\delta)}{2\\delta}\n",
    "$$\n",
    "\n",
    "Be aware that the loss and $\\delta$ are scalars, each time I add perturbation to kernel weight, I must add $\\delta$ to a single parameter on a given kernel. This is a very computionally inefficient method but it helps to provide a sanity check."
   ]
  },
  {
   "cell_type": "markdown",
   "id": "c34f6898-819b-49d6-88d7-1e85b5b467aa",
   "metadata": {},
   "source": [
    "Use `numpy.nditer` to provide multi-index iteration. This will save me the trouble of iterating through `i` and `j` and speed things up a bit."
   ]
  },
  {
   "cell_type": "code",
   "execution_count": 18,
   "id": "61c80ede-bf55-42da-80f8-3736262192c2",
   "metadata": {},
   "outputs": [],
   "source": [
    "def numerical_gradient(model, param_name, y_true, delta=1e-8):\n",
    "    numerical_grad = np.zeros_like(model.params[param_name])\n",
    "    nditer = np.nditer(numerical_grad, flags=['multi_index'], op_flags=['readwrite'])\n",
    "    while not nditer.finished:\n",
    "        idx = nditer.multi_index\n",
    "\n",
    "        param = model.params[param_name][idx]\n",
    "    \n",
    "        model.params[param_name][idx] = param + delta\n",
    "        y_pred = model(x)\n",
    "        loss_pos_delta = model.mean_squared_error(y_true, y_pred)\n",
    "\n",
    "        model.params[param_name][idx] = param - delta\n",
    "        y_pred = model(x)\n",
    "        loss_neg_delta = model.mean_squared_error(y_true, y_pred)\n",
    "        \n",
    "        numerical_grad[idx] = (loss_pos_delta - loss_neg_delta) / (2 * delta)\n",
    "        \n",
    "        model.params[param_name][idx] = param\n",
    "        nditer.iternext()\n",
    "    \n",
    "    return numerical_grad"
   ]
  },
  {
   "cell_type": "code",
   "execution_count": 19,
   "id": "7b1b3ef0",
   "metadata": {},
   "outputs": [],
   "source": [
    "x = np.arange(0., 3.2, 0.1)\n",
    "y_true = np.sin(x)\n",
    "\n",
    "x = np.expand_dims(x, axis=-1)\n",
    "y_true = np.expand_dims(y_true, axis=-1)"
   ]
  },
  {
   "cell_type": "code",
   "execution_count": 20,
   "id": "ba2629a3",
   "metadata": {},
   "outputs": [
    {
     "data": {
      "text/plain": [
       "array([[-1.9817481e-05],\n",
       "       [ 0.0000000e+00],\n",
       "       [ 0.0000000e+00]])"
      ]
     },
     "execution_count": 20,
     "metadata": {},
     "output_type": "execute_result"
    }
   ],
   "source": [
    "numerical_grad_dense_3_kernel = numerical_gradient(np_model, 'dense_3/kernel', y_true)\n",
    "numerical_grad_dense_3_kernel"
   ]
  },
  {
   "cell_type": "markdown",
   "id": "a8815c7f",
   "metadata": {},
   "source": [
    "The numerical gradient values should be closely approximate the analytical gradient values. However, they should not be exact match because numerical gradient, afterall, is an approximation."
   ]
  },
  {
   "cell_type": "code",
   "execution_count": 21,
   "id": "658a85f3",
   "metadata": {},
   "outputs": [
    {
     "data": {
      "text/plain": [
       "True"
      ]
     },
     "execution_count": 21,
     "metadata": {},
     "output_type": "execute_result"
    }
   ],
   "source": [
    "np.allclose(numerical_grad_dense_3_kernel, grad_dense_3_kernel)"
   ]
  },
  {
   "cell_type": "code",
   "execution_count": 22,
   "id": "0ef513ea-2c9b-4117-a7a5-6aafaf847805",
   "metadata": {},
   "outputs": [
    {
     "data": {
      "text/plain": [
       "True"
      ]
     },
     "execution_count": 22,
     "metadata": {},
     "output_type": "execute_result"
    }
   ],
   "source": [
    "np.allclose(numerical_gradient(np_model, 'dense_3/bias', y_true), grad_dense_3_bias)"
   ]
  },
  {
   "cell_type": "code",
   "execution_count": 23,
   "id": "d6e2d02b-87c3-4fe6-8652-e57629041ef1",
   "metadata": {},
   "outputs": [
    {
     "data": {
      "text/plain": [
       "True"
      ]
     },
     "execution_count": 23,
     "metadata": {},
     "output_type": "execute_result"
    }
   ],
   "source": [
    "np.allclose(numerical_gradient(np_model, 'dense_2/kernel', y_true), grad_dense_2_kernel)"
   ]
  },
  {
   "cell_type": "markdown",
   "id": "d379bc21-1d02-4e06-93ac-64f2ca47191e",
   "metadata": {},
   "source": [
    "Gradients of bias seem to be less precise as the gradient is back-propagated into deeper layers."
   ]
  },
  {
   "cell_type": "code",
   "execution_count": 24,
   "id": "a61c0dff",
   "metadata": {},
   "outputs": [
    {
     "name": "stdout",
     "output_type": "stream",
     "text": [
      "Numerical: [-0.0014  0.     -0.0001]\n",
      "Analytical: [-0.0013  0.     -0.0001]\n"
     ]
    },
    {
     "data": {
      "text/plain": [
       "True"
      ]
     },
     "execution_count": 24,
     "metadata": {},
     "output_type": "execute_result"
    }
   ],
   "source": [
    "num_grad_dense_2_bias = numerical_gradient(np_model, 'dense_2/bias', y_true)\n",
    "print(\"Numerical:\", np.round(num_grad_dense_2_bias, decimals=4))\n",
    "print(\"Analytical:\", np.round(grad_dense_2_bias, decimals=4))\n",
    "np.allclose(num_grad_dense_2_bias, grad_dense_2_bias, atol=1e-4)"
   ]
  },
  {
   "cell_type": "code",
   "execution_count": 25,
   "id": "80049a1d",
   "metadata": {},
   "outputs": [
    {
     "data": {
      "text/plain": [
       "True"
      ]
     },
     "execution_count": 25,
     "metadata": {},
     "output_type": "execute_result"
    }
   ],
   "source": [
    "np.allclose(numerical_gradient(np_model, 'dense_1/kernel', y_true), grad_dense_1_kernel)"
   ]
  },
  {
   "cell_type": "code",
   "execution_count": 26,
   "id": "8dd46626",
   "metadata": {},
   "outputs": [
    {
     "name": "stdout",
     "output_type": "stream",
     "text": [
      "Numerical: [ 0.  0.  0. -0. -0. -0.]\n",
      "Analytical: [ 0.  0.  0. -0.  0. -0.]\n"
     ]
    },
    {
     "data": {
      "text/plain": [
       "True"
      ]
     },
     "execution_count": 26,
     "metadata": {},
     "output_type": "execute_result"
    }
   ],
   "source": [
    "num_grad_dense_1_bias = numerical_gradient(np_model, 'dense_1/bias', y_true)\n",
    "print(\"Numerical:\", np.round(num_grad_dense_1_bias, decimals=4))\n",
    "print(\"Analytical:\", np.round(grad_dense_1_bias, decimals=4))\n",
    "np.allclose(num_grad_dense_1_bias, grad_dense_1_bias, atol=1e-4)"
   ]
  }
 ],
 "metadata": {
  "kernelspec": {
   "display_name": "Python 3 (ipykernel)",
   "language": "python",
   "name": "python3"
  },
  "language_info": {
   "codemirror_mode": {
    "name": "ipython",
    "version": 3
   },
   "file_extension": ".py",
   "mimetype": "text/x-python",
   "name": "python",
   "nbconvert_exporter": "python",
   "pygments_lexer": "ipython3",
   "version": "3.8.10"
  }
 },
 "nbformat": 4,
 "nbformat_minor": 5
}
