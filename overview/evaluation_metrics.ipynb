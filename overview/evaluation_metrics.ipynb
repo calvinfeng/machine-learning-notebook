{
 "cells": [
  {
   "cell_type": "markdown",
   "id": "least-demand",
   "metadata": {},
   "source": [
    "# ML Model Evaluation Tools & Metrics"
   ]
  },
  {
   "cell_type": "markdown",
   "id": "victorian-riding",
   "metadata": {},
   "source": [
    "[Source Part 1](https://towardsdatascience.com/20-popular-machine-learning-metrics-part-1-classification-regression-evaluation-metrics-1ca3e282a2ce)\n",
    "\n",
    "[Source Part 2](https://towardsdatascience.com/20-popular-machine-learning-metrics-part-2-ranking-statistical-metrics-22c3e5a937b6)"
   ]
  },
  {
   "cell_type": "markdown",
   "id": "advised-basketball",
   "metadata": {},
   "source": [
    "## Classification Metrics"
   ]
  },
  {
   "cell_type": "markdown",
   "id": "alternative-source",
   "metadata": {},
   "source": [
    "### Confusion Matrix\n",
    "\n",
    "Confusion matrix is a tabular visualization of the model predictions versus ground truth labels. It's often useful to look at a confusion matrix for a quick idea of the recall and precision rate.\n",
    "\n",
    "For example, we have 1000 non-cat images and 100 cat images. We feed it into a classification model and receive the following result.\n",
    "\n",
    "![Confusion Matrix](./assets/confusion.png)\n",
    "\n",
    "We will use this example and its confusion matrix to derive the evaluation metrics."
   ]
  },
  {
   "cell_type": "markdown",
   "id": "french-application",
   "metadata": {},
   "source": [
    "### Accuracy\n",
    "\n",
    "Accuracy is the number of correct predictions divided by the total number of predictions.\n",
    "\n",
    "$$\n",
    "\\text{Accuracy} = \\frac{TP + TN}{TP + FP + TN + FN} = \\frac{90 + 940}{1100} = 0.936\n",
    "$$"
   ]
  },
  {
   "cell_type": "markdown",
   "id": "configured-california",
   "metadata": {},
   "source": [
    "### Precision\n",
    "\n",
    "If your class distribution is imbalanced (i.e. one class is more frequently appearing than others), accuracy is not a reliable metric. If the model consistently predicts all samples as the most frequent class, the model has high accuracy but it is deceiving. We need to use precision to understand the model's performance.\n",
    "\n",
    "$$\n",
    "\\text{Precision}_\\text{positive} = \\frac{TP}{TP + FP} = \\frac{90}{90+60} = 0.60\n",
    "$$\n",
    "\n",
    "$$\n",
    "\\text{Precision}_\\text{negative} = \\frac{TN}{TN + FN} = \\frac{940}{940+10} = 0.989\n",
    "$$\n",
    "\n",
    "We can see that the model is not performing well on detecting cat. As we optimize for precision, our model might become more \"conservative\" in what it considers to be a \"cat\". This will cause our recall score to drop (see next section)."
   ]
  },
  {
   "cell_type": "markdown",
   "id": "false-newport",
   "metadata": {},
   "source": [
    "### Recall\n",
    "\n",
    "Recall is the fraction of samples from a class which are correctly predicted by the model. For a cat image, how often does the model predict correctly? For a non-cat image, how often does the model predict correctly?\n",
    "\n",
    "$$\n",
    "\\text{Recall}_\\text{positive} = \\frac{TP}{TP + FN} = \\frac{90}{90+10} = 0.90\n",
    "$$\n",
    "\n",
    "$$\n",
    "\\text{Recall}_\\text{negative} = \\frac{TN}{TN + FP} = \\frac{940}{940+60} = 0.94\n",
    "$$\n",
    "\n",
    "High recall generally means that we try to minimize false negative by predicting more positive even if they are false positive. This will cause our precision to drop.\n",
    "\n",
    "> If the cost for a FP is low, e.g. detecting cancer for a patient, then we should optimize\n",
    "  for recall. This is because the cost for FN is high in this scenario."
   ]
  },
  {
   "cell_type": "markdown",
   "id": "geological-fraud",
   "metadata": {},
   "source": [
    "### F1 Score\n",
    "\n",
    "Depending on the application, it may need a higher priority for recall or precision. But there are many applications in which both recall and precision are important. Therefore, it is natural to think of a way to combine them into one single score.\n",
    "\n",
    "**F1** is the harmonic mean of precision and recall.\n",
    "\n",
    "$$\n",
    "\\text{F1} = \\frac{2 * \\text{Precision} * \\text{Recall}}{\\text{Precision} + \\text{Recall}}\n",
    "$$\n",
    "\n",
    "There is always a trade-off between precision and recall of a model. If you want to make the precision high, you should expect to see a drop in recall, vice versa. "
   ]
  },
  {
   "cell_type": "markdown",
   "id": "gorgeous-circuit",
   "metadata": {},
   "source": [
    "### Sensitivity and Specificity\n",
    "\n",
    "Sensitivity and specificity are just recalls for true positive and true negative.\n",
    "\n",
    "$$\n",
    "\\text{Sensitivity} = \\text{True Positive Rate} = \\frac{TP}{TP + FN}\n",
    "$$ \n",
    "\n",
    "$$\n",
    "\\text{Specificity} = \\text{True Negative Rate} = \\frac{TN}{TN + FP}\n",
    "$$"
   ]
  },
  {
   "cell_type": "markdown",
   "id": "split-horizon",
   "metadata": {},
   "source": [
    "### ROC Curve\n",
    "\n",
    "The **receiver operating characteristic** curve is a plot which shows the performance of a binary classifier as function of its cut-off threshold. It shows the true positive rate against the false positive rate for various threshold values.\n",
    "\n",
    "Classification models produce probabilities for samples as predictions. The models compare the output probability with some cut-off threshold to decide whether the output is positive or negative. For example, a model may predict `[0.45, 0.60, 0.70, 0.30]` for 4 sample images. \n",
    "\n",
    "- If `cut-off=0.5` then predicted labels are `[0, 1, 1, 0]`\n",
    "- If `cut-off=0.2` then predicted labels are `[1, 1, 1, 1]`\n",
    "- If `cut-off=0.8` then predicted labels are `[0, 0, 0, 0]`\n",
    "\n",
    "The cut-off rate will directly affect the precision and recall rates. The graph will look like the following.\n",
    "\n",
    "![ROC Curve](https://upload.wikimedia.org/wikipedia/commons/3/36/Roc-draft-xkcd-style.svg)\n",
    "\n",
    "ROC curve is a useful tool for picking the best cut-off threshold for the model."
   ]
  },
  {
   "cell_type": "markdown",
   "id": "oriental-spare",
   "metadata": {},
   "source": [
    "### AUC\n",
    "\n",
    "The **area under of the curve** is an aggregated measure of performance of a binary classifier on all possible threshold values (and therefore it is threshold invariant). AUC is an integral over all threshold values over the ROC curve. One way to interpreting AUC is _the probability that the model ranks a random positive example more highly than a random negative example_. A model whose predictions are 100% wrong has an AUC of 0.0, one whose predictions are 100% correct has an AUC of 1.0.\n",
    "\n",
    "![Area Under the Curve](https://developers.google.com/machine-learning/crash-course/images/AUC.svg)"
   ]
  },
  {
   "cell_type": "markdown",
   "id": "broad-assembly",
   "metadata": {},
   "source": [
    "## Regression Metrics"
   ]
  },
  {
   "cell_type": "markdown",
   "id": "sound-separate",
   "metadata": {},
   "source": [
    "### MSE\n",
    "\n",
    "Mean squared error finds the average squared error between predicted and actual values.\n",
    "\n",
    "$$\n",
    "\\text{MSE} = \\frac{1}{N} \\Sigma^N_{i=1} (y_i - \\hat{y}_i)^2\n",
    "$$\n",
    "\n",
    "Some would call this variance. If the error term is square rooted, then it's called **RMSE** which shows what is the average deviation in the model's predictions from the target values."
   ]
  },
  {
   "cell_type": "markdown",
   "id": "boring-discrimination",
   "metadata": {},
   "source": [
    "### MAE\n",
    "\n",
    "Mean absolute error finds the average absolute distance between predicted and target values.\n",
    "\n",
    "$$\n",
    "\\text{MAE} = \\frac{1}{N}\\Sigma^N_{i=1} \\left | y_i - \\hat{y}_i \\right |\n",
    "$$\n",
    "\n",
    "MAE is known to be more robust to the outliers than MSE. The main reason being that in MSE, by squaring the errors, the outliers get more attention and dominance in the final error, which will impact the model parameter updates.\n",
    "\n",
    "If we assume a linear dependence between features and targets, then MSE and MAE correspond to the maximum likelihood estimation on the model parameters by assuming Gaussian and Laplace priors on the model errors respectively. Proof can be found [here](https://www.jessicayung.com/mse-as-maximum-likelihood/)"
   ]
  },
  {
   "cell_type": "markdown",
   "id": "mature-shark",
   "metadata": {},
   "source": [
    "## Ranking Metrics\n",
    "\n",
    "In learning to rank, the model tries predict the rank (or relative order) of a list of items for a given task. The algorithms for ranking can be grouped into\n",
    "\n",
    "- _Point-wise models_ which try to predict a matching score for each query-document pair in the dataset and use\n",
    "  it for ranking the items.\n",
    "- _Pair-wise models_ which try to learn a binary classifier that can tell which document is more relevant to a\n",
    "  query, given pair of documents.\n",
    "- _List-wise models_ which try to directly optimize the value of one of the above evaluation measures, averaged\n",
    "  over all queries in the training data.\n",
    "\n",
    "During evaluation, given the ground-truth order of the list of items for several queries, we want to know how good\n",
    "the predicted order of those list of items is."
   ]
  },
  {
   "cell_type": "markdown",
   "id": "foreign-broad",
   "metadata": {},
   "source": [
    "### MRR\n",
    "\n",
    "The **mean reciprocal rank** is the average of the reciprocal ranks of the first relevant item for a set of queries Q, and is defined below.\n",
    "\n",
    "$$\n",
    "\\text{MRR} = \\frac{1}{\\left | Q \\right |} \\Sigma^{Q}_{i=1} \\frac{1}{\\text{rank}_i}\n",
    "$$\n",
    "\n",
    "For example, \n",
    "\n",
    "| Query  | Proposed Ranking          | Correct Response | Rank | Reciprocal Rank |\n",
    "|--------|---------------------------|------------------|------|-----------------|\n",
    "| Child  | Childs, Children, Childes | Children         | 2    | 1 / 2           |\n",
    "| Medium | Medium, Mediums, Media    | Media            | 3    | 1 / 3           |\n",
    "| Virus  | Viruses, Viri, Virii      | Viruses          | 1    | 1               |\n",
    "\n",
    "The perfect ranking score is 1 because it's normalized by number of queries. However, one of the limitations of MRR is that, it only takes the rank of one of the items (the most relevant one) into account, and ignores other items. This may not be a good metric for cases that we want to browse a list of related items."
   ]
  },
  {
   "cell_type": "markdown",
   "id": "following-venice",
   "metadata": {},
   "source": [
    "### Precision@K\n",
    "\n",
    "Precision at K is defined as the number of relevant documents among the top K documents. This is similar to the regular precision except that we only care about K items instead of the whole test sets. It's essentially calculating the number of true positive over all positives.\n",
    "\n",
    "$$\n",
    "\\text{Precision@K} = \\frac\n",
    "{\\text{# of recommended items @K that are relevant}}\n",
    "{\\text{# of recommended items @K}}\n",
    "$$\n",
    "\n",
    "For example, if we search for \"hand sanitizer\" on Google and the query returns 10 links, but only 8 links are relevant to the search query, then P@10 is `0.8`.\n",
    "\n",
    "Disadvantage wise, Precision@K fails to take into account the position of the relevant documents among the top K items."
   ]
  },
  {
   "cell_type": "markdown",
   "id": "affected-limit",
   "metadata": {},
   "source": [
    "### DCG and NDCG\n",
    "\n",
    "**Normalized Discounted Cumulative Gain**(NDCG) is perhaps the most popular metric for evaluating learning to rank systems. In contrast to the previous metrics, NDCG takes the order and relative importance of the documents into account, and values putting highly relevant documents high up the recommended lists.\n",
    "\n",
    "**Cumulative Gain**(CG) of a set of retrieved documents is the sum of their relevance scores to the query. Each score can be arbitrarily defined. For example, I can say `0` is not relevant, `1` is somewhat relevant, and `2` is relevant. The score is the training label.\n",
    "\n",
    "$$\n",
    "\\text{CG}_{\\text{N top documents}} = \\Sigma^{N}_{i=1} \\text{score}_i\n",
    "$$\n",
    "\n",
    "**Discounted Cumulative Gain** (DCG) is the weighted version of CG, in which a logarithmic reduction factor is used to discount the relevance scores proportional to the position of the results. We want to give higher priority to the first few items (than the later ones) to be relevant. Usually people only look at the top few search results.\n",
    "\n",
    "$$\n",
    "\\text{DCG}_{\\text{N top documents}} = \\Sigma^{N}_{i=1} \\frac{\\text{score}_i}{log_2(i + 1)}\n",
    "$$\n",
    "\n",
    "One may ask why reduction by log? Someone back in 2013 had provided a theoretical analysis on how log provides consistent result on benchmarking different ranking algorithm [A Theoretical Analysis of NDCG Type Ranking Measures](https://arxiv.org/pdf/1304.6480.pdf).\n",
    "\n",
    "Here's another version\n",
    "\n",
    "$$\n",
    "\\text{DCG}_{\\text{N top documents}} = \\Sigma^{N}_{i=1} \\frac{2^{\\text{score}_i} - 1}{log_2(i+1)}\n",
    "$$\n",
    "\n",
    "**Normalized Discounted Cumulative Gain** (NDCG) tries to further enhance DCG to better suit real world applications. Since the retrieve set of items may vary in size among different queries or systems, NDCG trie to compare the performance using the normalized version of DCG. It sorts documents of a result list by relevance, finds the highest DCG (achieved by an ideal system) at position `p`.\n",
    "\n",
    "$$\n",
    "\\text{NDCG}_{\\text{N top documents}} = \\frac{\\text{DCG}_N}{\\text{IDCG}_N}\n",
    "$$\n",
    "\n",
    "and\n",
    "\n",
    "$$\n",
    "\\text{IDCG}_{\\text{N top documents}} = \\Sigma^{REL_N}_{i=1} \\frac{2^{\\text{score}_i} - 1}{log_2(i+1)}\n",
    "$$\n",
    "\n",
    "$REL_N$ represents the list of relevant documents (ordered by their relevance) in the corpus up to position `N`."
   ]
  },
  {
   "cell_type": "markdown",
   "id": "advanced-chicken",
   "metadata": {},
   "source": [
    "## Statistical Metrics\n",
    "\n",
    "These are more general statistical metrics used by many predictive tasks."
   ]
  },
  {
   "cell_type": "markdown",
   "id": "sudden-analysis",
   "metadata": {},
   "source": [
    "### Pearson Correlation Coefficient\n",
    "\n",
    "Correlation coefficient of two random variables (or any two vector/matrix) shows their statistical dependence. Low correlation means they are independent.\n",
    "\n",
    "$$\n",
    "\\text{correlation}(X,Y) = \\frac{cov(X, Y)}{\\sigma_X \\sigma_Y} = \\frac{\\text{E}[(X - \\mu_X)(Y - \\mu_y)]}{\\sigma_X \\sigma_Y}\n",
    "$$\n",
    "\n",
    "The $\\sigma$ and $\\mu$ denote the mean and standard deviation of each variable, respectively. In most cases, the underlying statistical distribution of variables is not known, and all we have are N samples of that random variable. In those cases, we need to use **sample correlation coefficient** of the two vectors X and Y.\n",
    "\n",
    "$$\n",
    "\\text{correlation}(X, Y) = \\frac{\\Sigma^N_{i=1} (x_i - \\bar{x})(y_i - \\bar{y})}{\\sqrt{\\Sigma^N_{i=1}(x_i - \\bar{x})^2\\Sigma^N_{i=1}(y_i - \\bar{y})^2}}\n",
    "$$\n",
    "\n",
    "The correlation coefficient of the two variables is always in the range `[-1, 1]`. The two variables are known to be independent if and only if their correlation is 0, not -1, not +1."
   ]
  },
  {
   "cell_type": "markdown",
   "id": "found-namibia",
   "metadata": {},
   "source": [
    "### Coefficient of Determination \n",
    "\n",
    "Coefficient of determination or $R^2$ is formally defined as the proportion of the variance in the dependent variable that is predictable from the independent variable(s). Suppose we have `N` samples and `N` labels, our model produces `N` predictions. Let's use $y_i$ to denote `labels[i]` and $\\hat{y}_i$ to denote `predicted[i]`.\n",
    "\n",
    "The mean of the observed data is:\n",
    "\n",
    "$$\n",
    "\\bar{y} = \\frac{1}{N} \\Sigma^{N}_{i=1} y_i\n",
    "$$\n",
    "\n",
    "The **sum** of **squares** is:\n",
    "\n",
    "$$\n",
    "SS = \\Sigma^{N}_{i=1} (y_i - \\bar{y})^2\n",
    "$$\n",
    "\n",
    "The residual sum of squares is:\n",
    "\n",
    "$$\n",
    "SS_{\\text{residual}} = \\Sigma^{N}_{i=1} (y_i - \\hat{y}_i)^2\n",
    "$$\n",
    "\n",
    "Then the coefficient of determination is:\n",
    "\n",
    "$$\n",
    "R^2 = 1 - \\frac{SS_{\\text{residual}}}{SS}\n",
    "$$\n",
    "\n",
    "If the model's predictions match the observed values, then the coefficient is 1. If a model always predicts the mean value of the observed data, then the coefficient is 0."
   ]
  }
 ],
 "metadata": {
  "kernelspec": {
   "display_name": "Python 3",
   "language": "python",
   "name": "python3"
  },
  "language_info": {
   "codemirror_mode": {
    "name": "ipython",
    "version": 3
   },
   "file_extension": ".py",
   "mimetype": "text/x-python",
   "name": "python",
   "nbconvert_exporter": "python",
   "pygments_lexer": "ipython3",
   "version": "3.8.7"
  }
 },
 "nbformat": 4,
 "nbformat_minor": 5
}
